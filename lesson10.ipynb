{
  "nbformat": 4,
  "nbformat_minor": 0,
  "metadata": {
    "accelerator": "GPU",
    "colab": {
      "provenance": [],
      "collapsed_sections": [],
      "include_colab_link": true
    },
    "kernelspec": {
      "display_name": "Python 3",
      "name": "python3"
    }
  },
  "cells": [
    {
      "cell_type": "markdown",
      "metadata": {
        "id": "view-in-github",
        "colab_type": "text"
      },
      "source": [
        "<a href=\"https://colab.research.google.com/github/bkvkrll/-Introduction-to-Natural-Language-Processing/blob/main/lesson10.ipynb\" target=\"_parent\"><img src=\"https://colab.research.google.com/assets/colab-badge.svg\" alt=\"Open In Colab\"/></a>"
      ]
    },
    {
      "cell_type": "markdown",
      "source": [
        "Урок 10. Машинный перевод. Модель seq2seq и механизм внимания\n",
        "\n",
        "Разобраться с моделькой перевода как она устроена\n",
        "запустить для перевода с русского на английский (при желании можно взять другие пары языков) два варианта с вниманием и без внимания\n",
        "оценить качество насколько корректно переводит (для теста отобрать примеры с увеличением длины текста) (так как оценка визуальная достаточно 20-ти примеров в тестовой выборке)"
      ],
      "metadata": {
        "id": "ULIP1wgON8b1"
      }
    },
    {
      "cell_type": "markdown",
      "metadata": {
        "id": "J0Qjg6vuaHNt"
      },
      "source": [
        "# Neural machine translation with attention"
      ]
    },
    {
      "cell_type": "code",
      "metadata": {
        "id": "tnxXKDjq3jEL"
      },
      "source": [
        "import tensorflow as tf\n",
        "\n",
        "import matplotlib.pyplot as plt\n",
        "import matplotlib.ticker as ticker\n",
        "from sklearn.model_selection import train_test_split\n",
        "\n",
        "import unicodedata\n",
        "import re\n",
        "import numpy as np\n",
        "import os\n",
        "import io\n",
        "import time"
      ],
      "execution_count": 1,
      "outputs": []
    },
    {
      "cell_type": "markdown",
      "metadata": {
        "id": "wfodePkj3jEa"
      },
      "source": [
        "## Download and prepare the dataset\n",
        "\n",
        "We'll use a language dataset provided by http://www.manythings.org/anki/"
      ]
    },
    {
      "cell_type": "code",
      "metadata": {
        "id": "CNvjhDyAKk3U",
        "colab": {
          "base_uri": "https://localhost:8080/"
        },
        "outputId": "66620bfd-b800-4668-9a8a-e2f4c9d4635d"
      },
      "source": [
        "!wget http://www.manythings.org/anki/rus-eng.zip"
      ],
      "execution_count": 2,
      "outputs": [
        {
          "output_type": "stream",
          "name": "stdout",
          "text": [
            "--2022-09-05 10:40:54--  http://www.manythings.org/anki/rus-eng.zip\n",
            "Resolving www.manythings.org (www.manythings.org)... 173.254.30.110\n",
            "Connecting to www.manythings.org (www.manythings.org)|173.254.30.110|:80... connected.\n",
            "HTTP request sent, awaiting response... 200 OK\n",
            "Length: 14819554 (14M) [application/zip]\n",
            "Saving to: ‘rus-eng.zip’\n",
            "\n",
            "rus-eng.zip         100%[===================>]  14.13M  8.61MB/s    in 1.6s    \n",
            "\n",
            "2022-09-05 10:40:56 (8.61 MB/s) - ‘rus-eng.zip’ saved [14819554/14819554]\n",
            "\n"
          ]
        }
      ]
    },
    {
      "cell_type": "code",
      "metadata": {
        "id": "83bg17Lr-7XK",
        "colab": {
          "base_uri": "https://localhost:8080/"
        },
        "outputId": "894a50f4-a8f0-4203-d149-ddc0a55e8785"
      },
      "source": [
        "!mkdir rus-eng\n",
        "!unzip rus-eng.zip -d rus-eng/"
      ],
      "execution_count": 3,
      "outputs": [
        {
          "output_type": "stream",
          "name": "stdout",
          "text": [
            "Archive:  rus-eng.zip\n",
            "  inflating: rus-eng/rus.txt         \n",
            "  inflating: rus-eng/_about.txt      \n"
          ]
        }
      ]
    },
    {
      "cell_type": "code",
      "metadata": {
        "id": "7o5L92efMMhf",
        "colab": {
          "base_uri": "https://localhost:8080/"
        },
        "outputId": "f14e322b-16b8-425d-d901-7c3baa274ed8"
      },
      "source": [
        "!ls /content/rus-eng/ -lah"
      ],
      "execution_count": 4,
      "outputs": [
        {
          "output_type": "stream",
          "name": "stdout",
          "text": [
            "total 71M\n",
            "drwxr-xr-x 2 root root 4.0K Sep  5 10:40 .\n",
            "drwxr-xr-x 1 root root 4.0K Sep  5 10:40 ..\n",
            "-rw-r--r-- 1 root root 1.5K May  2 01:29 _about.txt\n",
            "-rw-r--r-- 1 root root  71M May  2 01:29 rus.txt\n"
          ]
        }
      ]
    },
    {
      "cell_type": "code",
      "metadata": {
        "id": "kRVATYOgJs1b"
      },
      "source": [
        "# Download the file\n",
        "path_to_file = \"/content/rus-eng/rus.txt\""
      ],
      "execution_count": 5,
      "outputs": []
    },
    {
      "cell_type": "code",
      "metadata": {
        "id": "rd0jw-eC3jEh"
      },
      "source": [
        "def preprocess_sentence(w):\n",
        "  w = w.lower().strip()\n",
        "\n",
        "  # creating a space between a word and the punctuation following it\n",
        "  # eg: \"he is a boy.\" => \"he is a boy .\"\n",
        "  # Reference:- https://stackoverflow.com/questions/3645931/python-padding-punctuation-with-white-spaces-keeping-punctuation\n",
        "  w = re.sub(r\"([?.!,])\", r\" \\1 \", w)\n",
        "  w = re.sub(r'[\" \"]+', \" \", w)\n",
        "\n",
        "  # replacing everything with space except (a-z, A-Z, \".\", \"?\", \"!\", \",\")\n",
        "  w = re.sub(r\"[^a-zA-Zа-яА-Я?.!,']+\", \" \", w)\n",
        "\n",
        "  w = w.strip()\n",
        "\n",
        "  # adding a start and an end token to the sentence\n",
        "  # so that the model know when to start and stop predicting.\n",
        "  w = '<start> ' + w + ' <end>'\n",
        "  return w"
      ],
      "execution_count": 6,
      "outputs": []
    },
    {
      "cell_type": "code",
      "metadata": {
        "id": "yV9lZXQXNbnH",
        "colab": {
          "base_uri": "https://localhost:8080/",
          "height": 35
        },
        "outputId": "2a21ad39-3efa-48c3-f034-a1c6d88a7587"
      },
      "source": [
        "preprocess_sentence(\"I can't go.\")"
      ],
      "execution_count": 7,
      "outputs": [
        {
          "output_type": "execute_result",
          "data": {
            "text/plain": [
              "\"<start> i can't go . <end>\""
            ],
            "application/vnd.google.colaboratory.intrinsic+json": {
              "type": "string"
            }
          },
          "metadata": {},
          "execution_count": 7
        }
      ]
    },
    {
      "cell_type": "code",
      "metadata": {
        "id": "OHn4Dct23jEm"
      },
      "source": [
        "# 1. Remove the accents\n",
        "# 2. Clean the sentences\n",
        "# 3. Return word pairs in the format: [ENG, RUS]\n",
        "def create_dataset(path, num_examples):\n",
        "  lines = io.open(path, encoding='UTF-8').read().strip().split('\\n')\n",
        "\n",
        "  word_pairs = [[preprocess_sentence(w) for w in l.split('\\t')[:2]]  for l in lines[:num_examples]]\n",
        "\n",
        "  return zip(*word_pairs)"
      ],
      "execution_count": 8,
      "outputs": []
    },
    {
      "cell_type": "code",
      "metadata": {
        "id": "cTbSbBz55QtF",
        "colab": {
          "base_uri": "https://localhost:8080/"
        },
        "outputId": "9e8b24ef-0a26-42aa-d02a-601aa6319a9b"
      },
      "source": [
        "en, ru = create_dataset(path_to_file, None)\n",
        "print(en[-1])\n",
        "print(ru[-1])"
      ],
      "execution_count": 9,
      "outputs": [
        {
          "output_type": "stream",
          "name": "stdout",
          "text": [
            "<start> doubtless there exists in this world precisely the right woman for any given man to marry and vice versa but when you consider that a human being has the opportunity of being acquainted with only a few hundred people , and out of the few hundred that there are but a dozen or less whom he knows intimately , and out of the dozen , one or two friends at most , it will easily be seen , when we remember the number of millions who inhabit this world , that probably , since the earth was created , the right man has never yet met the right woman . <end>\n",
            "<start> несомненно , для каждого мужчины в этом мире где то есть подходящая женщина , которая может стать ему женой , обратное верно и для женщин . но если учесть , что у человека может быть максимум несколько сотен знакомых , из которых лишь дюжина , а то и меньше , тех , кого он знает близко , а из этой дюжины у него один или от силы два друга , то можно легко увидеть , что с уч том миллионов живущих на земле людей , ни один подходящий мужчина , возможно , ещ не встретил подходящую женщину . <end>\n"
          ]
        }
      ]
    },
    {
      "cell_type": "code",
      "metadata": {
        "id": "bIOn8RCNDJXG"
      },
      "source": [
        "def tokenize(lang):\n",
        "  lang_tokenizer = tf.keras.preprocessing.text.Tokenizer(\n",
        "      filters='')\n",
        "  lang_tokenizer.fit_on_texts(lang)\n",
        "\n",
        "  tensor = lang_tokenizer.texts_to_sequences(lang)\n",
        "\n",
        "  tensor = tf.keras.preprocessing.sequence.pad_sequences(tensor,\n",
        "                                                         padding='post')\n",
        "\n",
        "  return tensor, lang_tokenizer"
      ],
      "execution_count": 10,
      "outputs": []
    },
    {
      "cell_type": "code",
      "metadata": {
        "id": "eAY9k49G3jE_"
      },
      "source": [
        "def load_dataset(path, num_examples=None):\n",
        "  # creating cleaned input, output pairs\n",
        "  targ_lang, inp_lang = create_dataset(path, num_examples)\n",
        "\n",
        "  input_tensor, inp_lang_tokenizer = tokenize(inp_lang)\n",
        "  target_tensor, targ_lang_tokenizer = tokenize(targ_lang)\n",
        "\n",
        "  return input_tensor, target_tensor, inp_lang_tokenizer, targ_lang_tokenizer"
      ],
      "execution_count": 11,
      "outputs": []
    },
    {
      "cell_type": "markdown",
      "metadata": {
        "id": "GOi42V79Ydlr"
      },
      "source": [
        "### Limit the size of the dataset to experiment faster (optional)\n"
      ]
    },
    {
      "cell_type": "code",
      "metadata": {
        "id": "C8j9g9AnIeZV",
        "colab": {
          "base_uri": "https://localhost:8080/"
        },
        "outputId": "3cb25a44-1a38-4638-d215-40617c0cf5ed"
      },
      "source": [
        "len(en), len(ru)"
      ],
      "execution_count": 12,
      "outputs": [
        {
          "output_type": "execute_result",
          "data": {
            "text/plain": [
              "(444587, 444587)"
            ]
          },
          "metadata": {},
          "execution_count": 12
        }
      ]
    },
    {
      "cell_type": "code",
      "metadata": {
        "id": "cnxC7q-j3jFD"
      },
      "source": [
        "# Try experimenting with the size of that dataset\n",
        "num_examples = 100000\n",
        "input_tensor, target_tensor, inp_lang, targ_lang = load_dataset(path_to_file, num_examples)\n",
        "\n",
        "# Calculate max_length of the target tensors\n",
        "max_length_targ, max_length_inp = target_tensor.shape[1], input_tensor.shape[1]"
      ],
      "execution_count": 13,
      "outputs": []
    },
    {
      "cell_type": "code",
      "metadata": {
        "id": "4QILQkOs3jFG",
        "colab": {
          "base_uri": "https://localhost:8080/"
        },
        "outputId": "ae0685fe-af97-4594-8010-4522c23110b1"
      },
      "source": [
        "# Creating training and validation sets using an 80-20 split\n",
        "input_tensor_train, input_tensor_val, target_tensor_train, target_tensor_val = train_test_split(input_tensor, target_tensor, test_size=0.2)\n",
        "\n",
        "# Show length\n",
        "print(len(input_tensor_train), len(target_tensor_train), len(input_tensor_val), len(target_tensor_val))"
      ],
      "execution_count": 14,
      "outputs": [
        {
          "output_type": "stream",
          "name": "stdout",
          "text": [
            "80000 80000 20000 20000\n"
          ]
        }
      ]
    },
    {
      "cell_type": "code",
      "metadata": {
        "id": "lJPmLZGMeD5q"
      },
      "source": [
        "def convert(lang, tensor):\n",
        "  for t in tensor:\n",
        "    if t!=0:\n",
        "      print (\"%d ----> %s\" % (t, lang.index_word[t]))"
      ],
      "execution_count": 15,
      "outputs": []
    },
    {
      "cell_type": "code",
      "metadata": {
        "id": "VXukARTDd7MT",
        "colab": {
          "base_uri": "https://localhost:8080/"
        },
        "outputId": "6e2889d4-04ab-4331-868f-0ee004475111"
      },
      "source": [
        "print (\"Input Language; index to word mapping\")\n",
        "convert(inp_lang, input_tensor_train[0])\n",
        "print ()\n",
        "print (\"Target Language; index to word mapping\")\n",
        "convert(targ_lang, target_tensor_train[0])"
      ],
      "execution_count": 16,
      "outputs": [
        {
          "output_type": "stream",
          "name": "stdout",
          "text": [
            "Input Language; index to word mapping\n",
            "1 ----> <start>\n",
            "10 ----> ты\n",
            "2757 ----> особенный\n",
            "3 ----> .\n",
            "2 ----> <end>\n",
            "\n",
            "Target Language; index to word mapping\n",
            "1 ----> <start>\n",
            "7 ----> you\n",
            "21 ----> are\n",
            "1301 ----> special\n",
            "3 ----> .\n",
            "2 ----> <end>\n"
          ]
        }
      ]
    },
    {
      "cell_type": "markdown",
      "metadata": {
        "id": "rgCLkfv5uO3d"
      },
      "source": [
        "### Create a tf.data dataset"
      ]
    },
    {
      "cell_type": "code",
      "metadata": {
        "id": "TqHsArVZ3jFS"
      },
      "source": [
        "BUFFER_SIZE = len(input_tensor_train)\n",
        "BATCH_SIZE = 64\n",
        "steps_per_epoch = len(input_tensor_train)//BATCH_SIZE\n",
        "embedding_dim = 256\n",
        "units = 1024\n",
        "vocab_inp_size = len(inp_lang.word_index)+1\n",
        "vocab_tar_size = len(targ_lang.word_index)+1\n",
        "\n",
        "dataset = tf.data.Dataset.from_tensor_slices((input_tensor_train, target_tensor_train)).shuffle(BUFFER_SIZE)\n",
        "dataset = dataset.batch(BATCH_SIZE, drop_remainder=True)"
      ],
      "execution_count": 17,
      "outputs": []
    },
    {
      "cell_type": "code",
      "metadata": {
        "id": "qc6-NK1GtWQt",
        "colab": {
          "base_uri": "https://localhost:8080/"
        },
        "outputId": "e75f5301-f9ca-4713-9e06-d02f81df7f99"
      },
      "source": [
        "example_input_batch, example_target_batch = next(iter(dataset))\n",
        "example_input_batch.shape, example_target_batch.shape"
      ],
      "execution_count": 18,
      "outputs": [
        {
          "output_type": "execute_result",
          "data": {
            "text/plain": [
              "(TensorShape([64, 15]), TensorShape([64, 11]))"
            ]
          },
          "metadata": {},
          "execution_count": 18
        }
      ]
    },
    {
      "cell_type": "code",
      "metadata": {
        "id": "nZ2rI24i3jFg"
      },
      "source": [
        "class Encoder(tf.keras.Model):\n",
        "  def __init__(self, vocab_size, embedding_dim, enc_units, batch_sz):\n",
        "    super(Encoder, self).__init__()\n",
        "    self.batch_sz = batch_sz\n",
        "    self.enc_units = enc_units\n",
        "    self.embedding = tf.keras.layers.Embedding(vocab_size, embedding_dim)\n",
        "    self.gru = tf.keras.layers.GRU(self.enc_units,\n",
        "                                   return_sequences=True,\n",
        "                                   return_state=True,\n",
        "                                   recurrent_initializer='glorot_uniform')\n",
        "\n",
        "  def call(self, x, hidden):\n",
        "    x = self.embedding(x)\n",
        "    output, state = self.gru(x, initial_state = hidden)\n",
        "    return output, state\n",
        "\n",
        "  def initialize_hidden_state(self):\n",
        "    return tf.zeros((self.batch_sz, self.enc_units))"
      ],
      "execution_count": 19,
      "outputs": []
    },
    {
      "cell_type": "code",
      "metadata": {
        "id": "60gSVh05Jl6l",
        "colab": {
          "base_uri": "https://localhost:8080/"
        },
        "outputId": "056ac831-26d2-46fe-e878-16a02e2db250"
      },
      "source": [
        "encoder = Encoder(vocab_inp_size, embedding_dim, units, BATCH_SIZE)\n",
        "\n",
        "# sample input\n",
        "sample_hidden = encoder.initialize_hidden_state()\n",
        "sample_output, sample_hidden = encoder(example_input_batch, sample_hidden)\n",
        "print ('Encoder output shape: (batch size, sequence length, units) {}'.format(sample_output.shape))\n",
        "print ('Encoder Hidden state shape: (batch size, units) {}'.format(sample_hidden.shape))"
      ],
      "execution_count": 20,
      "outputs": [
        {
          "output_type": "stream",
          "name": "stdout",
          "text": [
            "Encoder output shape: (batch size, sequence length, units) (64, 15, 1024)\n",
            "Encoder Hidden state shape: (batch size, units) (64, 1024)\n"
          ]
        }
      ]
    },
    {
      "cell_type": "code",
      "metadata": {
        "id": "YTyhL28Niqk1"
      },
      "source": [
        "class BahdanauAttention(tf.keras.layers.Layer):\n",
        "  def __init__(self, units):\n",
        "    super(BahdanauAttention, self).__init__()\n",
        "    self.W1 = tf.keras.layers.Dense(units)\n",
        "    self.W2 = tf.keras.layers.Dense(units)\n",
        "    self.V = tf.keras.layers.Dense(1)\n",
        "\n",
        "  def call(self, query, values):\n",
        "    # query hidden state shape == (batch_size, hidden size)\n",
        "    # query_with_time_axis shape == (batch_size, 1, hidden size)\n",
        "    # values shape == (batch_size, max_len, hidden size)\n",
        "    # we are doing this to broadcast addition along the time axis to calculate the score\n",
        "    query_with_time_axis = tf.expand_dims(query, 1)\n",
        "\n",
        "    # score shape == (batch_size, max_length, 1)\n",
        "    # we get 1 at the last axis because we are applying score to self.V\n",
        "    # the shape of the tensor before applying self.V is (batch_size, max_length, units)\n",
        "    score = self.V(tf.nn.tanh(\n",
        "        self.W1(query_with_time_axis) + self.W2(values)))\n",
        "\n",
        "    # attention_weights shape == (batch_size, max_length, 1)\n",
        "    attention_weights = tf.nn.softmax(score, axis=1)\n",
        "\n",
        "    # context_vector shape after sum == (batch_size, hidden_size)\n",
        "    context_vector = attention_weights * values\n",
        "    context_vector = tf.reduce_sum(context_vector, axis=1)\n",
        "\n",
        "    return context_vector, attention_weights"
      ],
      "execution_count": 21,
      "outputs": []
    },
    {
      "cell_type": "code",
      "metadata": {
        "colab": {
          "base_uri": "https://localhost:8080/"
        },
        "id": "XUqssWcci1XJ",
        "outputId": "23b8b297-3bcd-4e9d-b08f-f5e20c86e129"
      },
      "source": [
        "attention_layer = BahdanauAttention(10)\n",
        "attention_result, attention_weights = attention_layer(sample_hidden, sample_output)\n",
        "\n",
        "print(\"Attention result shape: (batch size, units) {}\".format(attention_result.shape))\n",
        "print(\"Attention weights shape: (batch_size, sequence_length, 1) {}\".format(attention_weights.shape))"
      ],
      "execution_count": 22,
      "outputs": [
        {
          "output_type": "stream",
          "name": "stdout",
          "text": [
            "Attention result shape: (batch size, units) (64, 1024)\n",
            "Attention weights shape: (batch_size, sequence_length, 1) (64, 15, 1)\n"
          ]
        }
      ]
    },
    {
      "cell_type": "code",
      "metadata": {
        "id": "yJ_B3mhW3jFk"
      },
      "source": [
        "class Decoder(tf.keras.Model):\n",
        "  def __init__(self, vocab_size, embedding_dim, dec_units, batch_sz):\n",
        "    super(Decoder, self).__init__()\n",
        "    self.batch_sz = batch_sz\n",
        "    self.dec_units = dec_units\n",
        "    self.embedding = tf.keras.layers.Embedding(vocab_size, embedding_dim)\n",
        "    self.gru = tf.keras.layers.GRU(self.dec_units,\n",
        "                                   return_sequences=True,\n",
        "                                   return_state=True,\n",
        "                                   recurrent_initializer='glorot_uniform')\n",
        "    self.fc = tf.keras.layers.Dense(vocab_size)\n",
        "\n",
        "    # used for attention\n",
        "    self.attention = BahdanauAttention(self.dec_units)\n",
        "\n",
        "  def call(self, x, hidden, enc_output):\n",
        "    # enc_output shape == (batch_size, max_length, hidden_size)\n",
        "    context_vector, attention_weights = self.attention(hidden, enc_output)\n",
        "\n",
        "    # x shape after passing through embedding == (batch_size, 1, embedding_dim)\n",
        "    x = self.embedding(x)\n",
        "\n",
        "    # x shape after concatenation == (batch_size, 1, embedding_dim + hidden_size)\n",
        "    x = tf.concat([tf.expand_dims(context_vector, 1), x], axis=-1)\n",
        "\n",
        "    # passing the concatenated vector to the GRU\n",
        "    output, state = self.gru(x)\n",
        "\n",
        "    # output shape == (batch_size * 1, hidden_size)\n",
        "    output = tf.reshape(output, (-1, output.shape[2]))\n",
        "\n",
        "    # output shape == (batch_size, vocab)\n",
        "    x = self.fc(output)\n",
        "\n",
        "    return x, state, attention_weights"
      ],
      "execution_count": 23,
      "outputs": []
    },
    {
      "cell_type": "code",
      "metadata": {
        "id": "P5UY8wko3jFp",
        "colab": {
          "base_uri": "https://localhost:8080/"
        },
        "outputId": "3496ce41-71d6-462d-af42-4d063a51edce"
      },
      "source": [
        "decoder = Decoder(vocab_tar_size, embedding_dim, units, BATCH_SIZE)\n",
        "\n",
        "sample_decoder_output, _, _ = decoder(tf.random.uniform((BATCH_SIZE, 1)),\n",
        "                                      sample_hidden, sample_output)\n",
        "\n",
        "print ('Decoder output shape: (batch_size, vocab size) {}'.format(sample_decoder_output.shape))"
      ],
      "execution_count": 24,
      "outputs": [
        {
          "output_type": "stream",
          "name": "stdout",
          "text": [
            "Decoder output shape: (batch_size, vocab size) (64, 7334)\n"
          ]
        }
      ]
    },
    {
      "cell_type": "markdown",
      "metadata": {
        "id": "_ch_71VbIRfK"
      },
      "source": [
        "## Define the optimizer and the loss function"
      ]
    },
    {
      "cell_type": "code",
      "metadata": {
        "id": "WmTHr5iV3jFr"
      },
      "source": [
        "optimizer = tf.keras.optimizers.Adam()\n",
        "loss_object = tf.keras.losses.SparseCategoricalCrossentropy(\n",
        "    from_logits=True, reduction='none')\n",
        "\n",
        "def loss_function(real, pred):\n",
        "  mask = tf.math.logical_not(tf.math.equal(real, 0))\n",
        "  loss_ = loss_object(real, pred)\n",
        "\n",
        "  mask = tf.cast(mask, dtype=loss_.dtype)\n",
        "  loss_ *= mask\n",
        "\n",
        "  return tf.reduce_mean(loss_)"
      ],
      "execution_count": 25,
      "outputs": []
    },
    {
      "cell_type": "markdown",
      "metadata": {
        "id": "DMVWzzsfNl4e"
      },
      "source": [
        "## Checkpoints (Object-based saving)"
      ]
    },
    {
      "cell_type": "code",
      "metadata": {
        "id": "Zj8bXQTgNwrF"
      },
      "source": [
        "checkpoint_dir = './training_attention_checkpoints'\n",
        "checkpoint_prefix = os.path.join(checkpoint_dir, \"ckpt\")\n",
        "checkpoint = tf.train.Checkpoint(optimizer=optimizer,\n",
        "                                 encoder=encoder,\n",
        "                                 decoder=decoder)"
      ],
      "execution_count": 26,
      "outputs": []
    },
    {
      "cell_type": "code",
      "metadata": {
        "id": "sC9ArXSsVfqn"
      },
      "source": [
        "@tf.function\n",
        "def train_step(inp, targ, enc_hidden):\n",
        "  loss = 0\n",
        "\n",
        "  with tf.GradientTape() as tape:\n",
        "    enc_output, enc_hidden = encoder(inp, enc_hidden)\n",
        "\n",
        "    dec_hidden = enc_hidden\n",
        "\n",
        "    dec_input = tf.expand_dims([targ_lang.word_index['<start>']] * BATCH_SIZE, 1)\n",
        "\n",
        "    # Teacher forcing - feeding the target as the next input\n",
        "    for t in range(1, targ.shape[1]):\n",
        "      # passing enc_output to the decoder\n",
        "      predictions, dec_hidden, _ = decoder(dec_input, dec_hidden, enc_output)\n",
        "\n",
        "      loss += loss_function(targ[:, t], predictions)\n",
        "\n",
        "      # using teacher forcing\n",
        "      dec_input = tf.expand_dims(targ[:, t], 1)\n",
        "\n",
        "  batch_loss = (loss / int(targ.shape[1]))\n",
        "\n",
        "  variables = encoder.trainable_variables + decoder.trainable_variables\n",
        "\n",
        "  gradients = tape.gradient(loss, variables)\n",
        "\n",
        "  optimizer.apply_gradients(zip(gradients, variables))\n",
        "\n",
        "  return batch_loss"
      ],
      "execution_count": 27,
      "outputs": []
    },
    {
      "cell_type": "code",
      "metadata": {
        "id": "ddefjBMa3jF0",
        "colab": {
          "base_uri": "https://localhost:8080/"
        },
        "outputId": "bda9cf2a-a7a9-433f-80ce-732e2551c69c"
      },
      "source": [
        "EPOCHS = 50\n",
        "\n",
        "for epoch in range(EPOCHS):\n",
        "  start = time.time()\n",
        "\n",
        "  enc_hidden = encoder.initialize_hidden_state()\n",
        "  total_loss = 0\n",
        "\n",
        "  for (batch, (inp, targ)) in enumerate(dataset.take(steps_per_epoch)):\n",
        "    batch_loss = train_step(inp, targ, enc_hidden)\n",
        "    total_loss += batch_loss\n",
        "\n",
        "    if batch % 100 == 0:\n",
        "      print('Epoch {} Batch {} Loss {:.4f}'.format(epoch + 1,\n",
        "                                                   batch,\n",
        "                                                   batch_loss.numpy()))\n",
        "  # saving (checkpoint) the model every 2 epochs\n",
        "  if (epoch + 1) % 2 == 0:\n",
        "    checkpoint.save(file_prefix = checkpoint_prefix)\n",
        "\n",
        "  print('Epoch {} Loss {:.4f}'.format(epoch + 1,\n",
        "                                      total_loss / steps_per_epoch))\n",
        "  print('Time taken for 1 epoch {} sec\\n'.format(time.time() - start))"
      ],
      "execution_count": 28,
      "outputs": [
        {
          "output_type": "stream",
          "name": "stdout",
          "text": [
            "Epoch 1 Batch 0 Loss 4.7282\n",
            "Epoch 1 Batch 100 Loss 2.2010\n",
            "Epoch 1 Batch 200 Loss 1.9611\n",
            "Epoch 1 Batch 300 Loss 1.5734\n",
            "Epoch 1 Batch 400 Loss 1.5325\n",
            "Epoch 1 Batch 500 Loss 1.5226\n",
            "Epoch 1 Batch 600 Loss 1.3266\n",
            "Epoch 1 Batch 700 Loss 1.2770\n",
            "Epoch 1 Batch 800 Loss 1.2575\n",
            "Epoch 1 Batch 900 Loss 1.2014\n",
            "Epoch 1 Batch 1000 Loss 1.0634\n",
            "Epoch 1 Batch 1100 Loss 1.0607\n",
            "Epoch 1 Batch 1200 Loss 1.1251\n",
            "Epoch 1 Loss 1.4668\n",
            "Time taken for 1 epoch 109.47773957252502 sec\n",
            "\n",
            "Epoch 2 Batch 0 Loss 0.8947\n",
            "Epoch 2 Batch 100 Loss 0.9708\n",
            "Epoch 2 Batch 200 Loss 0.7856\n",
            "Epoch 2 Batch 300 Loss 0.7401\n",
            "Epoch 2 Batch 400 Loss 0.8435\n",
            "Epoch 2 Batch 500 Loss 0.6715\n",
            "Epoch 2 Batch 600 Loss 0.7417\n",
            "Epoch 2 Batch 700 Loss 0.6469\n",
            "Epoch 2 Batch 800 Loss 0.6658\n",
            "Epoch 2 Batch 900 Loss 0.6241\n",
            "Epoch 2 Batch 1000 Loss 0.6506\n",
            "Epoch 2 Batch 1100 Loss 0.6020\n",
            "Epoch 2 Batch 1200 Loss 0.5180\n",
            "Epoch 2 Loss 0.7003\n",
            "Time taken for 1 epoch 100.58860278129578 sec\n",
            "\n",
            "Epoch 3 Batch 0 Loss 0.3834\n",
            "Epoch 3 Batch 100 Loss 0.3834\n",
            "Epoch 3 Batch 200 Loss 0.3979\n",
            "Epoch 3 Batch 300 Loss 0.4169\n",
            "Epoch 3 Batch 400 Loss 0.4169\n",
            "Epoch 3 Batch 500 Loss 0.4453\n",
            "Epoch 3 Batch 600 Loss 0.3753\n",
            "Epoch 3 Batch 700 Loss 0.4682\n",
            "Epoch 3 Batch 800 Loss 0.3390\n",
            "Epoch 3 Batch 900 Loss 0.3182\n",
            "Epoch 3 Batch 1000 Loss 0.3579\n",
            "Epoch 3 Batch 1100 Loss 0.3531\n",
            "Epoch 3 Batch 1200 Loss 0.3760\n",
            "Epoch 3 Loss 0.3660\n",
            "Time taken for 1 epoch 99.60378074645996 sec\n",
            "\n",
            "Epoch 4 Batch 0 Loss 0.2198\n",
            "Epoch 4 Batch 100 Loss 0.1720\n",
            "Epoch 4 Batch 200 Loss 0.2477\n",
            "Epoch 4 Batch 300 Loss 0.2432\n",
            "Epoch 4 Batch 400 Loss 0.2068\n",
            "Epoch 4 Batch 500 Loss 0.1957\n",
            "Epoch 4 Batch 600 Loss 0.2278\n",
            "Epoch 4 Batch 700 Loss 0.2405\n",
            "Epoch 4 Batch 800 Loss 0.1621\n",
            "Epoch 4 Batch 900 Loss 0.1906\n",
            "Epoch 4 Batch 1000 Loss 0.1979\n",
            "Epoch 4 Batch 1100 Loss 0.2459\n",
            "Epoch 4 Batch 1200 Loss 0.2059\n",
            "Epoch 4 Loss 0.2209\n",
            "Time taken for 1 epoch 100.37913799285889 sec\n",
            "\n",
            "Epoch 5 Batch 0 Loss 0.1532\n",
            "Epoch 5 Batch 100 Loss 0.1323\n",
            "Epoch 5 Batch 200 Loss 0.1346\n",
            "Epoch 5 Batch 300 Loss 0.1194\n",
            "Epoch 5 Batch 400 Loss 0.1535\n",
            "Epoch 5 Batch 500 Loss 0.1526\n",
            "Epoch 5 Batch 600 Loss 0.1630\n",
            "Epoch 5 Batch 700 Loss 0.2078\n",
            "Epoch 5 Batch 800 Loss 0.1331\n",
            "Epoch 5 Batch 900 Loss 0.1602\n",
            "Epoch 5 Batch 1000 Loss 0.1356\n",
            "Epoch 5 Batch 1100 Loss 0.1518\n",
            "Epoch 5 Batch 1200 Loss 0.1455\n",
            "Epoch 5 Loss 0.1529\n",
            "Time taken for 1 epoch 99.67735290527344 sec\n",
            "\n",
            "Epoch 6 Batch 0 Loss 0.1129\n",
            "Epoch 6 Batch 100 Loss 0.0836\n",
            "Epoch 6 Batch 200 Loss 0.1020\n",
            "Epoch 6 Batch 300 Loss 0.1099\n",
            "Epoch 6 Batch 400 Loss 0.1059\n",
            "Epoch 6 Batch 500 Loss 0.1198\n",
            "Epoch 6 Batch 600 Loss 0.1275\n",
            "Epoch 6 Batch 700 Loss 0.1222\n",
            "Epoch 6 Batch 800 Loss 0.1527\n",
            "Epoch 6 Batch 900 Loss 0.1198\n",
            "Epoch 6 Batch 1000 Loss 0.1370\n",
            "Epoch 6 Batch 1100 Loss 0.1139\n",
            "Epoch 6 Batch 1200 Loss 0.1203\n",
            "Epoch 6 Loss 0.1185\n",
            "Time taken for 1 epoch 100.18161630630493 sec\n",
            "\n",
            "Epoch 7 Batch 0 Loss 0.1008\n",
            "Epoch 7 Batch 100 Loss 0.0893\n",
            "Epoch 7 Batch 200 Loss 0.1058\n",
            "Epoch 7 Batch 300 Loss 0.1044\n",
            "Epoch 7 Batch 400 Loss 0.0803\n",
            "Epoch 7 Batch 500 Loss 0.0766\n",
            "Epoch 7 Batch 600 Loss 0.1019\n",
            "Epoch 7 Batch 700 Loss 0.1186\n",
            "Epoch 7 Batch 800 Loss 0.0822\n",
            "Epoch 7 Batch 900 Loss 0.1000\n",
            "Epoch 7 Batch 1000 Loss 0.1524\n",
            "Epoch 7 Batch 1100 Loss 0.1151\n",
            "Epoch 7 Batch 1200 Loss 0.1115\n",
            "Epoch 7 Loss 0.1004\n",
            "Time taken for 1 epoch 99.70024037361145 sec\n",
            "\n",
            "Epoch 8 Batch 0 Loss 0.0890\n",
            "Epoch 8 Batch 100 Loss 0.0492\n",
            "Epoch 8 Batch 200 Loss 0.0682\n",
            "Epoch 8 Batch 300 Loss 0.0961\n",
            "Epoch 8 Batch 400 Loss 0.0701\n",
            "Epoch 8 Batch 500 Loss 0.0836\n",
            "Epoch 8 Batch 600 Loss 0.0643\n",
            "Epoch 8 Batch 700 Loss 0.0966\n",
            "Epoch 8 Batch 800 Loss 0.0681\n",
            "Epoch 8 Batch 900 Loss 0.1456\n",
            "Epoch 8 Batch 1000 Loss 0.0748\n",
            "Epoch 8 Batch 1100 Loss 0.0948\n",
            "Epoch 8 Batch 1200 Loss 0.0705\n",
            "Epoch 8 Loss 0.0899\n",
            "Time taken for 1 epoch 100.37341952323914 sec\n",
            "\n",
            "Epoch 9 Batch 0 Loss 0.0714\n",
            "Epoch 9 Batch 100 Loss 0.0793\n",
            "Epoch 9 Batch 200 Loss 0.0550\n",
            "Epoch 9 Batch 300 Loss 0.0935\n",
            "Epoch 9 Batch 400 Loss 0.0983\n",
            "Epoch 9 Batch 500 Loss 0.0759\n",
            "Epoch 9 Batch 600 Loss 0.0765\n",
            "Epoch 9 Batch 700 Loss 0.0821\n",
            "Epoch 9 Batch 800 Loss 0.1014\n",
            "Epoch 9 Batch 900 Loss 0.0978\n",
            "Epoch 9 Batch 1000 Loss 0.1288\n",
            "Epoch 9 Batch 1100 Loss 0.1258\n",
            "Epoch 9 Batch 1200 Loss 0.0931\n",
            "Epoch 9 Loss 0.0833\n",
            "Time taken for 1 epoch 99.71067261695862 sec\n",
            "\n",
            "Epoch 10 Batch 0 Loss 0.0745\n",
            "Epoch 10 Batch 100 Loss 0.0758\n",
            "Epoch 10 Batch 200 Loss 0.0589\n",
            "Epoch 10 Batch 300 Loss 0.1015\n",
            "Epoch 10 Batch 400 Loss 0.0894\n",
            "Epoch 10 Batch 500 Loss 0.0953\n",
            "Epoch 10 Batch 600 Loss 0.0733\n",
            "Epoch 10 Batch 700 Loss 0.0933\n",
            "Epoch 10 Batch 800 Loss 0.0674\n",
            "Epoch 10 Batch 900 Loss 0.0774\n",
            "Epoch 10 Batch 1000 Loss 0.0801\n",
            "Epoch 10 Batch 1100 Loss 0.0857\n",
            "Epoch 10 Batch 1200 Loss 0.0928\n",
            "Epoch 10 Loss 0.0783\n",
            "Time taken for 1 epoch 100.42920398712158 sec\n",
            "\n",
            "Epoch 11 Batch 0 Loss 0.0744\n",
            "Epoch 11 Batch 100 Loss 0.0562\n",
            "Epoch 11 Batch 200 Loss 0.0470\n",
            "Epoch 11 Batch 300 Loss 0.0840\n",
            "Epoch 11 Batch 400 Loss 0.0627\n",
            "Epoch 11 Batch 500 Loss 0.0661\n",
            "Epoch 11 Batch 600 Loss 0.0702\n",
            "Epoch 11 Batch 700 Loss 0.0797\n",
            "Epoch 11 Batch 800 Loss 0.1081\n",
            "Epoch 11 Batch 900 Loss 0.0661\n",
            "Epoch 11 Batch 1000 Loss 0.0834\n",
            "Epoch 11 Batch 1100 Loss 0.1207\n",
            "Epoch 11 Batch 1200 Loss 0.0788\n",
            "Epoch 11 Loss 0.0739\n",
            "Time taken for 1 epoch 99.53376579284668 sec\n",
            "\n",
            "Epoch 12 Batch 0 Loss 0.0421\n",
            "Epoch 12 Batch 100 Loss 0.0461\n",
            "Epoch 12 Batch 200 Loss 0.0838\n",
            "Epoch 12 Batch 300 Loss 0.0882\n",
            "Epoch 12 Batch 400 Loss 0.0479\n",
            "Epoch 12 Batch 500 Loss 0.0872\n",
            "Epoch 12 Batch 600 Loss 0.0751\n",
            "Epoch 12 Batch 700 Loss 0.0672\n",
            "Epoch 12 Batch 800 Loss 0.0856\n",
            "Epoch 12 Batch 900 Loss 0.0756\n",
            "Epoch 12 Batch 1000 Loss 0.0888\n",
            "Epoch 12 Batch 1100 Loss 0.0742\n",
            "Epoch 12 Batch 1200 Loss 0.0839\n",
            "Epoch 12 Loss 0.0719\n",
            "Time taken for 1 epoch 100.25415539741516 sec\n",
            "\n",
            "Epoch 13 Batch 0 Loss 0.0367\n",
            "Epoch 13 Batch 100 Loss 0.0470\n",
            "Epoch 13 Batch 200 Loss 0.0568\n",
            "Epoch 13 Batch 300 Loss 0.0385\n",
            "Epoch 13 Batch 400 Loss 0.0915\n",
            "Epoch 13 Batch 500 Loss 0.0795\n",
            "Epoch 13 Batch 600 Loss 0.0577\n",
            "Epoch 13 Batch 700 Loss 0.0927\n",
            "Epoch 13 Batch 800 Loss 0.1005\n",
            "Epoch 13 Batch 900 Loss 0.0671\n",
            "Epoch 13 Batch 1000 Loss 0.0852\n",
            "Epoch 13 Batch 1100 Loss 0.0798\n",
            "Epoch 13 Batch 1200 Loss 0.1006\n",
            "Epoch 13 Loss 0.0686\n",
            "Time taken for 1 epoch 99.84392094612122 sec\n",
            "\n",
            "Epoch 14 Batch 0 Loss 0.0445\n",
            "Epoch 14 Batch 100 Loss 0.0373\n",
            "Epoch 14 Batch 200 Loss 0.0766\n",
            "Epoch 14 Batch 300 Loss 0.0689\n",
            "Epoch 14 Batch 400 Loss 0.0390\n",
            "Epoch 14 Batch 500 Loss 0.0451\n",
            "Epoch 14 Batch 600 Loss 0.0562\n",
            "Epoch 14 Batch 700 Loss 0.0971\n",
            "Epoch 14 Batch 800 Loss 0.1439\n",
            "Epoch 14 Batch 900 Loss 0.0483\n",
            "Epoch 14 Batch 1000 Loss 0.0784\n",
            "Epoch 14 Batch 1100 Loss 0.0404\n",
            "Epoch 14 Batch 1200 Loss 0.0893\n",
            "Epoch 14 Loss 0.0659\n",
            "Time taken for 1 epoch 100.34884309768677 sec\n",
            "\n",
            "Epoch 15 Batch 0 Loss 0.0441\n",
            "Epoch 15 Batch 100 Loss 0.0675\n",
            "Epoch 15 Batch 200 Loss 0.0481\n",
            "Epoch 15 Batch 300 Loss 0.0550\n",
            "Epoch 15 Batch 400 Loss 0.0399\n",
            "Epoch 15 Batch 500 Loss 0.0869\n",
            "Epoch 15 Batch 600 Loss 0.0511\n",
            "Epoch 15 Batch 700 Loss 0.0935\n",
            "Epoch 15 Batch 800 Loss 0.0699\n",
            "Epoch 15 Batch 900 Loss 0.1094\n",
            "Epoch 15 Batch 1000 Loss 0.0917\n",
            "Epoch 15 Batch 1100 Loss 0.0713\n",
            "Epoch 15 Batch 1200 Loss 0.0782\n",
            "Epoch 15 Loss 0.0649\n",
            "Time taken for 1 epoch 99.5854434967041 sec\n",
            "\n",
            "Epoch 16 Batch 0 Loss 0.0274\n",
            "Epoch 16 Batch 100 Loss 0.0384\n",
            "Epoch 16 Batch 200 Loss 0.0511\n",
            "Epoch 16 Batch 300 Loss 0.0401\n",
            "Epoch 16 Batch 400 Loss 0.0530\n",
            "Epoch 16 Batch 500 Loss 0.0605\n",
            "Epoch 16 Batch 600 Loss 0.0457\n",
            "Epoch 16 Batch 700 Loss 0.0558\n",
            "Epoch 16 Batch 800 Loss 0.0402\n",
            "Epoch 16 Batch 900 Loss 0.0357\n",
            "Epoch 16 Batch 1000 Loss 0.0432\n",
            "Epoch 16 Batch 1100 Loss 0.0608\n",
            "Epoch 16 Batch 1200 Loss 0.0689\n",
            "Epoch 16 Loss 0.0628\n",
            "Time taken for 1 epoch 100.40104675292969 sec\n",
            "\n",
            "Epoch 17 Batch 0 Loss 0.0411\n",
            "Epoch 17 Batch 100 Loss 0.0767\n",
            "Epoch 17 Batch 200 Loss 0.0483\n",
            "Epoch 17 Batch 300 Loss 0.0427\n",
            "Epoch 17 Batch 400 Loss 0.0658\n",
            "Epoch 17 Batch 500 Loss 0.0400\n",
            "Epoch 17 Batch 600 Loss 0.0807\n",
            "Epoch 17 Batch 700 Loss 0.0436\n",
            "Epoch 17 Batch 800 Loss 0.0633\n",
            "Epoch 17 Batch 900 Loss 0.0628\n",
            "Epoch 17 Batch 1000 Loss 0.0722\n",
            "Epoch 17 Batch 1100 Loss 0.0823\n",
            "Epoch 17 Batch 1200 Loss 0.0639\n",
            "Epoch 17 Loss 0.0603\n",
            "Time taken for 1 epoch 99.5331768989563 sec\n",
            "\n",
            "Epoch 18 Batch 0 Loss 0.0594\n",
            "Epoch 18 Batch 100 Loss 0.0501\n",
            "Epoch 18 Batch 200 Loss 0.0604\n",
            "Epoch 18 Batch 300 Loss 0.0525\n",
            "Epoch 18 Batch 400 Loss 0.0466\n",
            "Epoch 18 Batch 500 Loss 0.0301\n",
            "Epoch 18 Batch 600 Loss 0.0743\n",
            "Epoch 18 Batch 700 Loss 0.0631\n",
            "Epoch 18 Batch 800 Loss 0.0504\n",
            "Epoch 18 Batch 900 Loss 0.0520\n",
            "Epoch 18 Batch 1000 Loss 0.0568\n",
            "Epoch 18 Batch 1100 Loss 0.0383\n",
            "Epoch 18 Batch 1200 Loss 0.0509\n",
            "Epoch 18 Loss 0.0590\n",
            "Time taken for 1 epoch 100.2419970035553 sec\n",
            "\n",
            "Epoch 19 Batch 0 Loss 0.0349\n",
            "Epoch 19 Batch 100 Loss 0.0713\n",
            "Epoch 19 Batch 200 Loss 0.0459\n",
            "Epoch 19 Batch 300 Loss 0.0391\n",
            "Epoch 19 Batch 400 Loss 0.0429\n",
            "Epoch 19 Batch 500 Loss 0.0822\n",
            "Epoch 19 Batch 600 Loss 0.0599\n",
            "Epoch 19 Batch 700 Loss 0.0539\n",
            "Epoch 19 Batch 800 Loss 0.0265\n",
            "Epoch 19 Batch 900 Loss 0.0489\n",
            "Epoch 19 Batch 1000 Loss 0.0610\n",
            "Epoch 19 Batch 1100 Loss 0.0769\n",
            "Epoch 19 Batch 1200 Loss 0.0543\n",
            "Epoch 19 Loss 0.0580\n",
            "Time taken for 1 epoch 99.56759691238403 sec\n",
            "\n",
            "Epoch 20 Batch 0 Loss 0.0576\n",
            "Epoch 20 Batch 100 Loss 0.0557\n",
            "Epoch 20 Batch 200 Loss 0.0309\n",
            "Epoch 20 Batch 300 Loss 0.0703\n",
            "Epoch 20 Batch 400 Loss 0.0687\n",
            "Epoch 20 Batch 500 Loss 0.0348\n",
            "Epoch 20 Batch 600 Loss 0.0605\n",
            "Epoch 20 Batch 700 Loss 0.0525\n",
            "Epoch 20 Batch 800 Loss 0.0513\n",
            "Epoch 20 Batch 900 Loss 0.0548\n",
            "Epoch 20 Batch 1000 Loss 0.0721\n",
            "Epoch 20 Batch 1100 Loss 0.0616\n",
            "Epoch 20 Batch 1200 Loss 0.0599\n",
            "Epoch 20 Loss 0.0572\n",
            "Time taken for 1 epoch 100.26829409599304 sec\n",
            "\n",
            "Epoch 21 Batch 0 Loss 0.0571\n",
            "Epoch 21 Batch 100 Loss 0.0436\n",
            "Epoch 21 Batch 200 Loss 0.0625\n",
            "Epoch 21 Batch 300 Loss 0.0496\n",
            "Epoch 21 Batch 400 Loss 0.0831\n",
            "Epoch 21 Batch 500 Loss 0.0336\n",
            "Epoch 21 Batch 600 Loss 0.0677\n",
            "Epoch 21 Batch 700 Loss 0.0454\n",
            "Epoch 21 Batch 800 Loss 0.0480\n",
            "Epoch 21 Batch 900 Loss 0.0367\n",
            "Epoch 21 Batch 1000 Loss 0.1049\n",
            "Epoch 21 Batch 1100 Loss 0.0495\n",
            "Epoch 21 Batch 1200 Loss 0.0776\n",
            "Epoch 21 Loss 0.0557\n",
            "Time taken for 1 epoch 99.48099899291992 sec\n",
            "\n",
            "Epoch 22 Batch 0 Loss 0.0615\n",
            "Epoch 22 Batch 100 Loss 0.0417\n",
            "Epoch 22 Batch 200 Loss 0.0372\n",
            "Epoch 22 Batch 300 Loss 0.0502\n",
            "Epoch 22 Batch 400 Loss 0.0562\n",
            "Epoch 22 Batch 500 Loss 0.0515\n",
            "Epoch 22 Batch 600 Loss 0.0446\n",
            "Epoch 22 Batch 700 Loss 0.0440\n",
            "Epoch 22 Batch 800 Loss 0.0879\n",
            "Epoch 22 Batch 900 Loss 0.0283\n",
            "Epoch 22 Batch 1000 Loss 0.0786\n",
            "Epoch 22 Batch 1100 Loss 0.0704\n",
            "Epoch 22 Batch 1200 Loss 0.0859\n",
            "Epoch 22 Loss 0.0547\n",
            "Time taken for 1 epoch 100.3105616569519 sec\n",
            "\n",
            "Epoch 23 Batch 0 Loss 0.0509\n",
            "Epoch 23 Batch 100 Loss 0.0382\n",
            "Epoch 23 Batch 200 Loss 0.0530\n",
            "Epoch 23 Batch 300 Loss 0.0385\n",
            "Epoch 23 Batch 400 Loss 0.0147\n",
            "Epoch 23 Batch 500 Loss 0.0515\n",
            "Epoch 23 Batch 600 Loss 0.0421\n",
            "Epoch 23 Batch 700 Loss 0.0421\n",
            "Epoch 23 Batch 800 Loss 0.0766\n",
            "Epoch 23 Batch 900 Loss 0.0432\n",
            "Epoch 23 Batch 1000 Loss 0.0293\n",
            "Epoch 23 Batch 1100 Loss 0.0539\n",
            "Epoch 23 Batch 1200 Loss 0.0502\n",
            "Epoch 23 Loss 0.0531\n",
            "Time taken for 1 epoch 99.57367491722107 sec\n",
            "\n",
            "Epoch 24 Batch 0 Loss 0.0197\n",
            "Epoch 24 Batch 100 Loss 0.0375\n",
            "Epoch 24 Batch 200 Loss 0.0584\n",
            "Epoch 24 Batch 300 Loss 0.0316\n",
            "Epoch 24 Batch 400 Loss 0.0395\n",
            "Epoch 24 Batch 500 Loss 0.0336\n",
            "Epoch 24 Batch 600 Loss 0.0430\n",
            "Epoch 24 Batch 700 Loss 0.0418\n",
            "Epoch 24 Batch 800 Loss 0.0307\n",
            "Epoch 24 Batch 900 Loss 0.0476\n",
            "Epoch 24 Batch 1000 Loss 0.0588\n",
            "Epoch 24 Batch 1100 Loss 0.0567\n",
            "Epoch 24 Batch 1200 Loss 0.0770\n",
            "Epoch 24 Loss 0.0523\n",
            "Time taken for 1 epoch 100.22701263427734 sec\n",
            "\n",
            "Epoch 25 Batch 0 Loss 0.0515\n",
            "Epoch 25 Batch 100 Loss 0.0161\n",
            "Epoch 25 Batch 200 Loss 0.0291\n",
            "Epoch 25 Batch 300 Loss 0.0290\n",
            "Epoch 25 Batch 400 Loss 0.0614\n",
            "Epoch 25 Batch 500 Loss 0.0596\n",
            "Epoch 25 Batch 600 Loss 0.0316\n",
            "Epoch 25 Batch 700 Loss 0.0984\n",
            "Epoch 25 Batch 800 Loss 0.0445\n",
            "Epoch 25 Batch 900 Loss 0.0572\n",
            "Epoch 25 Batch 1000 Loss 0.0831\n",
            "Epoch 25 Batch 1100 Loss 0.0779\n",
            "Epoch 25 Batch 1200 Loss 0.0640\n",
            "Epoch 25 Loss 0.0523\n",
            "Time taken for 1 epoch 99.453200340271 sec\n",
            "\n",
            "Epoch 26 Batch 0 Loss 0.0431\n",
            "Epoch 26 Batch 100 Loss 0.0405\n",
            "Epoch 26 Batch 200 Loss 0.0524\n",
            "Epoch 26 Batch 300 Loss 0.0609\n",
            "Epoch 26 Batch 400 Loss 0.0554\n",
            "Epoch 26 Batch 500 Loss 0.0802\n",
            "Epoch 26 Batch 600 Loss 0.0365\n",
            "Epoch 26 Batch 700 Loss 0.0817\n",
            "Epoch 26 Batch 800 Loss 0.0442\n",
            "Epoch 26 Batch 900 Loss 0.0444\n",
            "Epoch 26 Batch 1000 Loss 0.0602\n",
            "Epoch 26 Batch 1100 Loss 0.0676\n",
            "Epoch 26 Batch 1200 Loss 0.0681\n",
            "Epoch 26 Loss 0.0510\n",
            "Time taken for 1 epoch 100.20276594161987 sec\n",
            "\n",
            "Epoch 27 Batch 0 Loss 0.0278\n",
            "Epoch 27 Batch 100 Loss 0.0363\n",
            "Epoch 27 Batch 200 Loss 0.0511\n",
            "Epoch 27 Batch 300 Loss 0.0608\n",
            "Epoch 27 Batch 400 Loss 0.0633\n",
            "Epoch 27 Batch 500 Loss 0.0556\n",
            "Epoch 27 Batch 600 Loss 0.0359\n",
            "Epoch 27 Batch 700 Loss 0.0325\n",
            "Epoch 27 Batch 800 Loss 0.0406\n",
            "Epoch 27 Batch 900 Loss 0.0491\n",
            "Epoch 27 Batch 1000 Loss 0.0698\n",
            "Epoch 27 Batch 1100 Loss 0.0547\n",
            "Epoch 27 Batch 1200 Loss 0.0406\n",
            "Epoch 27 Loss 0.0501\n",
            "Time taken for 1 epoch 99.45849943161011 sec\n",
            "\n",
            "Epoch 28 Batch 0 Loss 0.0537\n",
            "Epoch 28 Batch 100 Loss 0.0542\n",
            "Epoch 28 Batch 200 Loss 0.0283\n",
            "Epoch 28 Batch 300 Loss 0.0528\n",
            "Epoch 28 Batch 400 Loss 0.0273\n",
            "Epoch 28 Batch 500 Loss 0.0418\n",
            "Epoch 28 Batch 600 Loss 0.0539\n",
            "Epoch 28 Batch 700 Loss 0.0534\n",
            "Epoch 28 Batch 800 Loss 0.0260\n",
            "Epoch 28 Batch 900 Loss 0.0489\n",
            "Epoch 28 Batch 1000 Loss 0.0573\n",
            "Epoch 28 Batch 1100 Loss 0.0546\n",
            "Epoch 28 Batch 1200 Loss 0.0463\n",
            "Epoch 28 Loss 0.0489\n",
            "Time taken for 1 epoch 100.26448106765747 sec\n",
            "\n",
            "Epoch 29 Batch 0 Loss 0.0219\n",
            "Epoch 29 Batch 100 Loss 0.0541\n",
            "Epoch 29 Batch 200 Loss 0.0477\n",
            "Epoch 29 Batch 300 Loss 0.0575\n",
            "Epoch 29 Batch 400 Loss 0.0284\n",
            "Epoch 29 Batch 500 Loss 0.0619\n",
            "Epoch 29 Batch 600 Loss 0.0515\n",
            "Epoch 29 Batch 700 Loss 0.0316\n",
            "Epoch 29 Batch 800 Loss 0.0658\n",
            "Epoch 29 Batch 900 Loss 0.0673\n",
            "Epoch 29 Batch 1000 Loss 0.0579\n",
            "Epoch 29 Batch 1100 Loss 0.0683\n",
            "Epoch 29 Batch 1200 Loss 0.0334\n",
            "Epoch 29 Loss 0.0482\n",
            "Time taken for 1 epoch 99.58350419998169 sec\n",
            "\n",
            "Epoch 30 Batch 0 Loss 0.0310\n",
            "Epoch 30 Batch 100 Loss 0.0424\n",
            "Epoch 30 Batch 200 Loss 0.0503\n",
            "Epoch 30 Batch 300 Loss 0.0391\n",
            "Epoch 30 Batch 400 Loss 0.0526\n",
            "Epoch 30 Batch 500 Loss 0.0492\n",
            "Epoch 30 Batch 600 Loss 0.0660\n",
            "Epoch 30 Batch 700 Loss 0.0535\n",
            "Epoch 30 Batch 800 Loss 0.0229\n",
            "Epoch 30 Batch 900 Loss 0.0529\n",
            "Epoch 30 Batch 1000 Loss 0.0596\n",
            "Epoch 30 Batch 1100 Loss 0.0658\n",
            "Epoch 30 Batch 1200 Loss 0.0506\n",
            "Epoch 30 Loss 0.0482\n",
            "Time taken for 1 epoch 100.1186580657959 sec\n",
            "\n",
            "Epoch 31 Batch 0 Loss 0.0224\n",
            "Epoch 31 Batch 100 Loss 0.0377\n",
            "Epoch 31 Batch 200 Loss 0.0243\n",
            "Epoch 31 Batch 300 Loss 0.0521\n",
            "Epoch 31 Batch 400 Loss 0.0272\n",
            "Epoch 31 Batch 500 Loss 0.0395\n",
            "Epoch 31 Batch 600 Loss 0.0645\n",
            "Epoch 31 Batch 700 Loss 0.0824\n",
            "Epoch 31 Batch 800 Loss 0.0610\n",
            "Epoch 31 Batch 900 Loss 0.0481\n",
            "Epoch 31 Batch 1000 Loss 0.0465\n",
            "Epoch 31 Batch 1100 Loss 0.0506\n",
            "Epoch 31 Batch 1200 Loss 0.0833\n",
            "Epoch 31 Loss 0.0474\n",
            "Time taken for 1 epoch 99.41459894180298 sec\n",
            "\n",
            "Epoch 32 Batch 0 Loss 0.0362\n",
            "Epoch 32 Batch 100 Loss 0.0322\n",
            "Epoch 32 Batch 200 Loss 0.0207\n",
            "Epoch 32 Batch 300 Loss 0.0417\n",
            "Epoch 32 Batch 400 Loss 0.0529\n",
            "Epoch 32 Batch 500 Loss 0.0124\n",
            "Epoch 32 Batch 600 Loss 0.0602\n",
            "Epoch 32 Batch 700 Loss 0.0920\n",
            "Epoch 32 Batch 800 Loss 0.0374\n",
            "Epoch 32 Batch 900 Loss 0.0421\n",
            "Epoch 32 Batch 1000 Loss 0.0485\n",
            "Epoch 32 Batch 1100 Loss 0.0575\n",
            "Epoch 32 Batch 1200 Loss 0.0548\n",
            "Epoch 32 Loss 0.0467\n",
            "Time taken for 1 epoch 100.11869883537292 sec\n",
            "\n",
            "Epoch 33 Batch 0 Loss 0.0269\n",
            "Epoch 33 Batch 100 Loss 0.0445\n",
            "Epoch 33 Batch 200 Loss 0.0398\n",
            "Epoch 33 Batch 300 Loss 0.0555\n",
            "Epoch 33 Batch 400 Loss 0.0701\n",
            "Epoch 33 Batch 500 Loss 0.0369\n",
            "Epoch 33 Batch 600 Loss 0.0434\n",
            "Epoch 33 Batch 700 Loss 0.0525\n",
            "Epoch 33 Batch 800 Loss 0.0367\n",
            "Epoch 33 Batch 900 Loss 0.0549\n",
            "Epoch 33 Batch 1000 Loss 0.0417\n",
            "Epoch 33 Batch 1100 Loss 0.0720\n",
            "Epoch 33 Batch 1200 Loss 0.0313\n",
            "Epoch 33 Loss 0.0461\n",
            "Time taken for 1 epoch 99.5329761505127 sec\n",
            "\n",
            "Epoch 34 Batch 0 Loss 0.0313\n",
            "Epoch 34 Batch 100 Loss 0.0426\n",
            "Epoch 34 Batch 200 Loss 0.0427\n",
            "Epoch 34 Batch 300 Loss 0.0325\n",
            "Epoch 34 Batch 400 Loss 0.0323\n",
            "Epoch 34 Batch 500 Loss 0.0442\n",
            "Epoch 34 Batch 600 Loss 0.0304\n",
            "Epoch 34 Batch 700 Loss 0.0350\n",
            "Epoch 34 Batch 800 Loss 0.0516\n",
            "Epoch 34 Batch 900 Loss 0.0411\n",
            "Epoch 34 Batch 1000 Loss 0.0476\n",
            "Epoch 34 Batch 1100 Loss 0.0634\n",
            "Epoch 34 Batch 1200 Loss 0.0549\n",
            "Epoch 34 Loss 0.0455\n",
            "Time taken for 1 epoch 100.34826469421387 sec\n",
            "\n",
            "Epoch 35 Batch 0 Loss 0.0527\n",
            "Epoch 35 Batch 100 Loss 0.0322\n",
            "Epoch 35 Batch 200 Loss 0.0432\n",
            "Epoch 35 Batch 300 Loss 0.0416\n",
            "Epoch 35 Batch 400 Loss 0.0268\n",
            "Epoch 35 Batch 500 Loss 0.0616\n",
            "Epoch 35 Batch 600 Loss 0.0500\n",
            "Epoch 35 Batch 700 Loss 0.0462\n",
            "Epoch 35 Batch 800 Loss 0.0743\n",
            "Epoch 35 Batch 900 Loss 0.0691\n",
            "Epoch 35 Batch 1000 Loss 0.0432\n",
            "Epoch 35 Batch 1100 Loss 0.0827\n",
            "Epoch 35 Batch 1200 Loss 0.0622\n",
            "Epoch 35 Loss 0.0453\n",
            "Time taken for 1 epoch 99.52742338180542 sec\n",
            "\n",
            "Epoch 36 Batch 0 Loss 0.0441\n",
            "Epoch 36 Batch 100 Loss 0.0297\n",
            "Epoch 36 Batch 200 Loss 0.0390\n",
            "Epoch 36 Batch 300 Loss 0.0387\n",
            "Epoch 36 Batch 400 Loss 0.0722\n",
            "Epoch 36 Batch 500 Loss 0.0292\n",
            "Epoch 36 Batch 600 Loss 0.0833\n",
            "Epoch 36 Batch 700 Loss 0.0409\n",
            "Epoch 36 Batch 800 Loss 0.0356\n",
            "Epoch 36 Batch 900 Loss 0.0685\n",
            "Epoch 36 Batch 1000 Loss 0.0375\n",
            "Epoch 36 Batch 1100 Loss 0.0513\n",
            "Epoch 36 Batch 1200 Loss 0.0621\n",
            "Epoch 36 Loss 0.0447\n",
            "Time taken for 1 epoch 100.48001980781555 sec\n",
            "\n",
            "Epoch 37 Batch 0 Loss 0.0219\n",
            "Epoch 37 Batch 100 Loss 0.0286\n",
            "Epoch 37 Batch 200 Loss 0.0169\n",
            "Epoch 37 Batch 300 Loss 0.0412\n",
            "Epoch 37 Batch 400 Loss 0.0267\n",
            "Epoch 37 Batch 500 Loss 0.0303\n",
            "Epoch 37 Batch 600 Loss 0.0636\n",
            "Epoch 37 Batch 700 Loss 0.0497\n",
            "Epoch 37 Batch 800 Loss 0.0524\n",
            "Epoch 37 Batch 900 Loss 0.0415\n",
            "Epoch 37 Batch 1000 Loss 0.0567\n",
            "Epoch 37 Batch 1100 Loss 0.0608\n",
            "Epoch 37 Batch 1200 Loss 0.0484\n",
            "Epoch 37 Loss 0.0452\n",
            "Time taken for 1 epoch 99.53782343864441 sec\n",
            "\n",
            "Epoch 38 Batch 0 Loss 0.0379\n",
            "Epoch 38 Batch 100 Loss 0.0313\n",
            "Epoch 38 Batch 200 Loss 0.0352\n",
            "Epoch 38 Batch 300 Loss 0.0440\n",
            "Epoch 38 Batch 400 Loss 0.0505\n",
            "Epoch 38 Batch 500 Loss 0.0316\n",
            "Epoch 38 Batch 600 Loss 0.0381\n",
            "Epoch 38 Batch 700 Loss 0.0409\n",
            "Epoch 38 Batch 800 Loss 0.0330\n",
            "Epoch 38 Batch 900 Loss 0.0451\n",
            "Epoch 38 Batch 1000 Loss 0.0494\n",
            "Epoch 38 Batch 1100 Loss 0.0466\n",
            "Epoch 38 Batch 1200 Loss 0.0439\n",
            "Epoch 38 Loss 0.0439\n",
            "Time taken for 1 epoch 100.13418388366699 sec\n",
            "\n",
            "Epoch 39 Batch 0 Loss 0.0401\n",
            "Epoch 39 Batch 100 Loss 0.0496\n",
            "Epoch 39 Batch 200 Loss 0.0345\n",
            "Epoch 39 Batch 300 Loss 0.0337\n",
            "Epoch 39 Batch 400 Loss 0.0664\n",
            "Epoch 39 Batch 500 Loss 0.0393\n",
            "Epoch 39 Batch 600 Loss 0.0316\n",
            "Epoch 39 Batch 700 Loss 0.0468\n",
            "Epoch 39 Batch 800 Loss 0.0270\n",
            "Epoch 39 Batch 900 Loss 0.0420\n",
            "Epoch 39 Batch 1000 Loss 0.0232\n",
            "Epoch 39 Batch 1100 Loss 0.0894\n",
            "Epoch 39 Batch 1200 Loss 0.0517\n",
            "Epoch 39 Loss 0.0429\n",
            "Time taken for 1 epoch 99.43257308006287 sec\n",
            "\n",
            "Epoch 40 Batch 0 Loss 0.0345\n",
            "Epoch 40 Batch 100 Loss 0.0309\n",
            "Epoch 40 Batch 200 Loss 0.0146\n",
            "Epoch 40 Batch 300 Loss 0.0461\n",
            "Epoch 40 Batch 400 Loss 0.0331\n",
            "Epoch 40 Batch 500 Loss 0.0263\n",
            "Epoch 40 Batch 600 Loss 0.0397\n",
            "Epoch 40 Batch 700 Loss 0.0350\n",
            "Epoch 40 Batch 800 Loss 0.0427\n",
            "Epoch 40 Batch 900 Loss 0.0474\n",
            "Epoch 40 Batch 1000 Loss 0.0702\n",
            "Epoch 40 Batch 1100 Loss 0.0518\n",
            "Epoch 40 Batch 1200 Loss 0.0575\n",
            "Epoch 40 Loss 0.0427\n",
            "Time taken for 1 epoch 100.1237404346466 sec\n",
            "\n",
            "Epoch 41 Batch 0 Loss 0.0317\n",
            "Epoch 41 Batch 100 Loss 0.0409\n",
            "Epoch 41 Batch 200 Loss 0.0412\n",
            "Epoch 41 Batch 300 Loss 0.0448\n",
            "Epoch 41 Batch 400 Loss 0.0420\n",
            "Epoch 41 Batch 500 Loss 0.0294\n",
            "Epoch 41 Batch 600 Loss 0.0318\n",
            "Epoch 41 Batch 700 Loss 0.0506\n",
            "Epoch 41 Batch 800 Loss 0.0325\n",
            "Epoch 41 Batch 900 Loss 0.0507\n",
            "Epoch 41 Batch 1000 Loss 0.0405\n",
            "Epoch 41 Batch 1100 Loss 0.0313\n",
            "Epoch 41 Batch 1200 Loss 0.0506\n",
            "Epoch 41 Loss 0.0429\n",
            "Time taken for 1 epoch 99.62066769599915 sec\n",
            "\n",
            "Epoch 42 Batch 0 Loss 0.0253\n",
            "Epoch 42 Batch 100 Loss 0.0611\n",
            "Epoch 42 Batch 200 Loss 0.0249\n",
            "Epoch 42 Batch 300 Loss 0.0274\n",
            "Epoch 42 Batch 400 Loss 0.0436\n",
            "Epoch 42 Batch 500 Loss 0.0463\n",
            "Epoch 42 Batch 600 Loss 0.0483\n",
            "Epoch 42 Batch 700 Loss 0.0402\n",
            "Epoch 42 Batch 800 Loss 0.0279\n",
            "Epoch 42 Batch 900 Loss 0.0414\n",
            "Epoch 42 Batch 1000 Loss 0.0436\n",
            "Epoch 42 Batch 1100 Loss 0.0709\n",
            "Epoch 42 Batch 1200 Loss 0.0261\n",
            "Epoch 42 Loss 0.0422\n",
            "Time taken for 1 epoch 100.17871046066284 sec\n",
            "\n",
            "Epoch 43 Batch 0 Loss 0.0121\n",
            "Epoch 43 Batch 100 Loss 0.0457\n",
            "Epoch 43 Batch 200 Loss 0.0191\n",
            "Epoch 43 Batch 300 Loss 0.0462\n",
            "Epoch 43 Batch 400 Loss 0.0361\n",
            "Epoch 43 Batch 500 Loss 0.0424\n",
            "Epoch 43 Batch 600 Loss 0.0381\n",
            "Epoch 43 Batch 700 Loss 0.0527\n",
            "Epoch 43 Batch 800 Loss 0.0310\n",
            "Epoch 43 Batch 900 Loss 0.0405\n",
            "Epoch 43 Batch 1000 Loss 0.0396\n",
            "Epoch 43 Batch 1100 Loss 0.0530\n",
            "Epoch 43 Batch 1200 Loss 0.0756\n",
            "Epoch 43 Loss 0.0421\n",
            "Time taken for 1 epoch 99.57235813140869 sec\n",
            "\n",
            "Epoch 44 Batch 0 Loss 0.0287\n",
            "Epoch 44 Batch 100 Loss 0.0711\n",
            "Epoch 44 Batch 200 Loss 0.0270\n",
            "Epoch 44 Batch 300 Loss 0.0239\n",
            "Epoch 44 Batch 400 Loss 0.0571\n",
            "Epoch 44 Batch 500 Loss 0.0360\n",
            "Epoch 44 Batch 600 Loss 0.0532\n",
            "Epoch 44 Batch 700 Loss 0.0597\n",
            "Epoch 44 Batch 800 Loss 0.0715\n",
            "Epoch 44 Batch 900 Loss 0.0884\n",
            "Epoch 44 Batch 1000 Loss 0.0633\n",
            "Epoch 44 Batch 1100 Loss 0.0549\n",
            "Epoch 44 Batch 1200 Loss 0.0610\n",
            "Epoch 44 Loss 0.0414\n",
            "Time taken for 1 epoch 100.39742040634155 sec\n",
            "\n",
            "Epoch 45 Batch 0 Loss 0.0466\n",
            "Epoch 45 Batch 100 Loss 0.0354\n",
            "Epoch 45 Batch 200 Loss 0.0256\n",
            "Epoch 45 Batch 300 Loss 0.0306\n",
            "Epoch 45 Batch 400 Loss 0.0192\n",
            "Epoch 45 Batch 500 Loss 0.0532\n",
            "Epoch 45 Batch 600 Loss 0.0578\n",
            "Epoch 45 Batch 700 Loss 0.0479\n",
            "Epoch 45 Batch 800 Loss 0.0368\n",
            "Epoch 45 Batch 900 Loss 0.0541\n",
            "Epoch 45 Batch 1000 Loss 0.0350\n",
            "Epoch 45 Batch 1100 Loss 0.0688\n",
            "Epoch 45 Batch 1200 Loss 0.0662\n",
            "Epoch 45 Loss 0.0410\n",
            "Time taken for 1 epoch 99.46234059333801 sec\n",
            "\n",
            "Epoch 46 Batch 0 Loss 0.0143\n",
            "Epoch 46 Batch 100 Loss 0.0421\n",
            "Epoch 46 Batch 200 Loss 0.0253\n",
            "Epoch 46 Batch 300 Loss 0.0298\n",
            "Epoch 46 Batch 400 Loss 0.0268\n",
            "Epoch 46 Batch 500 Loss 0.0374\n",
            "Epoch 46 Batch 600 Loss 0.0402\n",
            "Epoch 46 Batch 700 Loss 0.0235\n",
            "Epoch 46 Batch 800 Loss 0.0380\n",
            "Epoch 46 Batch 900 Loss 0.0403\n",
            "Epoch 46 Batch 1000 Loss 0.0379\n",
            "Epoch 46 Batch 1100 Loss 0.0566\n",
            "Epoch 46 Batch 1200 Loss 0.0376\n",
            "Epoch 46 Loss 0.0401\n",
            "Time taken for 1 epoch 100.30946493148804 sec\n",
            "\n",
            "Epoch 47 Batch 0 Loss 0.0319\n",
            "Epoch 47 Batch 100 Loss 0.0176\n",
            "Epoch 47 Batch 200 Loss 0.0341\n",
            "Epoch 47 Batch 300 Loss 0.0472\n",
            "Epoch 47 Batch 400 Loss 0.0409\n",
            "Epoch 47 Batch 500 Loss 0.0306\n",
            "Epoch 47 Batch 600 Loss 0.0358\n",
            "Epoch 47 Batch 700 Loss 0.0279\n",
            "Epoch 47 Batch 800 Loss 0.0407\n",
            "Epoch 47 Batch 900 Loss 0.0441\n",
            "Epoch 47 Batch 1000 Loss 0.0447\n",
            "Epoch 47 Batch 1100 Loss 0.0427\n",
            "Epoch 47 Batch 1200 Loss 0.0453\n",
            "Epoch 47 Loss 0.0406\n",
            "Time taken for 1 epoch 99.3799638748169 sec\n",
            "\n",
            "Epoch 48 Batch 0 Loss 0.0172\n",
            "Epoch 48 Batch 100 Loss 0.0261\n",
            "Epoch 48 Batch 200 Loss 0.0189\n",
            "Epoch 48 Batch 300 Loss 0.0463\n",
            "Epoch 48 Batch 400 Loss 0.0451\n",
            "Epoch 48 Batch 500 Loss 0.0469\n",
            "Epoch 48 Batch 600 Loss 0.0421\n",
            "Epoch 48 Batch 700 Loss 0.0391\n",
            "Epoch 48 Batch 800 Loss 0.0414\n",
            "Epoch 48 Batch 900 Loss 0.0663\n",
            "Epoch 48 Batch 1000 Loss 0.0436\n",
            "Epoch 48 Batch 1100 Loss 0.0454\n",
            "Epoch 48 Batch 1200 Loss 0.0798\n",
            "Epoch 48 Loss 0.0411\n",
            "Time taken for 1 epoch 100.10736465454102 sec\n",
            "\n",
            "Epoch 49 Batch 0 Loss 0.0319\n",
            "Epoch 49 Batch 100 Loss 0.0161\n",
            "Epoch 49 Batch 200 Loss 0.0310\n",
            "Epoch 49 Batch 300 Loss 0.0201\n",
            "Epoch 49 Batch 400 Loss 0.0541\n",
            "Epoch 49 Batch 500 Loss 0.0375\n",
            "Epoch 49 Batch 600 Loss 0.0344\n",
            "Epoch 49 Batch 700 Loss 0.0592\n",
            "Epoch 49 Batch 800 Loss 0.0532\n",
            "Epoch 49 Batch 900 Loss 0.0565\n",
            "Epoch 49 Batch 1000 Loss 0.0361\n",
            "Epoch 49 Batch 1100 Loss 0.0466\n",
            "Epoch 49 Batch 1200 Loss 0.0632\n",
            "Epoch 49 Loss 0.0408\n",
            "Time taken for 1 epoch 99.39565563201904 sec\n",
            "\n",
            "Epoch 50 Batch 0 Loss 0.0368\n",
            "Epoch 50 Batch 100 Loss 0.0292\n",
            "Epoch 50 Batch 200 Loss 0.0279\n",
            "Epoch 50 Batch 300 Loss 0.0518\n",
            "Epoch 50 Batch 400 Loss 0.0240\n",
            "Epoch 50 Batch 500 Loss 0.0412\n",
            "Epoch 50 Batch 600 Loss 0.0349\n",
            "Epoch 50 Batch 700 Loss 0.0262\n",
            "Epoch 50 Batch 800 Loss 0.0380\n",
            "Epoch 50 Batch 900 Loss 0.0521\n",
            "Epoch 50 Batch 1000 Loss 0.0424\n",
            "Epoch 50 Batch 1100 Loss 0.0289\n",
            "Epoch 50 Batch 1200 Loss 0.0558\n",
            "Epoch 50 Loss 0.0398\n",
            "Time taken for 1 epoch 100.35727548599243 sec\n",
            "\n"
          ]
        }
      ]
    },
    {
      "cell_type": "markdown",
      "metadata": {
        "id": "mU3Ce8M6I3rz"
      },
      "source": [
        "## Translate\n",
        "\n",
        "* The evaluate function is similar to the training loop, except we don't use *teacher forcing* here. The input to the decoder at each time step is its previous predictions along with the hidden state and the encoder output.\n",
        "* Stop predicting when the model predicts the *end token*.\n",
        "* And store the *attention weights for every time step*.\n",
        "\n",
        "Note: The encoder output is calculated only once for one input."
      ]
    },
    {
      "cell_type": "code",
      "metadata": {
        "id": "EbQpyYs13jF_"
      },
      "source": [
        "def evaluate(sentence):\n",
        "  attention_plot = np.zeros((max_length_targ, max_length_inp))\n",
        "\n",
        "  sentence = preprocess_sentence(sentence)\n",
        "\n",
        "  inputs = [inp_lang.word_index[i] for i in sentence.split(' ')]\n",
        "  inputs = tf.keras.preprocessing.sequence.pad_sequences([inputs],\n",
        "                                                         maxlen=max_length_inp,\n",
        "                                                         padding='post')\n",
        "  inputs = tf.convert_to_tensor(inputs)\n",
        "\n",
        "  result = ''\n",
        "\n",
        "  hidden = [tf.zeros((1, units))]\n",
        "  enc_out, enc_hidden = encoder(inputs, hidden)\n",
        "\n",
        "  dec_hidden = enc_hidden\n",
        "  dec_input = tf.expand_dims([targ_lang.word_index['<start>']], 0)\n",
        "\n",
        "  for t in range(max_length_targ):\n",
        "    predictions, dec_hidden, attention_weights = decoder(dec_input,\n",
        "                                                         dec_hidden,\n",
        "                                                         enc_out)\n",
        "\n",
        "    # storing the attention weights to plot later on\n",
        "    attention_weights = tf.reshape(attention_weights, (-1, ))\n",
        "    attention_plot[t] = attention_weights.numpy()\n",
        "\n",
        "    predicted_id = tf.argmax(predictions[0]).numpy()\n",
        "\n",
        "    result += targ_lang.index_word[predicted_id] + ' '\n",
        "\n",
        "    if targ_lang.index_word[predicted_id] == '<end>':\n",
        "      return result, sentence, attention_plot\n",
        "\n",
        "    # the predicted ID is fed back into the model\n",
        "    dec_input = tf.expand_dims([predicted_id], 0)\n",
        "\n",
        "  return result, sentence, attention_plot"
      ],
      "execution_count": 29,
      "outputs": []
    },
    {
      "cell_type": "code",
      "metadata": {
        "id": "Qjy26Fe8Bv5d"
      },
      "source": [
        "# function for plotting the attention weights\n",
        "def plot_attention(attention, sentence, predicted_sentence):\n",
        "  fig = plt.figure(figsize=(10,10))\n",
        "  ax = fig.add_subplot(1, 1, 1)\n",
        "  ax.matshow(attention, cmap='viridis')\n",
        "\n",
        "  fontdict = {'fontsize': 14}\n",
        "\n",
        "  ax.set_xticklabels([''] + sentence, fontdict=fontdict, rotation=90)\n",
        "  ax.set_yticklabels([''] + predicted_sentence, fontdict=fontdict)\n",
        "\n",
        "  ax.xaxis.set_major_locator(ticker.MultipleLocator(1))\n",
        "  ax.yaxis.set_major_locator(ticker.MultipleLocator(1))\n",
        "\n",
        "  plt.show()"
      ],
      "execution_count": 30,
      "outputs": []
    },
    {
      "cell_type": "code",
      "metadata": {
        "id": "sl9zUHzg3jGI"
      },
      "source": [
        "def translate(sentence):\n",
        "  result, sentence, attention_plot = evaluate(sentence)\n",
        "\n",
        "  print('Input: %s' % (sentence))\n",
        "  print('Predicted translation: {}'.format(result))\n",
        "\n",
        "  attention_plot = attention_plot[:len(result.split(' ')), :len(sentence.split(' '))]\n",
        "  plot_attention(attention_plot, sentence.split(' '), result.split(' '))"
      ],
      "execution_count": 31,
      "outputs": []
    },
    {
      "cell_type": "markdown",
      "metadata": {
        "id": "n250XbnjOaqP"
      },
      "source": [
        "## Restore the latest checkpoint and test"
      ]
    },
    {
      "cell_type": "code",
      "metadata": {
        "id": "UJpT9D5_OgP6",
        "colab": {
          "base_uri": "https://localhost:8080/"
        },
        "outputId": "0aec7812-26d8-4af9-b81a-4ea0745649d9"
      },
      "source": [
        "# restoring the latest checkpoint in checkpoint_dir\n",
        "checkpoint.restore(tf.train.latest_checkpoint(checkpoint_dir))"
      ],
      "execution_count": 32,
      "outputs": [
        {
          "output_type": "execute_result",
          "data": {
            "text/plain": [
              "<tensorflow.python.training.tracking.util.CheckpointLoadStatus at 0x7f1feea1e1d0>"
            ]
          },
          "metadata": {},
          "execution_count": 32
        }
      ]
    },
    {
      "cell_type": "code",
      "metadata": {
        "id": "WrAM0FDomq3E",
        "colab": {
          "base_uri": "https://localhost:8080/",
          "height": 676
        },
        "outputId": "27c4cc1d-7784-41dc-8d6d-f7c3dd8558be"
      },
      "source": [
        "translate('Здесь может быть хорошо.')"
      ],
      "execution_count": 33,
      "outputs": [
        {
          "output_type": "stream",
          "name": "stdout",
          "text": [
            "Input: <start> здесь может быть хорошо . <end>\n",
            "Predicted translation: it may be good . <end> \n"
          ]
        },
        {
          "output_type": "display_data",
          "data": {
            "text/plain": [
              "<Figure size 720x720 with 1 Axes>"
            ],
            "image/png": "[encoded data removed]"
          },
          "metadata": {
            "needs_background": "light"
          }
        }
      ]
    },
    {
      "cell_type": "code",
      "metadata": {
        "id": "5bhFfwcIMX5i",
        "colab": {
          "base_uri": "https://localhost:8080/",
          "height": 624
        },
        "outputId": "7efeeb08-2323-4564-d6eb-022dc00c5f84"
      },
      "source": [
        "translate('Я не смогу поехать завтра.')"
      ],
      "execution_count": 34,
      "outputs": [
        {
          "output_type": "stream",
          "name": "stdout",
          "text": [
            "Input: <start> я не смогу поехать завтра . <end>\n",
            "Predicted translation: i can't go tomorrow . <end> \n"
          ]
        },
        {
          "output_type": "display_data",
          "data": {
            "text/plain": [
              "<Figure size 720x720 with 1 Axes>"
            ],
            "image/png": "[encoded data removed]"
          },
          "metadata": {
            "needs_background": "light"
          }
        }
      ]
    },
    {
      "cell_type": "code",
      "metadata": {
        "id": "zSx2iM36EZQZ",
        "colab": {
          "base_uri": "https://localhost:8080/",
          "height": 676
        },
        "outputId": "5bf0d147-da7f-42cf-81a8-2b038d8cae14"
      },
      "source": [
        "translate(u'Вы еще не дома?')"
      ],
      "execution_count": 35,
      "outputs": [
        {
          "output_type": "stream",
          "name": "stdout",
          "text": [
            "Input: <start> вы еще не дома ? <end>\n",
            "Predicted translation: aren't you home yet ? <end> \n"
          ]
        },
        {
          "output_type": "display_data",
          "data": {
            "text/plain": [
              "<Figure size 720x720 with 1 Axes>"
            ],
            "image/png": "[encoded data removed]"
          },
          "metadata": {
            "needs_background": "light"
          }
        }
      ]
    },
    {
      "cell_type": "code",
      "metadata": {
        "id": "A3LLCx3ZE0Ls",
        "colab": {
          "base_uri": "https://localhost:8080/",
          "height": 676
        },
        "outputId": "53377c33-1857-4c04-8cbc-42bb951e9a0c"
      },
      "source": [
        "translate(u'Когда вы будете дома?')"
      ],
      "execution_count": 36,
      "outputs": [
        {
          "output_type": "stream",
          "name": "stdout",
          "text": [
            "Input: <start> когда вы будете дома ? <end>\n",
            "Predicted translation: when will you be home ? <end> \n"
          ]
        },
        {
          "output_type": "display_data",
          "data": {
            "text/plain": [
              "<Figure size 720x720 with 1 Axes>"
            ],
            "image/png": "[encoded data removed]"
          },
          "metadata": {
            "needs_background": "light"
          }
        }
      ]
    },
    {
      "cell_type": "code",
      "metadata": {
        "id": "DUQVLVqUE1YW",
        "colab": {
          "base_uri": "https://localhost:8080/",
          "height": 693
        },
        "outputId": "09d7a425-e123-4860-8d75-4e540b0d3e98"
      },
      "source": [
        "translate(u'Я попробую сделать это.')"
      ],
      "execution_count": 37,
      "outputs": [
        {
          "output_type": "stream",
          "name": "stdout",
          "text": [
            "Input: <start> я попробую сделать это . <end>\n",
            "Predicted translation: i'll try to do that . <end> \n"
          ]
        },
        {
          "output_type": "display_data",
          "data": {
            "text/plain": [
              "<Figure size 720x720 with 1 Axes>"
            ],
            "image/png": "[encoded data removed]"
          },
          "metadata": {
            "needs_background": "light"
          }
        }
      ]
    },
    {
      "cell_type": "code",
      "metadata": {
        "id": "f09_hUFx9EJh",
        "colab": {
          "base_uri": "https://localhost:8080/",
          "height": 523
        },
        "outputId": "907f90b5-7e68-4f5a-9565-3d3cd5a84808"
      },
      "source": [
        "translate(u'Я не люблю, когда идет дождь.')"
      ],
      "execution_count": 38,
      "outputs": [
        {
          "output_type": "stream",
          "name": "stdout",
          "text": [
            "Input: <start> я не люблю , когда идет дождь . <end>\n",
            "Predicted translation: i don't cry jump . <end> \n"
          ]
        },
        {
          "output_type": "display_data",
          "data": {
            "text/plain": [
              "<Figure size 720x720 with 1 Axes>"
            ],
            "image/png": "[encoded data removed]"
          },
          "metadata": {
            "needs_background": "light"
          }
        }
      ]
    },
    {
      "cell_type": "code",
      "metadata": {
        "id": "e7c5p8rmkHQG",
        "colab": {
          "base_uri": "https://localhost:8080/",
          "height": 676
        },
        "outputId": "11326261-031b-4359-d0c7-40a61c9fbb08"
      },
      "source": [
        "translate(u'Я всегда так делаю.')"
      ],
      "execution_count": 39,
      "outputs": [
        {
          "output_type": "stream",
          "name": "stdout",
          "text": [
            "Input: <start> я всегда так делаю . <end>\n",
            "Predicted translation: i always do that . <end> \n"
          ]
        },
        {
          "output_type": "display_data",
          "data": {
            "text/plain": [
              "<Figure size 720x720 with 1 Axes>"
            ],
            "image/png": "[encoded data removed]"
          },
          "metadata": {
            "needs_background": "light"
          }
        }
      ]
    },
    {
      "cell_type": "code",
      "metadata": {
        "id": "jdXES85KkTVS"
      },
      "source": [],
      "execution_count": 39,
      "outputs": []
    }
  ]
}