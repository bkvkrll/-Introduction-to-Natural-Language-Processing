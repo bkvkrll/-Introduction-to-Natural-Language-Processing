{
  "nbformat": 4,
  "nbformat_minor": 0,
  "metadata": {
    "colab": {
      "name": "lesson8.ipynb",
      "provenance": [],
      "authorship_tag": "ABX9TyMV0QLelEJGcuq4uzwBtyNy",
      "include_colab_link": true
    },
    "kernelspec": {
      "name": "python3",
      "display_name": "Python 3"
    },
    "language_info": {
      "name": "python"
    }
  },
  "cells": [
    {
      "cell_type": "markdown",
      "metadata": {
        "id": "view-in-github",
        "colab_type": "text"
      },
      "source": [
        "<a href=\"https://colab.research.google.com/github/bkvkrll/-Introduction-to-Natural-Language-Processing/blob/main/lesson8.ipynb\" target=\"_parent\"><img src=\"https://colab.research.google.com/assets/colab-badge.svg\" alt=\"Open In Colab\"/></a>"
      ]
    },
    {
      "cell_type": "markdown",
      "source": [
        "Урок 8. Рекуррентные нейронные сети RNN LSTM GRU\n",
        "Задание\n",
        "Данные берем отызывы за лето\n",
        "На вебинаре мы говорили, что долгое время CNN и RNN архитектуры были конурируещими выяснить какая архитектура больше подходит для нашей задачи\n",
        "1. построить свёрточные архитектуры\n",
        "2. построить различные архитектуры с RNN\n",
        "3. построить совместные архитектуры CNN -> RNN или (RNN -> CNN)"
      ],
      "metadata": {
        "id": "_dMFKN1GM-Qx"
      }
    },
    {
      "cell_type": "code",
      "source": [
        "!pip install stop_words"
      ],
      "metadata": {
        "colab": {
          "base_uri": "https://localhost:8080/"
        },
        "id": "xCvECGOnNOSo",
        "outputId": "d966c374-1fc6-4de0-e207-da3f6d992489"
      },
      "execution_count": 1,
      "outputs": [
        {
          "output_type": "stream",
          "name": "stdout",
          "text": [
            "Looking in indexes: https://pypi.org/simple, https://us-python.pkg.dev/colab-wheels/public/simple/\n",
            "Requirement already satisfied: stop_words in /usr/local/lib/python3.7/dist-packages (2018.7.23)\n"
          ]
        }
      ]
    },
    {
      "cell_type": "code",
      "source": [
        "!pip install pymorphy2"
      ],
      "metadata": {
        "colab": {
          "base_uri": "https://localhost:8080/"
        },
        "id": "-14Eys8_NRjF",
        "outputId": "526d2108-391b-4e35-f2f0-0530c0ded4e3"
      },
      "execution_count": 2,
      "outputs": [
        {
          "output_type": "stream",
          "name": "stdout",
          "text": [
            "Looking in indexes: https://pypi.org/simple, https://us-python.pkg.dev/colab-wheels/public/simple/\n",
            "Requirement already satisfied: pymorphy2 in /usr/local/lib/python3.7/dist-packages (0.9.1)\n",
            "Requirement already satisfied: dawg-python>=0.7.1 in /usr/local/lib/python3.7/dist-packages (from pymorphy2) (0.7.2)\n",
            "Requirement already satisfied: docopt>=0.6 in /usr/local/lib/python3.7/dist-packages (from pymorphy2) (0.6.2)\n",
            "Requirement already satisfied: pymorphy2-dicts-ru<3.0,>=2.4 in /usr/local/lib/python3.7/dist-packages (from pymorphy2) (2.4.417127.4579844)\n"
          ]
        }
      ]
    },
    {
      "cell_type": "code",
      "source": [
        "!pip install utils"
      ],
      "metadata": {
        "colab": {
          "base_uri": "https://localhost:8080/"
        },
        "id": "zoLmzevxNTbK",
        "outputId": "dccb53b0-fdfc-40c7-e000-5fdf835f028e"
      },
      "execution_count": 3,
      "outputs": [
        {
          "output_type": "stream",
          "name": "stdout",
          "text": [
            "Looking in indexes: https://pypi.org/simple, https://us-python.pkg.dev/colab-wheels/public/simple/\n",
            "Requirement already satisfied: utils in /usr/local/lib/python3.7/dist-packages (1.0.1)\n"
          ]
        }
      ]
    },
    {
      "cell_type": "code",
      "execution_count": 4,
      "metadata": {
        "id": "_x-vEPkRMPsC"
      },
      "outputs": [],
      "source": [
        "import pandas as pd\n",
        "from sklearn.model_selection import train_test_split\n",
        "\n",
        "from string import punctuation\n",
        "from stop_words import get_stop_words\n",
        "from pymorphy2 import MorphAnalyzer\n",
        "import re\n",
        "from keras.preprocessing.text import Tokenizer\n",
        "from keras.preprocessing.sequence import pad_sequences\n",
        "from sklearn.preprocessing import LabelEncoder\n",
        "import tensorflow as tf\n",
        "\n",
        "from keras.losses import SparseCategoricalCrossentropy\n",
        "from keras.models import Sequential, Model\n",
        "from keras.layers import Dense, Dropout, Activation, Input, Embedding, Conv1D, GlobalMaxPool1D, SimpleRNN, LSTM, GRU, Masking\n",
        "from keras.callbacks import TensorBoard \n",
        "from keras.callbacks import EarlyStopping "
      ]
    },
    {
      "cell_type": "code",
      "source": [
        "import keras.backend as K\n",
        "def get_f1(y_true, y_pred): \n",
        "    true_positives = K.sum(K.round(K.clip(y_true * y_pred, 0, 1)))\n",
        "    possible_positives = K.sum(K.round(K.clip(y_true, 0, 1)))\n",
        "    predicted_positives = K.sum(K.round(K.clip(y_pred, 0, 1)))\n",
        "    precision = true_positives / (predicted_positives + K.epsilon())\n",
        "    recall = true_positives / (possible_positives + K.epsilon())\n",
        "    f1_val = 2*(precision*recall)/(precision+recall+K.epsilon())\n",
        "    return f1_val"
      ],
      "metadata": {
        "id": "T1pp2K2sNe-_"
      },
      "execution_count": 5,
      "outputs": []
    },
    {
      "cell_type": "code",
      "source": [
        "!pip install xlrd==1.2.0"
      ],
      "metadata": {
        "colab": {
          "base_uri": "https://localhost:8080/"
        },
        "id": "re6GNaCCNxCr",
        "outputId": "4b38cf53-ef4c-440c-ac4b-a0c337c22391"
      },
      "execution_count": 6,
      "outputs": [
        {
          "output_type": "stream",
          "name": "stdout",
          "text": [
            "Looking in indexes: https://pypi.org/simple, https://us-python.pkg.dev/colab-wheels/public/simple/\n",
            "Requirement already satisfied: xlrd==1.2.0 in /usr/local/lib/python3.7/dist-packages (1.2.0)\n"
          ]
        }
      ]
    },
    {
      "cell_type": "code",
      "source": [
        "df = pd.read_excel('/content/отзывы за лето (1).xls')\n",
        "df.head()"
      ],
      "metadata": {
        "colab": {
          "base_uri": "https://localhost:8080/",
          "height": 206
        },
        "id": "vNw6OELYNi-8",
        "outputId": "2f7a3b9b-cd99-4c7c-acfc-1c2e0630adb0"
      },
      "execution_count": 7,
      "outputs": [
        {
          "output_type": "execute_result",
          "data": {
            "text/plain": [
              "   Rating                                            Content        Date\n",
              "0       5                                     It just works!  2017-08-14\n",
              "1       4  В целом удобноное приложение...из минусов хотя...  2017-08-14\n",
              "2       5                                        Отлично все  2017-08-14\n",
              "3       5  Стал зависать на 1% работы антивируса. Дальше ...  2017-08-14\n",
              "4       5                     Очень удобно, работает быстро.  2017-08-14"
            ],
            "text/html": [
              "\n",
              "  <div id=\"df-2d6449fd-755e-4c9b-9800-61d4a0ecc5ef\">\n",
              "    <div class=\"colab-df-container\">\n",
              "      <div>\n",
              "<style scoped>\n",
              "    .dataframe tbody tr th:only-of-type {\n",
              "        vertical-align: middle;\n",
              "    }\n",
              "\n",
              "    .dataframe tbody tr th {\n",
              "        vertical-align: top;\n",
              "    }\n",
              "\n",
              "    .dataframe thead th {\n",
              "        text-align: right;\n",
              "    }\n",
              "</style>\n",
              "<table border=\"1\" class=\"dataframe\">\n",
              "  <thead>\n",
              "    <tr style=\"text-align: right;\">\n",
              "      <th></th>\n",
              "      <th>Rating</th>\n",
              "      <th>Content</th>\n",
              "      <th>Date</th>\n",
              "    </tr>\n",
              "  </thead>\n",
              "  <tbody>\n",
              "    <tr>\n",
              "      <th>0</th>\n",
              "      <td>5</td>\n",
              "      <td>It just works!</td>\n",
              "      <td>2017-08-14</td>\n",
              "    </tr>\n",
              "    <tr>\n",
              "      <th>1</th>\n",
              "      <td>4</td>\n",
              "      <td>В целом удобноное приложение...из минусов хотя...</td>\n",
              "      <td>2017-08-14</td>\n",
              "    </tr>\n",
              "    <tr>\n",
              "      <th>2</th>\n",
              "      <td>5</td>\n",
              "      <td>Отлично все</td>\n",
              "      <td>2017-08-14</td>\n",
              "    </tr>\n",
              "    <tr>\n",
              "      <th>3</th>\n",
              "      <td>5</td>\n",
              "      <td>Стал зависать на 1% работы антивируса. Дальше ...</td>\n",
              "      <td>2017-08-14</td>\n",
              "    </tr>\n",
              "    <tr>\n",
              "      <th>4</th>\n",
              "      <td>5</td>\n",
              "      <td>Очень удобно, работает быстро.</td>\n",
              "      <td>2017-08-14</td>\n",
              "    </tr>\n",
              "  </tbody>\n",
              "</table>\n",
              "</div>\n",
              "      <button class=\"colab-df-convert\" onclick=\"convertToInteractive('df-2d6449fd-755e-4c9b-9800-61d4a0ecc5ef')\"\n",
              "              title=\"Convert this dataframe to an interactive table.\"\n",
              "              style=\"display:none;\">\n",
              "        \n",
              "  <svg xmlns=\"http://www.w3.org/2000/svg\" height=\"24px\"viewBox=\"0 0 24 24\"\n",
              "       width=\"24px\">\n",
              "    <path d=\"M0 0h24v24H0V0z\" fill=\"none\"/>\n",
              "    <path d=\"M18.56 5.44l.94 2.06.94-2.06 2.06-.94-2.06-.94-.94-2.06-.94 2.06-2.06.94zm-11 1L8.5 8.5l.94-2.06 2.06-.94-2.06-.94L8.5 2.5l-.94 2.06-2.06.94zm10 10l.94 2.06.94-2.06 2.06-.94-2.06-.94-.94-2.06-.94 2.06-2.06.94z\"/><path d=\"M17.41 7.96l-1.37-1.37c-.4-.4-.92-.59-1.43-.59-.52 0-1.04.2-1.43.59L10.3 9.45l-7.72 7.72c-.78.78-.78 2.05 0 2.83L4 21.41c.39.39.9.59 1.41.59.51 0 1.02-.2 1.41-.59l7.78-7.78 2.81-2.81c.8-.78.8-2.07 0-2.86zM5.41 20L4 18.59l7.72-7.72 1.47 1.35L5.41 20z\"/>\n",
              "  </svg>\n",
              "      </button>\n",
              "      \n",
              "  <style>\n",
              "    .colab-df-container {\n",
              "      display:flex;\n",
              "      flex-wrap:wrap;\n",
              "      gap: 12px;\n",
              "    }\n",
              "\n",
              "    .colab-df-convert {\n",
              "      background-color: #E8F0FE;\n",
              "      border: none;\n",
              "      border-radius: 50%;\n",
              "      cursor: pointer;\n",
              "      display: none;\n",
              "      fill: #1967D2;\n",
              "      height: 32px;\n",
              "      padding: 0 0 0 0;\n",
              "      width: 32px;\n",
              "    }\n",
              "\n",
              "    .colab-df-convert:hover {\n",
              "      background-color: #E2EBFA;\n",
              "      box-shadow: 0px 1px 2px rgba(60, 64, 67, 0.3), 0px 1px 3px 1px rgba(60, 64, 67, 0.15);\n",
              "      fill: #174EA6;\n",
              "    }\n",
              "\n",
              "    [theme=dark] .colab-df-convert {\n",
              "      background-color: #3B4455;\n",
              "      fill: #D2E3FC;\n",
              "    }\n",
              "\n",
              "    [theme=dark] .colab-df-convert:hover {\n",
              "      background-color: #434B5C;\n",
              "      box-shadow: 0px 1px 3px 1px rgba(0, 0, 0, 0.15);\n",
              "      filter: drop-shadow(0px 1px 2px rgba(0, 0, 0, 0.3));\n",
              "      fill: #FFFFFF;\n",
              "    }\n",
              "  </style>\n",
              "\n",
              "      <script>\n",
              "        const buttonEl =\n",
              "          document.querySelector('#df-2d6449fd-755e-4c9b-9800-61d4a0ecc5ef button.colab-df-convert');\n",
              "        buttonEl.style.display =\n",
              "          google.colab.kernel.accessAllowed ? 'block' : 'none';\n",
              "\n",
              "        async function convertToInteractive(key) {\n",
              "          const element = document.querySelector('#df-2d6449fd-755e-4c9b-9800-61d4a0ecc5ef');\n",
              "          const dataTable =\n",
              "            await google.colab.kernel.invokeFunction('convertToInteractive',\n",
              "                                                     [key], {});\n",
              "          if (!dataTable) return;\n",
              "\n",
              "          const docLinkHtml = 'Like what you see? Visit the ' +\n",
              "            '<a target=\"_blank\" href=https://colab.research.google.com/notebooks/data_table.ipynb>data table notebook</a>'\n",
              "            + ' to learn more about interactive tables.';\n",
              "          element.innerHTML = '';\n",
              "          dataTable['output_type'] = 'display_data';\n",
              "          await google.colab.output.renderOutput(dataTable, element);\n",
              "          const docLink = document.createElement('div');\n",
              "          docLink.innerHTML = docLinkHtml;\n",
              "          element.appendChild(docLink);\n",
              "        }\n",
              "      </script>\n",
              "    </div>\n",
              "  </div>\n",
              "  "
            ]
          },
          "metadata": {},
          "execution_count": 7
        }
      ]
    },
    {
      "cell_type": "code",
      "source": [
        "df['Rating'].value_counts()"
      ],
      "metadata": {
        "colab": {
          "base_uri": "https://localhost:8080/"
        },
        "id": "O66pj8yuOCFv",
        "outputId": "11248daf-74b2-4dc5-de84-3a5691593003"
      },
      "execution_count": 8,
      "outputs": [
        {
          "output_type": "execute_result",
          "data": {
            "text/plain": [
              "5    14586\n",
              "1     2276\n",
              "4     2138\n",
              "3      911\n",
              "2      748\n",
              "Name: Rating, dtype: int64"
            ]
          },
          "metadata": {},
          "execution_count": 8
        }
      ]
    },
    {
      "cell_type": "code",
      "source": [
        "df_train, df_test = train_test_split(df, test_size=0.33, random_state=42)\n",
        "df_train = df_train.reset_index(drop=True)\n",
        "df_test = df_test.reset_index(drop=True)\n",
        "df_train.shape, df_test.shape"
      ],
      "metadata": {
        "colab": {
          "base_uri": "https://localhost:8080/"
        },
        "id": "6w4q9HGiOHYz",
        "outputId": "7f1b6f52-e05e-4fd9-da2f-6773197ff41c"
      },
      "execution_count": 9,
      "outputs": [
        {
          "output_type": "execute_result",
          "data": {
            "text/plain": [
              "((13841, 3), (6818, 3))"
            ]
          },
          "metadata": {},
          "execution_count": 9
        }
      ]
    },
    {
      "cell_type": "code",
      "source": [
        "df_train.head()"
      ],
      "metadata": {
        "colab": {
          "base_uri": "https://localhost:8080/",
          "height": 206
        },
        "id": "RtPMfGR5OKld",
        "outputId": "9337e38d-5513-4ca1-8c0b-1c9c871021da"
      },
      "execution_count": 10,
      "outputs": [
        {
          "output_type": "execute_result",
          "data": {
            "text/plain": [
              "   Rating                                            Content        Date\n",
              "0       5  Наконец-то исправили эту чушь с неоргинальной ...  2017-08-09\n",
              "1       5                             Удобно в использовании  2017-07-27\n",
              "2       5                                            Отлично  2017-08-08\n",
              "3       5                                              Класс  2017-07-25\n",
              "4       5                                             Удобно  2017-07-08"
            ],
            "text/html": [
              "\n",
              "  <div id=\"df-81a65d6e-2d1d-4c1f-a7e2-bb26d9efe2d9\">\n",
              "    <div class=\"colab-df-container\">\n",
              "      <div>\n",
              "<style scoped>\n",
              "    .dataframe tbody tr th:only-of-type {\n",
              "        vertical-align: middle;\n",
              "    }\n",
              "\n",
              "    .dataframe tbody tr th {\n",
              "        vertical-align: top;\n",
              "    }\n",
              "\n",
              "    .dataframe thead th {\n",
              "        text-align: right;\n",
              "    }\n",
              "</style>\n",
              "<table border=\"1\" class=\"dataframe\">\n",
              "  <thead>\n",
              "    <tr style=\"text-align: right;\">\n",
              "      <th></th>\n",
              "      <th>Rating</th>\n",
              "      <th>Content</th>\n",
              "      <th>Date</th>\n",
              "    </tr>\n",
              "  </thead>\n",
              "  <tbody>\n",
              "    <tr>\n",
              "      <th>0</th>\n",
              "      <td>5</td>\n",
              "      <td>Наконец-то исправили эту чушь с неоргинальной ...</td>\n",
              "      <td>2017-08-09</td>\n",
              "    </tr>\n",
              "    <tr>\n",
              "      <th>1</th>\n",
              "      <td>5</td>\n",
              "      <td>Удобно в использовании</td>\n",
              "      <td>2017-07-27</td>\n",
              "    </tr>\n",
              "    <tr>\n",
              "      <th>2</th>\n",
              "      <td>5</td>\n",
              "      <td>Отлично</td>\n",
              "      <td>2017-08-08</td>\n",
              "    </tr>\n",
              "    <tr>\n",
              "      <th>3</th>\n",
              "      <td>5</td>\n",
              "      <td>Класс</td>\n",
              "      <td>2017-07-25</td>\n",
              "    </tr>\n",
              "    <tr>\n",
              "      <th>4</th>\n",
              "      <td>5</td>\n",
              "      <td>Удобно</td>\n",
              "      <td>2017-07-08</td>\n",
              "    </tr>\n",
              "  </tbody>\n",
              "</table>\n",
              "</div>\n",
              "      <button class=\"colab-df-convert\" onclick=\"convertToInteractive('df-81a65d6e-2d1d-4c1f-a7e2-bb26d9efe2d9')\"\n",
              "              title=\"Convert this dataframe to an interactive table.\"\n",
              "              style=\"display:none;\">\n",
              "        \n",
              "  <svg xmlns=\"http://www.w3.org/2000/svg\" height=\"24px\"viewBox=\"0 0 24 24\"\n",
              "       width=\"24px\">\n",
              "    <path d=\"M0 0h24v24H0V0z\" fill=\"none\"/>\n",
              "    <path d=\"M18.56 5.44l.94 2.06.94-2.06 2.06-.94-2.06-.94-.94-2.06-.94 2.06-2.06.94zm-11 1L8.5 8.5l.94-2.06 2.06-.94-2.06-.94L8.5 2.5l-.94 2.06-2.06.94zm10 10l.94 2.06.94-2.06 2.06-.94-2.06-.94-.94-2.06-.94 2.06-2.06.94z\"/><path d=\"M17.41 7.96l-1.37-1.37c-.4-.4-.92-.59-1.43-.59-.52 0-1.04.2-1.43.59L10.3 9.45l-7.72 7.72c-.78.78-.78 2.05 0 2.83L4 21.41c.39.39.9.59 1.41.59.51 0 1.02-.2 1.41-.59l7.78-7.78 2.81-2.81c.8-.78.8-2.07 0-2.86zM5.41 20L4 18.59l7.72-7.72 1.47 1.35L5.41 20z\"/>\n",
              "  </svg>\n",
              "      </button>\n",
              "      \n",
              "  <style>\n",
              "    .colab-df-container {\n",
              "      display:flex;\n",
              "      flex-wrap:wrap;\n",
              "      gap: 12px;\n",
              "    }\n",
              "\n",
              "    .colab-df-convert {\n",
              "      background-color: #E8F0FE;\n",
              "      border: none;\n",
              "      border-radius: 50%;\n",
              "      cursor: pointer;\n",
              "      display: none;\n",
              "      fill: #1967D2;\n",
              "      height: 32px;\n",
              "      padding: 0 0 0 0;\n",
              "      width: 32px;\n",
              "    }\n",
              "\n",
              "    .colab-df-convert:hover {\n",
              "      background-color: #E2EBFA;\n",
              "      box-shadow: 0px 1px 2px rgba(60, 64, 67, 0.3), 0px 1px 3px 1px rgba(60, 64, 67, 0.15);\n",
              "      fill: #174EA6;\n",
              "    }\n",
              "\n",
              "    [theme=dark] .colab-df-convert {\n",
              "      background-color: #3B4455;\n",
              "      fill: #D2E3FC;\n",
              "    }\n",
              "\n",
              "    [theme=dark] .colab-df-convert:hover {\n",
              "      background-color: #434B5C;\n",
              "      box-shadow: 0px 1px 3px 1px rgba(0, 0, 0, 0.15);\n",
              "      filter: drop-shadow(0px 1px 2px rgba(0, 0, 0, 0.3));\n",
              "      fill: #FFFFFF;\n",
              "    }\n",
              "  </style>\n",
              "\n",
              "      <script>\n",
              "        const buttonEl =\n",
              "          document.querySelector('#df-81a65d6e-2d1d-4c1f-a7e2-bb26d9efe2d9 button.colab-df-convert');\n",
              "        buttonEl.style.display =\n",
              "          google.colab.kernel.accessAllowed ? 'block' : 'none';\n",
              "\n",
              "        async function convertToInteractive(key) {\n",
              "          const element = document.querySelector('#df-81a65d6e-2d1d-4c1f-a7e2-bb26d9efe2d9');\n",
              "          const dataTable =\n",
              "            await google.colab.kernel.invokeFunction('convertToInteractive',\n",
              "                                                     [key], {});\n",
              "          if (!dataTable) return;\n",
              "\n",
              "          const docLinkHtml = 'Like what you see? Visit the ' +\n",
              "            '<a target=\"_blank\" href=https://colab.research.google.com/notebooks/data_table.ipynb>data table notebook</a>'\n",
              "            + ' to learn more about interactive tables.';\n",
              "          element.innerHTML = '';\n",
              "          dataTable['output_type'] = 'display_data';\n",
              "          await google.colab.output.renderOutput(dataTable, element);\n",
              "          const docLink = document.createElement('div');\n",
              "          docLink.innerHTML = docLinkHtml;\n",
              "          element.appendChild(docLink);\n",
              "        }\n",
              "      </script>\n",
              "    </div>\n",
              "  </div>\n",
              "  "
            ]
          },
          "metadata": {},
          "execution_count": 10
        }
      ]
    },
    {
      "cell_type": "code",
      "source": [
        "sw = set(get_stop_words(\"ru\"))\n",
        "exclude = set(punctuation)\n",
        "morpher = MorphAnalyzer()\n",
        "\n",
        "def preprocess_text(txt):\n",
        "    txt = str(txt)\n",
        "    txt = \"\".join(c for c in txt if c not in exclude)\n",
        "    txt = txt.lower()\n",
        "    txt = re.sub(\"\\sне\", \"не\", txt)\n",
        "    txt = [morpher.parse(word)[0].normal_form for word in txt.split() if word not in sw]\n",
        "    return \" \".join(txt)\n",
        "\n",
        "df_train['Content'] = df_train['Content'].apply(preprocess_text)\n",
        "df_test['Content'] = df_test['Content'].apply(preprocess_text)"
      ],
      "metadata": {
        "id": "z22U6q32OMrN"
      },
      "execution_count": 11,
      "outputs": []
    },
    {
      "cell_type": "code",
      "source": [
        "df_train.head()"
      ],
      "metadata": {
        "colab": {
          "base_uri": "https://localhost:8080/",
          "height": 206
        },
        "id": "B3mBc2LgOTlb",
        "outputId": "57c511c5-ef48-42f6-c3ef-6c84ae92b492"
      },
      "execution_count": 12,
      "outputs": [
        {
          "output_type": "execute_result",
          "data": {
            "text/plain": [
              "   Rating                                            Content        Date\n",
              "0       5  наконецтый исправить чушь снеоргинальный проши...  2017-08-09\n",
              "1       5                               удобно использование  2017-07-27\n",
              "2       5                                            отлично  2017-08-08\n",
              "3       5                                              класс  2017-07-25\n",
              "4       5                                             удобно  2017-07-08"
            ],
            "text/html": [
              "\n",
              "  <div id=\"df-53237a9f-60e4-4934-a786-cb7762afa50e\">\n",
              "    <div class=\"colab-df-container\">\n",
              "      <div>\n",
              "<style scoped>\n",
              "    .dataframe tbody tr th:only-of-type {\n",
              "        vertical-align: middle;\n",
              "    }\n",
              "\n",
              "    .dataframe tbody tr th {\n",
              "        vertical-align: top;\n",
              "    }\n",
              "\n",
              "    .dataframe thead th {\n",
              "        text-align: right;\n",
              "    }\n",
              "</style>\n",
              "<table border=\"1\" class=\"dataframe\">\n",
              "  <thead>\n",
              "    <tr style=\"text-align: right;\">\n",
              "      <th></th>\n",
              "      <th>Rating</th>\n",
              "      <th>Content</th>\n",
              "      <th>Date</th>\n",
              "    </tr>\n",
              "  </thead>\n",
              "  <tbody>\n",
              "    <tr>\n",
              "      <th>0</th>\n",
              "      <td>5</td>\n",
              "      <td>наконецтый исправить чушь снеоргинальный проши...</td>\n",
              "      <td>2017-08-09</td>\n",
              "    </tr>\n",
              "    <tr>\n",
              "      <th>1</th>\n",
              "      <td>5</td>\n",
              "      <td>удобно использование</td>\n",
              "      <td>2017-07-27</td>\n",
              "    </tr>\n",
              "    <tr>\n",
              "      <th>2</th>\n",
              "      <td>5</td>\n",
              "      <td>отлично</td>\n",
              "      <td>2017-08-08</td>\n",
              "    </tr>\n",
              "    <tr>\n",
              "      <th>3</th>\n",
              "      <td>5</td>\n",
              "      <td>класс</td>\n",
              "      <td>2017-07-25</td>\n",
              "    </tr>\n",
              "    <tr>\n",
              "      <th>4</th>\n",
              "      <td>5</td>\n",
              "      <td>удобно</td>\n",
              "      <td>2017-07-08</td>\n",
              "    </tr>\n",
              "  </tbody>\n",
              "</table>\n",
              "</div>\n",
              "      <button class=\"colab-df-convert\" onclick=\"convertToInteractive('df-53237a9f-60e4-4934-a786-cb7762afa50e')\"\n",
              "              title=\"Convert this dataframe to an interactive table.\"\n",
              "              style=\"display:none;\">\n",
              "        \n",
              "  <svg xmlns=\"http://www.w3.org/2000/svg\" height=\"24px\"viewBox=\"0 0 24 24\"\n",
              "       width=\"24px\">\n",
              "    <path d=\"M0 0h24v24H0V0z\" fill=\"none\"/>\n",
              "    <path d=\"M18.56 5.44l.94 2.06.94-2.06 2.06-.94-2.06-.94-.94-2.06-.94 2.06-2.06.94zm-11 1L8.5 8.5l.94-2.06 2.06-.94-2.06-.94L8.5 2.5l-.94 2.06-2.06.94zm10 10l.94 2.06.94-2.06 2.06-.94-2.06-.94-.94-2.06-.94 2.06-2.06.94z\"/><path d=\"M17.41 7.96l-1.37-1.37c-.4-.4-.92-.59-1.43-.59-.52 0-1.04.2-1.43.59L10.3 9.45l-7.72 7.72c-.78.78-.78 2.05 0 2.83L4 21.41c.39.39.9.59 1.41.59.51 0 1.02-.2 1.41-.59l7.78-7.78 2.81-2.81c.8-.78.8-2.07 0-2.86zM5.41 20L4 18.59l7.72-7.72 1.47 1.35L5.41 20z\"/>\n",
              "  </svg>\n",
              "      </button>\n",
              "      \n",
              "  <style>\n",
              "    .colab-df-container {\n",
              "      display:flex;\n",
              "      flex-wrap:wrap;\n",
              "      gap: 12px;\n",
              "    }\n",
              "\n",
              "    .colab-df-convert {\n",
              "      background-color: #E8F0FE;\n",
              "      border: none;\n",
              "      border-radius: 50%;\n",
              "      cursor: pointer;\n",
              "      display: none;\n",
              "      fill: #1967D2;\n",
              "      height: 32px;\n",
              "      padding: 0 0 0 0;\n",
              "      width: 32px;\n",
              "    }\n",
              "\n",
              "    .colab-df-convert:hover {\n",
              "      background-color: #E2EBFA;\n",
              "      box-shadow: 0px 1px 2px rgba(60, 64, 67, 0.3), 0px 1px 3px 1px rgba(60, 64, 67, 0.15);\n",
              "      fill: #174EA6;\n",
              "    }\n",
              "\n",
              "    [theme=dark] .colab-df-convert {\n",
              "      background-color: #3B4455;\n",
              "      fill: #D2E3FC;\n",
              "    }\n",
              "\n",
              "    [theme=dark] .colab-df-convert:hover {\n",
              "      background-color: #434B5C;\n",
              "      box-shadow: 0px 1px 3px 1px rgba(0, 0, 0, 0.15);\n",
              "      filter: drop-shadow(0px 1px 2px rgba(0, 0, 0, 0.3));\n",
              "      fill: #FFFFFF;\n",
              "    }\n",
              "  </style>\n",
              "\n",
              "      <script>\n",
              "        const buttonEl =\n",
              "          document.querySelector('#df-53237a9f-60e4-4934-a786-cb7762afa50e button.colab-df-convert');\n",
              "        buttonEl.style.display =\n",
              "          google.colab.kernel.accessAllowed ? 'block' : 'none';\n",
              "\n",
              "        async function convertToInteractive(key) {\n",
              "          const element = document.querySelector('#df-53237a9f-60e4-4934-a786-cb7762afa50e');\n",
              "          const dataTable =\n",
              "            await google.colab.kernel.invokeFunction('convertToInteractive',\n",
              "                                                     [key], {});\n",
              "          if (!dataTable) return;\n",
              "\n",
              "          const docLinkHtml = 'Like what you see? Visit the ' +\n",
              "            '<a target=\"_blank\" href=https://colab.research.google.com/notebooks/data_table.ipynb>data table notebook</a>'\n",
              "            + ' to learn more about interactive tables.';\n",
              "          element.innerHTML = '';\n",
              "          dataTable['output_type'] = 'display_data';\n",
              "          await google.colab.output.renderOutput(dataTable, element);\n",
              "          const docLink = document.createElement('div');\n",
              "          docLink.innerHTML = docLinkHtml;\n",
              "          element.appendChild(docLink);\n",
              "        }\n",
              "      </script>\n",
              "    </div>\n",
              "  </div>\n",
              "  "
            ]
          },
          "metadata": {},
          "execution_count": 12
        }
      ]
    },
    {
      "cell_type": "code",
      "source": [
        "text_corpus_train = df_train['Content'].values\n",
        "text_corpus_test = df_test['Content'].values\n",
        "len(text_corpus_train), text_corpus_train"
      ],
      "metadata": {
        "colab": {
          "base_uri": "https://localhost:8080/"
        },
        "id": "uqEXf0OaOVoE",
        "outputId": "8ddea553-6aee-4fd1-fafc-ec014489148a"
      },
      "execution_count": 13,
      "outputs": [
        {
          "output_type": "execute_result",
          "data": {
            "text/plain": [
              "(13841,\n",
              " array(['наконецтый исправить чушь снеоргинальный прошивка приложение удобно пользоваться',\n",
              "        'удобно использование', 'отлично', ...,\n",
              "        'мочь скачать ошибка номер 24', 'сбербанк', 'целое отлично'],\n",
              "       dtype=object))"
            ]
          },
          "metadata": {},
          "execution_count": 13
        }
      ]
    },
    {
      "cell_type": "code",
      "source": [
        "tokenizer = Tokenizer(num_words=None, \n",
        "                     filters='#$%&()*+-<=>@[\\\\]^_`{|}~\\t\\n',\n",
        "                     lower = False,\n",
        "                      split = ' ') \n",
        "\n",
        "tokenizer.fit_on_texts(text_corpus_train)\n",
        "\n",
        "len(tokenizer.index_word), tokenizer.index_word"
      ],
      "metadata": {
        "colab": {
          "base_uri": "https://localhost:8080/"
        },
        "id": "lGX9N1raOYAU",
        "outputId": "6aa75b79-5d80-4afd-9077-bb90e263411d"
      },
      "execution_count": 14,
      "outputs": [
        {
          "output_type": "execute_result",
          "data": {
            "text/plain": [
              "(10292,\n",
              " {1: 'приложение',\n",
              "  2: 'удобно',\n",
              "  3: 'работать',\n",
              "  4: 'удобный',\n",
              "  5: 'отлично',\n",
              "  6: 'нравиться',\n",
              "  7: 'хороший',\n",
              "  8: 'отличный',\n",
              "  9: 'телефон',\n",
              "  10: 'супер',\n",
              "  11: 'быстро',\n",
              "  12: 'обновление',\n",
              "  13: 'пароль',\n",
              "  14: 'мочь',\n",
              "  15: 'пользоваться',\n",
              "  16: 'антивирус',\n",
              "  17: 'банк',\n",
              "  18: 'вход',\n",
              "  19: 'устраивать',\n",
              "  20: 'сбербанк',\n",
              "  21: 'раз',\n",
              "  22: 'прошивка',\n",
              "  23: 'карта',\n",
              "  24: 'проблема',\n",
              "  25: 'рута',\n",
              "  26: 'программа',\n",
              "  27: 'ошибка',\n",
              "  28: 'разработчик',\n",
              "  29: 'сделать',\n",
              "  30: 'приходиться',\n",
              "  31: 'вводить',\n",
              "  32: 'перевод',\n",
              "  33: 'счёт',\n",
              "  34: 'писать',\n",
              "  35: 'норма',\n",
              "  36: 'деньга',\n",
              "  37: 'довольный',\n",
              "  38: 'около',\n",
              "  39: 'постоянно',\n",
              "  40: 'нормально',\n",
              "  41: 'код',\n",
              "  42: 'исправить',\n",
              "  43: 'смс',\n",
              "  44: 'платёж',\n",
              "  45: 'понятно',\n",
              "  46: 'последний',\n",
              "  47: 'функция',\n",
              "  48: 'зайти',\n",
              "  49: 'свой',\n",
              "  50: 'вылетать',\n",
              "  51: 'мобильный',\n",
              "  52: 'стать',\n",
              "  53: 'шаблон',\n",
              "  54: 'приходить',\n",
              "  55: 'возможность',\n",
              "  56: 'право',\n",
              "  57: 'делать',\n",
              "  58: 'иня',\n",
              "  59: 'проверка',\n",
              "  60: 'класс',\n",
              "  61: 'установить',\n",
              "  62: 'root',\n",
              "  63: 'заходить',\n",
              "  64: '5',\n",
              "  65: 'meizu',\n",
              "  66: 'работа',\n",
              "  67: 'операция',\n",
              "  68: 'оплата',\n",
              "  69: 'нужный',\n",
              "  70: 'онлайн',\n",
              "  71: 'войти',\n",
              "  72: 'ввод',\n",
              "  73: 'функционал',\n",
              "  74: 'мой',\n",
              "  75: 'доступ',\n",
              "  76: 'версия',\n",
              "  77: 'первый',\n",
              "  78: 'молодец',\n",
              "  79: 'один',\n",
              "  80: 'отпечаток',\n",
              "  81: 'удалить',\n",
              "  82: 'полный',\n",
              "  83: 'вообще',\n",
              "  84: 'номер',\n",
              "  85: 'новый',\n",
              "  86: 'интернет',\n",
              "  87: 'самый',\n",
              "  88: '2',\n",
              "  89: 'изз',\n",
              "  90: 'круто',\n",
              "  91: 'уведомление',\n",
              "  92: 'убрать',\n",
              "  93: 'просить',\n",
              "  94: 'какой',\n",
              "  95: 'запуск',\n",
              "  96: 'приложениен',\n",
              "  97: 'перестать',\n",
              "  98: 'ян',\n",
              "  99: 'клиент',\n",
              "  100: 'понравиться',\n",
              "  101: 'ваш',\n",
              "  102: 'оплатить',\n",
              "  103: 'рука',\n",
              "  104: 'устройство',\n",
              "  105: 'кредит',\n",
              "  106: 'простой',\n",
              "  107: 'легко',\n",
              "  108: 'плохо',\n",
              "  109: 'удалять',\n",
              "  110: 'выдавать',\n",
              "  111: 'оплачивать',\n",
              "  112: 'вирус',\n",
              "  113: 'целое',\n",
              "  114: 'сбер',\n",
              "  115: 'палец',\n",
              "  116: 'запускаться',\n",
              "  117: 'дом',\n",
              "  118: 'выходить',\n",
              "  119: 'плохой',\n",
              "  120: '3',\n",
              "  121: 'добавить',\n",
              "  122: 'сразу',\n",
              "  123: 'большой',\n",
              "  124: 'ждать',\n",
              "  125: 'нормальный',\n",
              "  126: 'открываться',\n",
              "  127: 'замечательный',\n",
              "  128: 'другой',\n",
              "  129: 'безопасность',\n",
              "  130: 'быстрый',\n",
              "  131: 'минус',\n",
              "  132: 'любой',\n",
              "  133: 'ввести',\n",
              "  134: 'оригинальный',\n",
              "  135: 'никакой',\n",
              "  136: 'интерфейс',\n",
              "  137: 'каждый',\n",
              "  138: 'дать',\n",
              "  139: 'услуга',\n",
              "  140: 'ничегон',\n",
              "  141: 'идти',\n",
              "  142: 'грузиться',\n",
              "  143: 'месяц',\n",
              "  144: 'знать',\n",
              "  145: 'проверять',\n",
              "  146: 'отзыв',\n",
              "  147: 'переводить',\n",
              "  148: 'инициализация',\n",
              "  149: 'сообщение',\n",
              "  150: 'хотеть',\n",
              "  151: 'звезда',\n",
              "  152: 'установка',\n",
              "  153: '4',\n",
              "  154: 'сервис',\n",
              "  155: 'устанавливаться',\n",
              "  156: 'дело',\n",
              "  157: 'банкомат',\n",
              "  158: 'контакт',\n",
              "  159: 'классный',\n",
              "  160: 'главное',\n",
              "  161: 'видеть',\n",
              "  162: 'загружаться',\n",
              "  163: 'минута',\n",
              "  164: 'скачать',\n",
              "  165: 'давать',\n",
              "  166: 'вернуть',\n",
              "  167: 'андроид',\n",
              "  168: 'ставить',\n",
              "  169: 'долгий',\n",
              "  170: 'попытка',\n",
              "  171: 'перевести',\n",
              "  172: 'загрузка',\n",
              "  173: 'остальной',\n",
              "  174: 'тормозить',\n",
              "  175: 'смартфон',\n",
              "  176: 'финансы',\n",
              "  177: 'найти',\n",
              "  178: 'решить',\n",
              "  179: 'встроить',\n",
              "  180: 'чётко',\n",
              "  181: 'использование',\n",
              "  182: 'прийтись',\n",
              "  183: 'сумма',\n",
              "  184: 'классно',\n",
              "  185: 'зависать',\n",
              "  186: 'хотеться',\n",
              "  187: 'история',\n",
              "  188: 'полезный',\n",
              "  189: 'получаться',\n",
              "  190: '10',\n",
              "  191: 'доступно',\n",
              "  192: 'система',\n",
              "  193: 'средство',\n",
              "  194: 'ужасный',\n",
              "  195: 'связь',\n",
              "  196: 'прога',\n",
              "  197: 'пин',\n",
              "  198: 'общий',\n",
              "  199: 'заново',\n",
              "  200: 'вообщен',\n",
              "  201: 'старый',\n",
              "  202: 'пользователь',\n",
              "  203: 'возможно',\n",
              "  204: 'такой',\n",
              "  205: 'входить',\n",
              "  206: 'пропасть',\n",
              "  207: 'вроде',\n",
              "  208: 'настройка',\n",
              "  209: 'информация',\n",
              "  210: 'бесить',\n",
              "  211: 'смочь',\n",
              "  212: 'понятный',\n",
              "  213: 'дважды',\n",
              "  214: 'второй',\n",
              "  215: 'сайт',\n",
              "  216: 'помогать',\n",
              "  217: 'думать',\n",
              "  218: 'сеть',\n",
              "  219: 'который',\n",
              "  220: 'глючить',\n",
              "  221: 'чтоня',\n",
              "  222: 'баланс',\n",
              "  223: '24',\n",
              "  224: 'пытаться',\n",
              "  225: 'открыть',\n",
              "  226: 'экономить',\n",
              "  227: 'посмотреть',\n",
              "  228: 'выкидывать',\n",
              "  229: 'требовать',\n",
              "  230: 'управлять',\n",
              "  231: 'момент',\n",
              "  232: 'гуд',\n",
              "  233: 'происходить',\n",
              "  234: 'день',\n",
              "  235: 'лишний',\n",
              "  236: 'поставить',\n",
              "  237: '1',\n",
              "  238: 'показывать',\n",
              "  239: 'оценка',\n",
              "  240: 'сервер',\n",
              "  241: 'этоня',\n",
              "  242: 'отправить',\n",
              "  243: 'ужасно',\n",
              "  244: 'рекомендовать',\n",
              "  245: 'данный',\n",
              "  246: 'ноне',\n",
              "  247: 'стабильно',\n",
              "  248: 'должный',\n",
              "  249: 'постоянный',\n",
              "  250: 'android',\n",
              "  251: 'советовать',\n",
              "  252: 'здорово',\n",
              "  253: 'вклад',\n",
              "  254: 'память',\n",
              "  255: 'чтоть',\n",
              "  256: 'либо',\n",
              "  257: 'тупить',\n",
              "  258: 'заработать',\n",
              "  259: 'тк',\n",
              "  260: 'личный',\n",
              "  261: 'регистрация',\n",
              "  262: 'обновить',\n",
              "  263: 'стоить',\n",
              "  264: 'раздражать',\n",
              "  265: 'появиться',\n",
              "  266: 'приятно',\n",
              "  267: 'экран',\n",
              "  268: 'покан',\n",
              "  269: 'разобраться',\n",
              "  270: 'висеть',\n",
              "  271: 'запрашивать',\n",
              "  272: 'вопрос',\n",
              "  273: 'сбой',\n",
              "  274: 'ребята',\n",
              "  275: 'виснуть',\n",
              "  276: 'доступный',\n",
              "  277: 'подтверждение',\n",
              "  278: 'надёжно',\n",
              "  279: 'бесполезный',\n",
              "  280: 'читать',\n",
              "  281: 'совершать',\n",
              "  282: 'место',\n",
              "  283: 'официальный',\n",
              "  284: 'выручать',\n",
              "  285: 'использовать',\n",
              "  286: 'полностью',\n",
              "  287: 'соединение',\n",
              "  288: 'ограничение',\n",
              "  289: 'ограничить',\n",
              "  290: 'страница',\n",
              "  291: 'redmi',\n",
              "  292: 'написать',\n",
              "  293: 'огромный',\n",
              "  294: 'ругаться',\n",
              "  295: 'глюк',\n",
              "  296: 'слово',\n",
              "  297: 'ана',\n",
              "  298: 'samsung',\n",
              "  299: 'логин',\n",
              "  300: 'дажена',\n",
              "  301: 'проверить',\n",
              "  302: 'набирать',\n",
              "  303: 'помощь',\n",
              "  304: 'менять',\n",
              "  305: 'держать',\n",
              "  306: 'человек',\n",
              "  307: 'кабинет',\n",
              "  308: 'понимать',\n",
              "  309: 'вполне',\n",
              "  310: 'xiaomi',\n",
              "  311: 'отвратительный',\n",
              "  312: 'сканер',\n",
              "  313: 'хватать',\n",
              "  314: 'список',\n",
              "  315: 'ответ',\n",
              "  316: '👍',\n",
              "  317: 'банковский',\n",
              "  318: 'мейза',\n",
              "  319: 'управление',\n",
              "  320: 'получить',\n",
              "  321: 'поэтому',\n",
              "  322: 'нарекание',\n",
              "  323: 'платить',\n",
              "  324: 'уважаемый',\n",
              "  325: 'помочь',\n",
              "  326: 'находить',\n",
              "  327: 'начинать',\n",
              "  328: 'появляться',\n",
              "  329: 'повторный',\n",
              "  330: 'очередь',\n",
              "  331: 'лично',\n",
              "  332: 'самсунг',\n",
              "  333: 'предложение',\n",
              "  334: 'обновляться',\n",
              "  335: 'удобство',\n",
              "  336: 'штрихкод',\n",
              "  337: 'радовать',\n",
              "  338: 'прекрасный',\n",
              "  339: 'проходить',\n",
              "  340: 'смысл',\n",
              "  341: 'обновлениян',\n",
              "  342: 'браузер',\n",
              "  343: 'исправлять',\n",
              "  344: '👍👍👍',\n",
              "  345: 'равно',\n",
              "  346: 'подключение',\n",
              "  347: 'единственный',\n",
              "  348: 'исправт',\n",
              "  349: 'достаточно',\n",
              "  350: 'грузить',\n",
              "  351: '23',\n",
              "  352: 'отображаться',\n",
              "  353: 'ужас',\n",
              "  354: 'надеяться',\n",
              "  355: 'час',\n",
              "  356: 'плюс',\n",
              "  357: 'защита',\n",
              "  358: 'илинет',\n",
              "  359: 'раздел',\n",
              "  360: 'приятный',\n",
              "  361: 'начать',\n",
              "  362: 'подключить',\n",
              "  363: 'файл',\n",
              "  364: 'расход',\n",
              "  365: 'косяк',\n",
              "  366: 'сильно',\n",
              "  367: 'оперативно',\n",
              "  368: 'ходить',\n",
              "  369: 'обслуживание',\n",
              "  370: 'note',\n",
              "  371: 'выбрасывать',\n",
              "  372: 'открывать',\n",
              "  373: 'хрень',\n",
              "  374: 'отключить',\n",
              "  375: 'выполнять',\n",
              "  376: 'итог',\n",
              "  377: 'удобноне',\n",
              "  378: 'pay',\n",
              "  379: 'почемуть',\n",
              "  380: '6',\n",
              "  381: 'меню',\n",
              "  382: 'понесколько',\n",
              "  383: 'многий',\n",
              "  384: 'авторизация',\n",
              "  385: 'какойтый',\n",
              "  386: 'пинкод',\n",
              "  387: '100',\n",
              "  388: 'бред',\n",
              "  389: 'пользование',\n",
              "  390: 'действие',\n",
              "  391: 'тд',\n",
              "  392: 'разраб',\n",
              "  393: 'стоять',\n",
              "  394: 'планшет',\n",
              "  395: 'срочно',\n",
              "  396: 'больший',\n",
              "  397: 'напрягать',\n",
              "  398: 'безопасно',\n",
              "  399: 'крутой',\n",
              "  400: 'удаление',\n",
              "  401: 'считать',\n",
              "  402: 'друг',\n",
              "  403: 'например',\n",
              "  404: 'заводский',\n",
              "  405: 'скачивать',\n",
              "  406: 'занимать',\n",
              "  407: 'good',\n",
              "  408: 'скачиваться',\n",
              "  409: 'жаль',\n",
              "  410: 'третий',\n",
              "  411: 'устанавливать',\n",
              "  412: 'данные',\n",
              "  413: 'пройти',\n",
              "  414: 'скорость',\n",
              "  415: 'практично',\n",
              "  416: 'пара',\n",
              "  417: 'почемун',\n",
              "  418: 'кнопка',\n",
              "  419: 'видно',\n",
              "  420: 'выписка',\n",
              "  421: 'проблемень',\n",
              "  422: 'причина',\n",
              "  423: 'погашение',\n",
              "  424: 'огонь',\n",
              "  425: 'штука',\n",
              "  426: 'хорошоя',\n",
              "  427: 'пополнить',\n",
              "  428: 'медленно',\n",
              "  429: 'жкх',\n",
              "  430: 'понять',\n",
              "  431: 'm5',\n",
              "  432: 'выбор',\n",
              "  433: 'корректно',\n",
              "  434: 'сканировать',\n",
              "  435: 'прочитать',\n",
              "  436: 'возникать',\n",
              "  437: 'переустановка',\n",
              "  438: 'режим',\n",
              "  439: 'купить',\n",
              "  440: 'остаться',\n",
              "  441: 'случай',\n",
              "  442: 'зарегистрироваться',\n",
              "  443: 'жить',\n",
              "  444: 'инет',\n",
              "  445: 'sony',\n",
              "  446: 'поддержка',\n",
              "  447: 'мнен',\n",
              "  448: 'ok',\n",
              "  449: 'автоплатёж',\n",
              "  450: 'принцип',\n",
              "  451: 'оповещение',\n",
              "  452: 'досрочный',\n",
              "  453: 'super',\n",
              "  454: 'отправлять',\n",
              "  455: 'преложение',\n",
              "  456: 'намного',\n",
              "  457: 'хрен',\n",
              "  458: 'pro',\n",
              "  459: 'квитанция',\n",
              "  460: 'невозможно',\n",
              "  461: 'пропадать',\n",
              "  462: 'штраф',\n",
              "  463: 'сказать',\n",
              "  464: 'пойти',\n",
              "  465: 'баг',\n",
              "  466: 'штрих',\n",
              "  467: 'приветствие',\n",
              "  468: 'неплохо',\n",
              "  469: 'вещь',\n",
              "  470: 'изменить',\n",
              "  471: 'получать',\n",
              "  472: 'оченьнеудобный',\n",
              "  473: 'иначе',\n",
              "  474: 'сброс',\n",
              "  475: 'карман',\n",
              "  476: 'достать',\n",
              "  477: 'нафиг',\n",
              "  478: 'блокировать',\n",
              "  479: 'главный',\n",
              "  480: 'наличие',\n",
              "  481: 'исчезнуть',\n",
              "  482: 'меняня',\n",
              "  483: 'комиссия',\n",
              "  484: 'периодически',\n",
              "  485: 'увидеть',\n",
              "  486: 'создать',\n",
              "  487: 'лёгкий',\n",
              "  488: 'тупой',\n",
              "  489: 'обнова',\n",
              "  490: 'смсон',\n",
              "  491: 'большен',\n",
              "  492: 'приложениян',\n",
              "  493: 'урезать',\n",
              "  494: 'звонить',\n",
              "  495: 'прийти',\n",
              "  496: 'обновлять',\n",
              "  497: 'еслина',\n",
              "  498: 'компьютер',\n",
              "  499: 'выполнить',\n",
              "  500: 'работаетний',\n",
              "  501: 'начало',\n",
              "  502: 'мобильно',\n",
              "  503: 'мешать',\n",
              "  504: 'чтонуть',\n",
              "  505: 'запустить',\n",
              "  506: 'вний',\n",
              "  507: 'отделение',\n",
              "  508: 'открытие',\n",
              "  509: 'быня',\n",
              "  510: 'копилка',\n",
              "  511: 'отказываться',\n",
              "  512: 'разуна',\n",
              "  513: 'galaxy',\n",
              "  514: 'заблокировать',\n",
              "  515: 'прошивкан',\n",
              "  516: 'смотреть',\n",
              "  517: 'секунда',\n",
              "  518: 'якобы',\n",
              "  519: 'задолбать',\n",
              "  520: 'пополнение',\n",
              "  521: 'надоесть',\n",
              "  522: 'обращение',\n",
              "  523: 'ограничивать',\n",
              "  524: 'обратно',\n",
              "  525: 'узнать',\n",
              "  526: 'аппарат',\n",
              "  527: 'включить',\n",
              "  528: 'следить',\n",
              "  529: 'стабильный',\n",
              "  530: 'предлагать',\n",
              "  531: 'совершить',\n",
              "  532: 'добрый',\n",
              "  533: 'теперьня',\n",
              "  534: 'качественно',\n",
              "  535: 'положить',\n",
              "  536: 'дизайн',\n",
              "  537: 'flyme',\n",
              "  538: 'значок',\n",
              "  539: 'сменить',\n",
              "  540: 'сканирование',\n",
              "  541: 'удаться',\n",
              "  542: 'говорить',\n",
              "  543: 'куча',\n",
              "  544: 'сб',\n",
              "  545: 'подряд',\n",
              "  546: 'остаток',\n",
              "  547: 'уровень',\n",
              "  548: 'страна',\n",
              "  549: 'жена',\n",
              "  550: 'никогдан',\n",
              "  551: 'следующий',\n",
              "  552: 'разан',\n",
              "  553: 'прежний',\n",
              "  554: 'здравствуйте',\n",
              "  555: 'создавать',\n",
              "  556: 'повторно',\n",
              "  557: 'окно',\n",
              "  558: 'скачивание',\n",
              "  559: 'переустановить',\n",
              "  560: 'бывать',\n",
              "  561: 'оператор',\n",
              "  562: 'пробовать',\n",
              "  563: 'балл',\n",
              "  564: 'оченьня',\n",
              "  565: 'тело',\n",
              "  566: 'всякий',\n",
              "  567: 'функционально',\n",
              "  568: 'решать',\n",
              "  569: 'россия',\n",
              "  570: 'удача',\n",
              "  571: 'цель',\n",
              "  572: 'rootправо',\n",
              "  573: 'продолжать',\n",
              "  574: 'денежный',\n",
              "  575: 'бесполезно',\n",
              "  576: 'отвечать',\n",
              "  577: 'решение',\n",
              "  578: 'иметься',\n",
              "  579: 'батарея',\n",
              "  580: 'приложениемень',\n",
              "  581: 'медленный',\n",
              "  582: 'китайский',\n",
              "  583: 'пусть',\n",
              "  584: 'пол',\n",
              "  585: 'лагаета',\n",
              "  586: 'требоваться',\n",
              "  587: 'зависание',\n",
              "  588: 'жизнь',\n",
              "  589: 'закрыть',\n",
              "  590: 'запускать',\n",
              "  591: 'качество',\n",
              "  592: 'подключиться',\n",
              "  593: 'предыдущий',\n",
              "  594: 'жрать',\n",
              "  595: 'позволять',\n",
              "  596: 'рутправо',\n",
              "  597: 'простон',\n",
              "  598: 'комфортно',\n",
              "  599: '7',\n",
              "  600: 'закрываться',\n",
              "  601: 'воспользоваться',\n",
              "  602: 'становиться',\n",
              "  603: 'звонок',\n",
              "  604: 'телефонна',\n",
              "  605: 'придумать',\n",
              "  606: 'возможный',\n",
              "  607: 'двойной',\n",
              "  608: 'тон',\n",
              "  609: 'сидеть',\n",
              "  610: 'наконецтый',\n",
              "  611: 'asus',\n",
              "  612: 'правда',\n",
              "  613: 'многие',\n",
              "  614: 'интуитивно',\n",
              "  615: 'ещён',\n",
              "  616: 'пишетний',\n",
              "  617: 'короче',\n",
              "  618: 'поменять',\n",
              "  619: 'оставаться',\n",
              "  620: 'вечно',\n",
              "  621: 'поиск',\n",
              "  622: 'безний',\n",
              "  623: 'господин',\n",
              "  624: 'рутировать',\n",
              "  625: 'изменение',\n",
              "  626: 'рутом',\n",
              "  627: 'брать',\n",
              "  628: 'вид',\n",
              "  629: 'подсказать',\n",
              "  630: 'исправно',\n",
              "  631: 'служба',\n",
              "  632: 'бесконтактный',\n",
              "  633: 'желать',\n",
              "  634: 'целый',\n",
              "  635: 'облегчать',\n",
              "  636: 'произойти',\n",
              "  637: 'модифицированный',\n",
              "  638: 'замечание',\n",
              "  639: 'переустанавливать',\n",
              "  640: 'опция',\n",
              "  641: 'фигня',\n",
              "  642: 'получиться',\n",
              "  643: 'зайтина',\n",
              "  644: 'внимание',\n",
              "  645: 'весь',\n",
              "  646: 'вылет',\n",
              "  647: 'онон',\n",
              "  648: 'абсолютно',\n",
              "  649: 'спрашивать',\n",
              "  650: 'кредитный',\n",
              "  651: 'практически',\n",
              "  652: 'сравнение',\n",
              "  653: 'проводить',\n",
              "  654: 'урезанный',\n",
              "  655: 'прямо',\n",
              "  656: 'исправление',\n",
              "  657: 'ужена',\n",
              "  658: 'подводить',\n",
              "  659: 'высокий',\n",
              "  660: 'антивирусный',\n",
              "  661: 'снести',\n",
              "  662: '2017',\n",
              "  663: 'что',\n",
              "  664: 'ситуация',\n",
              "  665: 'бегать',\n",
              "  666: 'рабочий',\n",
              "  667: 'обнаружить',\n",
              "  668: 'вместо',\n",
              "  669: 'надёжный',\n",
              "  670: 'текущий',\n",
              "  671: 'фон',\n",
              "  672: 'искать',\n",
              "  673: 'видимо',\n",
              "  674: 'видный',\n",
              "  675: 'дерьмо',\n",
              "  676: 'комп',\n",
              "  677: 'останавливаться',\n",
              "  678: 'испортить',\n",
              "  679: 'пополнять',\n",
              "  680: 'доработать',\n",
              "  681: 'снимать',\n",
              "  682: 'мера',\n",
              "  683: 'qr',\n",
              "  684: 'покупка',\n",
              "  685: 'ранее',\n",
              "  686: 'the',\n",
              "  687: 'отсутствовать',\n",
              "  688: 'нажимать',\n",
              "  689: 'аккаунт',\n",
              "  690: 'коммунальный',\n",
              "  691: 'разный',\n",
              "  692: 'правильно',\n",
              "  693: 'этогон',\n",
              "  694: 'набор',\n",
              "  695: 'отстой',\n",
              "  696: 'помощник',\n",
              "  697: 'добавлять',\n",
              "  698: 'контроль',\n",
              "  699: 'вручную',\n",
              "  700: 'какиеть',\n",
              "  701: 'повторить',\n",
              "  702: 'защитить',\n",
              "  703: 'сносить',\n",
              "  704: 'неплохой',\n",
              "  705: 'стабильность',\n",
              "  706: 'просьба',\n",
              "  707: 'чегон',\n",
              "  708: 'менянета',\n",
              "  709: 'конец',\n",
              "  710: 'пункт',\n",
              "  711: 'просмотр',\n",
              "  712: 'произвести',\n",
              "  713: 'красиво',\n",
              "  714: 'установленный',\n",
              "  715: 'lenovo',\n",
              "  716: 'ограниченный',\n",
              "  717: 'запрос',\n",
              "  718: 'ноль',\n",
              "  719: 'весить',\n",
              "  720: 'выйти',\n",
              "  721: 'банкно',\n",
              "  722: 'владелец',\n",
              "  723: 'ресурс',\n",
              "  724: 'привязать',\n",
              "  725: '963',\n",
              "  726: 'списание',\n",
              "  727: 'окей',\n",
              "  728: 'вкладка',\n",
              "  729: 'загружать',\n",
              "  730: 'введение',\n",
              "  731: 'сутки',\n",
              "  732: 'гораздо',\n",
              "  733: 'качать',\n",
              "  734: 'число',\n",
              "  735: 'рутанета',\n",
              "  736: 'слетать',\n",
              "  737: 'весьма',\n",
              "  738: 'телефонана',\n",
              "  739: 'отключение',\n",
              "  740: 'провести',\n",
              "  741: 'любить',\n",
              "  742: 'заметить',\n",
              "  743: 'толк',\n",
              "  744: 'удаваться',\n",
              "  745: 'благодарить',\n",
              "  746: 'состояние',\n",
              "  747: 'отчёт',\n",
              "  748: 'htc',\n",
              "  749: 'редко',\n",
              "  750: 'девайс',\n",
              "  751: 'откуда',\n",
              "  752: 'попасть',\n",
              "  753: 'находиться',\n",
              "  754: 'вайфай',\n",
              "  755: 'регулярно',\n",
              "  756: 'причём',\n",
              "  757: 'регистрироваться',\n",
              "  758: 'кошелёк',\n",
              "  759: 'отображать',\n",
              "  760: 'ништяк',\n",
              "  761: 'перезагрузка',\n",
              "  762: 'принять',\n",
              "  763: 'полноценно',\n",
              "  764: 'удовольствие',\n",
              "  765: 'приложениина',\n",
              "  766: 'функциональный',\n",
              "  767: 'остановить',\n",
              "  768: 'верный',\n",
              "  769: 'попробовать',\n",
              "  770: 'понесколька',\n",
              "  771: 'создатель',\n",
              "  772: 'забыть',\n",
              "  773: 'телефонный',\n",
              "  774: 'порадовать',\n",
              "  775: 'чушь',\n",
              "  776: 'экономия',\n",
              "  777: 'тормоз',\n",
              "  778: 'взять',\n",
              "  779: 'push',\n",
              "  780: 'ура',\n",
              "  781: 'предупреждение',\n",
              "  782: 'тп',\n",
              "  783: 'прошлый',\n",
              "  784: 'криворукий',\n",
              "  785: 'левый',\n",
              "  786: 'разрешение',\n",
              "  787: 'реально',\n",
              "  788: 'загрузить',\n",
              "  789: 'появление',\n",
              "  790: 'дорога',\n",
              "  791: 'комментарий',\n",
              "  792: 'оставлять',\n",
              "  793: 'ожидание',\n",
              "  794: 'поправить',\n",
              "  795: 'устранить',\n",
              "  796: 'безопасный',\n",
              "  797: 'бесконечный',\n",
              "  798: 'контролировать',\n",
              "  799: 'ссылаться',\n",
              "  800: 'лезть',\n",
              "  801: 'дождаться',\n",
              "  802: 'rootдоступ',\n",
              "  803: '0',\n",
              "  804: 'порядок',\n",
              "  805: 'они',\n",
              "  806: 'программист',\n",
              "  807: 'ответить',\n",
              "  808: 'родный',\n",
              "  809: 'спс',\n",
              "  810: 'мнение',\n",
              "  811: 'потерять',\n",
              "  812: 'ерунда',\n",
              "  813: 'xperia',\n",
              "  814: 'иногдан',\n",
              "  815: 'вариант',\n",
              "  816: 'начинаться',\n",
              "  817: 'процесс',\n",
              "  818: 'книга',\n",
              "  819: 'твёрдый',\n",
              "  820: 'похоже',\n",
              "  821: '😊',\n",
              "  822: 'операциина',\n",
              "  823: 'никто',\n",
              "  824: 'осуществлять',\n",
              "  825: 'риск',\n",
              "  826: 'справляться',\n",
              "  827: 'офис',\n",
              "  828: 'запуститься',\n",
              "  829: 'доходить',\n",
              "  830: 'както',\n",
              "  831: 'тема',\n",
              "  832: 'чистый',\n",
              "  833: 'заранее',\n",
              "  834: 'удобнобыстро',\n",
              "  835: 'мелочь',\n",
              "  836: 'ясно',\n",
              "  837: 'сталкиваться',\n",
              "  838: 'егон',\n",
              "  839: 'присутствовать',\n",
              "  840: 'столкнуться',\n",
              "  841: 'удобноспасибо',\n",
              "  842: 'поход',\n",
              "  843: 'надпись',\n",
              "  844: 'зависнуть',\n",
              "  845: 'подвисать',\n",
              "  846: 'заплатить',\n",
              "  847: 'платежина',\n",
              "  848: 'собираться',\n",
              "  849: 'обновиться',\n",
              "  850: 'гута',\n",
              "  851: 'wifi',\n",
              "  852: 'сбрасываться',\n",
              "  853: 'компания',\n",
              "  854: 'единица',\n",
              "  855: 'глючный',\n",
              "  856: 'объяснить',\n",
              "  857: 'производить',\n",
              "  858: 'большинство',\n",
              "  859: 'обидно',\n",
              "  860: 'реквизит',\n",
              "  861: 'чек',\n",
              "  862: 'айфон',\n",
              "  863: 'плач',\n",
              "  864: 'разница',\n",
              "  865: 'чёрт',\n",
              "  866: 'сие',\n",
              "  867: 'просмотреть',\n",
              "  868: 'таки',\n",
              "  869: 'сожаление',\n",
              "  870: 'порн',\n",
              "  871: 'досрочно',\n",
              "  872: 'смена',\n",
              "  873: 'картын',\n",
              "  874: 'спосибо',\n",
              "  875: 'позвонить',\n",
              "  876: 'уженесколько',\n",
              "  877: 'магазин',\n",
              "  878: 'толькон',\n",
              "  879: 'финансовый',\n",
              "  880: 'половина',\n",
              "  881: 'включать',\n",
              "  882: 'указать',\n",
              "  883: 'претензия',\n",
              "  884: 'проблемнуть',\n",
              "  885: 'нареканийнуть',\n",
              "  886: 'оч',\n",
              "  887: 'отключать',\n",
              "  888: 'поработать',\n",
              "  889: 'поступление',\n",
              "  890: 'увы',\n",
              "  891: 'уходить',\n",
              "  892: 'сбросить',\n",
              "  893: 'никак',\n",
              "  894: 'выполняться',\n",
              "  895: 'вынудить',\n",
              "  896: 'отдельный',\n",
              "  897: 'включаться',\n",
              "  898: 'ооочень',\n",
              "  899: 'тип',\n",
              "  900: 'письмо',\n",
              "  901: 'мб',\n",
              "  902: 'избранный',\n",
              "  903: 'результат',\n",
              "  904: 'прислать',\n",
              "  905: 'лаг',\n",
              "  906: 'никтоня',\n",
              "  907: 'крайний',\n",
              "  908: 'достойный',\n",
              "  909: 'открытый',\n",
              "  910: 'm3',\n",
              "  911: 'включение',\n",
              "  912: 'идеально',\n",
              "  913: 'объём',\n",
              "  914: 'рутованный',\n",
              "  915: 'красивый',\n",
              "  916: 'меняться',\n",
              "  917: 'and',\n",
              "  918: 'процент',\n",
              "  919: 'близкий',\n",
              "  920: 'полезно',\n",
              "  921: 'закрывать',\n",
              "  922: 'рутень',\n",
              "  923: 'регион',\n",
              "  924: 'которогонет',\n",
              "  925: 'приложениеочень',\n",
              "  926: 'приложениевсё',\n",
              "  927: 'входящий',\n",
              "  928: 'выскакивать',\n",
              "  929: 'обновленияневозможный',\n",
              "  930: 'приложениевсе',\n",
              "  931: 'погасить',\n",
              "  932: 'точно',\n",
              "  933: '👍👍👍👍',\n",
              "  934: 'годный',\n",
              "  935: 'снять',\n",
              "  936: 'взгляд',\n",
              "  937: 'потратить',\n",
              "  938: 'заморочка',\n",
              "  939: 'сидя',\n",
              "  940: 'загрузиться',\n",
              "  941: 'паролемень',\n",
              "  942: 'подобный',\n",
              "  943: 'этап',\n",
              "  944: 'сталоневозможный',\n",
              "  945: 'качественный',\n",
              "  946: 'упрощать',\n",
              "  947: 'app',\n",
              "  948: 'сообщать',\n",
              "  949: 'оперативный',\n",
              "  950: 'задача',\n",
              "  951: 'мошенник',\n",
              "  952: 'тинькофф',\n",
              "  953: 'никакна',\n",
              "  954: 'течение',\n",
              "  955: 'перезапускаться',\n",
              "  956: 'др',\n",
              "  957: 'антивирусникнуть',\n",
              "  958: 'сотрудник',\n",
              "  959: 'развиваться',\n",
              "  960: 'естьнебольшой',\n",
              "  961: '4x',\n",
              "  962: 'sms',\n",
              "  963: 'срабатывать',\n",
              "  964: 'поддерживать',\n",
              "  965: 'гибдд',\n",
              "  966: 'терпеть',\n",
              "  967: 'учёт',\n",
              "  968: 'какна',\n",
              "  969: 'подтверждать',\n",
              "  970: 'влиять',\n",
              "  971: 'клавиатура',\n",
              "  972: 'сечь',\n",
              "  973: 'нахрен',\n",
              "  974: 'иной',\n",
              "  975: 'ибо',\n",
              "  976: 'странно',\n",
              "  977: 'откатить',\n",
              "  978: 'терять',\n",
              "  979: 'среди',\n",
              "  980: 'факт',\n",
              "  981: 'пк',\n",
              "  982: 'лицензия',\n",
              "  983: 'сохраняться',\n",
              "  984: 'выбрать',\n",
              "  985: 'сохранять',\n",
              "  986: 'создание',\n",
              "  987: 'техподдержка',\n",
              "  988: 'важный',\n",
              "  989: 'ипотека',\n",
              "  990: 'honor',\n",
              "  991: 'топ',\n",
              "  992: 'нормуля',\n",
              "  993: 'деньня',\n",
              "  994: 'утро',\n",
              "  995: 'a5',\n",
              "  996: 'цифра',\n",
              "  997: 'знакомый',\n",
              "  998: 'чудо',\n",
              "  999: 'полёт',\n",
              "  1000: 'возникнуть',\n",
              "  ...})"
            ]
          },
          "metadata": {},
          "execution_count": 14
        }
      ]
    },
    {
      "cell_type": "code",
      "source": [
        "sequences_train = tokenizer.texts_to_sequences(text_corpus_train)\n",
        "sequences_test = tokenizer.texts_to_sequences(text_corpus_test)\n",
        "\n",
        "sequences_train[:10] "
      ],
      "metadata": {
        "colab": {
          "base_uri": "https://localhost:8080/"
        },
        "id": "mwKTswclOaiO",
        "outputId": "7c9e3e6f-88a9-4191-eb09-4b3da9469f19"
      },
      "execution_count": 15,
      "outputs": [
        {
          "output_type": "execute_result",
          "data": {
            "text/plain": [
              "[[610, 42, 775, 3539, 22, 1, 2, 15],\n",
              " [2, 181],\n",
              " [5],\n",
              " [60],\n",
              " [2],\n",
              " [127, 1],\n",
              " [37, 970, 66, 104, 30, 484, 887],\n",
              " [102, 51, 1, 690, 139, 732, 106, 1968, 53, 1969, 1625, 2],\n",
              " [463, 206, 147, 128, 99, 20, 111, 1059, 51, 9],\n",
              " [26, 1371, 888, 5, 3540, 733]]"
            ]
          },
          "metadata": {},
          "execution_count": 15
        }
      ]
    },
    {
      "cell_type": "code",
      "source": [
        "word_count = len(tokenizer.index_word) + 1  \n",
        "training_length = max([len(i.split()) for i in text_corpus_train]) \n",
        "word_count, training_length "
      ],
      "metadata": {
        "colab": {
          "base_uri": "https://localhost:8080/"
        },
        "id": "si4QFYXCOfi7",
        "outputId": "d20d9d60-c3b6-49e4-8fc6-0c423af0a35b"
      },
      "execution_count": 16,
      "outputs": [
        {
          "output_type": "execute_result",
          "data": {
            "text/plain": [
              "(10293, 113)"
            ]
          },
          "metadata": {},
          "execution_count": 16
        }
      ]
    },
    {
      "cell_type": "code",
      "source": [
        "X_train = pad_sequences(sequences_train, maxlen=training_length)\n",
        "X_test = pad_sequences(sequences_test, maxlen=training_length)\n",
        "X_train"
      ],
      "metadata": {
        "colab": {
          "base_uri": "https://localhost:8080/"
        },
        "id": "AA7e4AjeOjUz",
        "outputId": "195aa0dc-0725-4676-eebe-ead7e6f7444a"
      },
      "execution_count": 17,
      "outputs": [
        {
          "output_type": "execute_result",
          "data": {
            "text/plain": [
              "array([[  0,   0,   0, ...,   1,   2,  15],\n",
              "       [  0,   0,   0, ...,   0,   2, 181],\n",
              "       [  0,   0,   0, ...,   0,   0,   5],\n",
              "       ...,\n",
              "       [  0,   0,   0, ...,  27,  84, 223],\n",
              "       [  0,   0,   0, ...,   0,   0,  20],\n",
              "       [  0,   0,   0, ...,   0, 113,   5]], dtype=int32)"
            ]
          },
          "metadata": {},
          "execution_count": 17
        }
      ]
    },
    {
      "cell_type": "code",
      "source": [
        "le = LabelEncoder()\n",
        "train_enc_labels = le.fit_transform(df_train['Rating']) \n",
        "test_enc_labels = le.transform(df_test['Rating'])\n",
        "le.classes_"
      ],
      "metadata": {
        "colab": {
          "base_uri": "https://localhost:8080/"
        },
        "id": "gumwBg4AOl5t",
        "outputId": "29e50f43-b8ee-4149-a4be-c6cfbc32c808"
      },
      "execution_count": 18,
      "outputs": [
        {
          "output_type": "execute_result",
          "data": {
            "text/plain": [
              "array([1, 2, 3, 4, 5])"
            ]
          },
          "metadata": {},
          "execution_count": 18
        }
      ]
    },
    {
      "cell_type": "code",
      "source": [
        "train_enc_labels"
      ],
      "metadata": {
        "colab": {
          "base_uri": "https://localhost:8080/"
        },
        "id": "OjNh251YOoCl",
        "outputId": "fd41735c-b685-48f6-9be0-4ed3891a4e81"
      },
      "execution_count": 19,
      "outputs": [
        {
          "output_type": "execute_result",
          "data": {
            "text/plain": [
              "array([4, 4, 4, ..., 0, 4, 4])"
            ]
          },
          "metadata": {},
          "execution_count": 19
        }
      ]
    },
    {
      "cell_type": "code",
      "source": [
        "num_classes = 5\n",
        "y_train = tf.keras.utils.to_categorical(train_enc_labels, num_classes=num_classes)\n",
        "y_test = tf.keras.utils.to_categorical(test_enc_labels, num_classes=num_classes)\n",
        "y_train"
      ],
      "metadata": {
        "colab": {
          "base_uri": "https://localhost:8080/"
        },
        "id": "otl92WtqOqHs",
        "outputId": "9f524e83-a57f-4bbf-80a6-c832fa169d9d"
      },
      "execution_count": 20,
      "outputs": [
        {
          "output_type": "execute_result",
          "data": {
            "text/plain": [
              "array([[0., 0., 0., 0., 1.],\n",
              "       [0., 0., 0., 0., 1.],\n",
              "       [0., 0., 0., 0., 1.],\n",
              "       ...,\n",
              "       [1., 0., 0., 0., 0.],\n",
              "       [0., 0., 0., 0., 1.],\n",
              "       [0., 0., 0., 0., 1.]], dtype=float32)"
            ]
          },
          "metadata": {},
          "execution_count": 20
        }
      ]
    },
    {
      "cell_type": "code",
      "source": [
        "model = Sequential()\n",
        "model.add(Embedding(input_dim=word_count, output_dim=128, input_length=training_length)) \n",
        "model.add(Conv1D(128, 3))\n",
        "model.add(GlobalMaxPool1D())\n",
        "model.add(Dense(10))\n",
        "model.add(Dense(5))\n",
        "model.add(Activation('softmax'))"
      ],
      "metadata": {
        "id": "vI9ZXSCYOstc"
      },
      "execution_count": 21,
      "outputs": []
    },
    {
      "cell_type": "code",
      "source": [
        "model.compile(loss='categorical_crossentropy',\n",
        "              optimizer='adam',\n",
        "              metrics=[get_f1])"
      ],
      "metadata": {
        "id": "E3UaL66fOurH"
      },
      "execution_count": 22,
      "outputs": []
    },
    {
      "cell_type": "code",
      "source": [
        "tensorboard=TensorBoard(log_dir='./logs', write_graph=True, write_images=True)\n",
        "early_stopping=EarlyStopping(monitor='val_loss')  \n",
        "\n",
        "epochs = 20\n",
        "batch_size = 512\n",
        "\n",
        "history = model.fit(X_train, y_train,\n",
        "                    batch_size=batch_size,\n",
        "                    epochs=epochs,\n",
        "                    verbose=1,\n",
        "                    validation_split=0.1,\n",
        "                    callbacks=[tensorboard, early_stopping])"
      ],
      "metadata": {
        "colab": {
          "base_uri": "https://localhost:8080/"
        },
        "id": "aYWYBEVyOyMi",
        "outputId": "5b1eec77-4922-4a49-f242-4aa1692c50ed"
      },
      "execution_count": 24,
      "outputs": [
        {
          "output_type": "stream",
          "name": "stdout",
          "text": [
            "Epoch 1/20\n",
            "25/25 [==============================] - 11s 432ms/step - loss: 0.6434 - get_f1: 0.7813 - val_loss: 0.7017 - val_get_f1: 0.7611\n",
            "Epoch 2/20\n",
            "25/25 [==============================] - 13s 543ms/step - loss: 0.5753 - get_f1: 0.8027 - val_loss: 0.6904 - val_get_f1: 0.7625\n"
          ]
        }
      ]
    },
    {
      "cell_type": "code",
      "source": [
        "score_conv = model.evaluate(X_test, y_test, batch_size=batch_size, verbose=1)\n",
        "print('\\n')\n",
        "print('Test loss:', score_conv[0])\n",
        "print('Test f1_score:', score_conv[1])"
      ],
      "metadata": {
        "colab": {
          "base_uri": "https://localhost:8080/"
        },
        "id": "L_ctG1TaPocD",
        "outputId": "26d4b8ce-c2d4-4815-bd7a-5ff77f6ed692"
      },
      "execution_count": 25,
      "outputs": [
        {
          "output_type": "stream",
          "name": "stdout",
          "text": [
            "14/14 [==============================] - 2s 112ms/step - loss: 0.6539 - get_f1: 0.7828\n",
            "\n",
            "\n",
            "Test loss: 0.6538544297218323\n",
            "Test f1_score: 0.7828316688537598\n"
          ]
        }
      ]
    },
    {
      "cell_type": "code",
      "source": [
        "model = Sequential()\n",
        "\n",
        "model.add(Embedding(input_dim=word_count,\n",
        "              input_length=training_length,\n",
        "              output_dim=30,\n",
        "              trainable=True,\n",
        "              mask_zero=True))\n",
        "model.add(Masking(mask_value=0.0))\n",
        "\n",
        "model.add(SimpleRNN(64)) \n",
        "model.add(Dense(64, activation='relu'))\n",
        "model.add(Dropout(0.5))\n",
        "model.add(Dense(5, activation='softmax'))"
      ],
      "metadata": {
        "id": "ZYWtvFwDP3M5"
      },
      "execution_count": 26,
      "outputs": []
    },
    {
      "cell_type": "code",
      "source": [
        "model.compile(loss='categorical_crossentropy', \n",
        "              optimizer='adam',\n",
        "              metrics=[get_f1])"
      ],
      "metadata": {
        "id": "xl59AwErP7pR"
      },
      "execution_count": 27,
      "outputs": []
    },
    {
      "cell_type": "code",
      "source": [
        "%%time\n",
        "\n",
        "history = model.fit(X_train, y_train,\n",
        "                    batch_size=batch_size,\n",
        "                    epochs=epochs,\n",
        "                    verbose=1,\n",
        "                    validation_split=0.1,\n",
        "                    callbacks=[tensorboard, early_stopping])"
      ],
      "metadata": {
        "colab": {
          "base_uri": "https://localhost:8080/"
        },
        "id": "8VYz-njTP-DB",
        "outputId": "d07a4728-7d5d-4a48-a662-db3152ed11ce"
      },
      "execution_count": 28,
      "outputs": [
        {
          "output_type": "stream",
          "name": "stdout",
          "text": [
            "Epoch 1/20\n",
            "25/25 [==============================] - 8s 249ms/step - loss: 1.1192 - get_f1: 0.5280 - val_loss: 0.9000 - val_get_f1: 0.7155\n",
            "Epoch 2/20\n",
            "25/25 [==============================] - 6s 227ms/step - loss: 0.8727 - get_f1: 0.7221 - val_loss: 0.8125 - val_get_f1: 0.7375\n",
            "CPU times: user 21.4 s, sys: 993 ms, total: 22.4 s\n",
            "Wall time: 14.1 s\n"
          ]
        }
      ]
    },
    {
      "cell_type": "code",
      "source": [
        "score_simplernn= model.evaluate(X_test, y_test, batch_size=batch_size, verbose=1)\n",
        "print('\\n')\n",
        "print('Test loss:', score_simplernn[0])\n",
        "print('Test f1_score:', score_simplernn[1])"
      ],
      "metadata": {
        "colab": {
          "base_uri": "https://localhost:8080/"
        },
        "id": "DJ2-6NZ1QCsz",
        "outputId": "d5adb631-89d4-4dc6-ea87-8312d65f2af3"
      },
      "execution_count": 29,
      "outputs": [
        {
          "output_type": "stream",
          "name": "stdout",
          "text": [
            "14/14 [==============================] - 1s 73ms/step - loss: 0.7997 - get_f1: 0.7437\n",
            "\n",
            "\n",
            "Test loss: 0.7996675372123718\n",
            "Test f1_score: 0.7437463402748108\n"
          ]
        }
      ]
    },
    {
      "cell_type": "code",
      "source": [
        "model = Sequential()\n",
        "\n",
        "model.add(Embedding(input_dim=word_count,\n",
        "              input_length=training_length,\n",
        "              output_dim=30,\n",
        "              trainable=True,\n",
        "              mask_zero=True))\n",
        "model.add(Masking(mask_value=0.0))\n",
        "\n",
        "model.add(LSTM(64, recurrent_dropout=0.2))  \n",
        "model.add(Dense(64, activation='relu'))\n",
        "model.add(Dropout(0.5))\n",
        "model.add(Dense(5, activation='softmax'))"
      ],
      "metadata": {
        "id": "qlAc93cwQJF5"
      },
      "execution_count": 30,
      "outputs": []
    },
    {
      "cell_type": "code",
      "source": [
        "model.compile(loss='categorical_crossentropy', \n",
        "              optimizer='adam',\n",
        "              metrics=[get_f1])"
      ],
      "metadata": {
        "id": "KBGnwnYeQLep"
      },
      "execution_count": 31,
      "outputs": []
    },
    {
      "cell_type": "code",
      "source": [
        "%%time\n",
        "\n",
        "history = model.fit(X_train, y_train,\n",
        "                    batch_size=batch_size,\n",
        "                    epochs=epochs,\n",
        "                    verbose=1,\n",
        "                    validation_split=0.1,\n",
        "                    callbacks=[tensorboard, early_stopping])"
      ],
      "metadata": {
        "colab": {
          "base_uri": "https://localhost:8080/"
        },
        "id": "gjzzG-oQQNmF",
        "outputId": "bbda1213-27c0-41ca-c5ef-995667e181f1"
      },
      "execution_count": 32,
      "outputs": [
        {
          "output_type": "stream",
          "name": "stdout",
          "text": [
            "Epoch 1/20\n",
            "25/25 [==============================] - 23s 770ms/step - loss: 1.3230 - get_f1: 0.2694 - val_loss: 0.9535 - val_get_f1: 0.7005\n",
            "Epoch 2/20\n",
            "25/25 [==============================] - 21s 856ms/step - loss: 0.9424 - get_f1: 0.6913 - val_loss: 0.8404 - val_get_f1: 0.7329\n",
            "CPU times: user 1min 10s, sys: 4.26 s, total: 1min 14s\n",
            "Wall time: 44.8 s\n"
          ]
        }
      ]
    },
    {
      "cell_type": "code",
      "source": [
        "score_lstm= model.evaluate(X_test, y_test, batch_size=batch_size, verbose=1)\n",
        "print('\\n')\n",
        "print('Test loss:', score_lstm[0])\n",
        "print('Test f1_score:', score_lstm[1])"
      ],
      "metadata": {
        "colab": {
          "base_uri": "https://localhost:8080/"
        },
        "id": "c7QLplsXQdni",
        "outputId": "8a356fb8-e6ac-4c82-a1e9-65ec7548a49d"
      },
      "execution_count": 33,
      "outputs": [
        {
          "output_type": "stream",
          "name": "stdout",
          "text": [
            "14/14 [==============================] - 2s 154ms/step - loss: 0.8223 - get_f1: 0.7400\n",
            "\n",
            "\n",
            "Test loss: 0.8223291039466858\n",
            "Test f1_score: 0.7400041818618774\n"
          ]
        }
      ]
    },
    {
      "cell_type": "code",
      "source": [
        "model = Sequential()\n",
        "\n",
        "model.add(Embedding(input_dim=word_count,\n",
        "              input_length=training_length,\n",
        "              output_dim=30,\n",
        "              trainable=True,\n",
        "              mask_zero=True))\n",
        "model.add(Masking(mask_value=0.0))\n",
        "\n",
        "model.add(GRU(64,recurrent_dropout=0.2))  \n",
        "model.add(Dense(64, activation='relu'))\n",
        "model.add(Dropout(0.5))\n",
        "model.add(Dense(5, activation='softmax'))"
      ],
      "metadata": {
        "id": "1IPj26p-QgYB"
      },
      "execution_count": 34,
      "outputs": []
    },
    {
      "cell_type": "code",
      "source": [
        "model.compile(loss='categorical_crossentropy', \n",
        "              optimizer='adam',\n",
        "              metrics=[get_f1])"
      ],
      "metadata": {
        "id": "uC45Up5uQm5I"
      },
      "execution_count": 35,
      "outputs": []
    },
    {
      "cell_type": "code",
      "source": [
        "%%time\n",
        "\n",
        "history = model.fit(X_train, y_train,\n",
        "                    batch_size=batch_size,\n",
        "                    epochs=epochs,\n",
        "                    verbose=1,\n",
        "                    validation_split=0.1,\n",
        "                    callbacks=[tensorboard, early_stopping])"
      ],
      "metadata": {
        "colab": {
          "base_uri": "https://localhost:8080/"
        },
        "id": "xD4VjDkTQqfx",
        "outputId": "373a540d-d2a7-4519-bb2d-02deaa9ee349"
      },
      "execution_count": 36,
      "outputs": [
        {
          "output_type": "stream",
          "name": "stdout",
          "text": [
            "Epoch 1/20\n",
            "25/25 [==============================] - 22s 662ms/step - loss: 1.3096 - get_f1: 0.2085 - val_loss: 0.9664 - val_get_f1: 0.7005\n",
            "Epoch 2/20\n",
            "25/25 [==============================] - 15s 618ms/step - loss: 0.8911 - get_f1: 0.7171 - val_loss: 0.8005 - val_get_f1: 0.7379\n",
            "CPU times: user 59.1 s, sys: 3.58 s, total: 1min 2s\n",
            "Wall time: 38 s\n"
          ]
        }
      ]
    },
    {
      "cell_type": "code",
      "source": [
        "score_gru= model.evaluate(X_test, y_test, batch_size=batch_size, verbose=1)\n",
        "print('\\n')\n",
        "print('Test loss:', score_gru[0])\n",
        "print('Test f1_score:', score_gru[1])"
      ],
      "metadata": {
        "colab": {
          "base_uri": "https://localhost:8080/"
        },
        "id": "cB6gtE2qQ01h",
        "outputId": "24b031a0-47b0-4415-e868-9b8fac80527d"
      },
      "execution_count": 37,
      "outputs": [
        {
          "output_type": "stream",
          "name": "stdout",
          "text": [
            "14/14 [==============================] - 2s 128ms/step - loss: 0.7829 - get_f1: 0.7467\n",
            "\n",
            "\n",
            "Test loss: 0.7829188108444214\n",
            "Test f1_score: 0.746746838092804\n"
          ]
        }
      ]
    },
    {
      "cell_type": "code",
      "source": [
        "result_RNN = pd.DataFrame({'model': ['SimpleRNN', 'LSTM', 'GRU'], 'f1_score': [score_simplernn[1], score_lstm[1], score_gru[1]]})\n",
        "result_RNN.sort_values(by='f1_score', ascending=False)"
      ],
      "metadata": {
        "colab": {
          "base_uri": "https://localhost:8080/",
          "height": 143
        },
        "id": "EH-GYttRQ4AQ",
        "outputId": "e1873399-55bd-4ee5-fa11-2e02e3785932"
      },
      "execution_count": 38,
      "outputs": [
        {
          "output_type": "execute_result",
          "data": {
            "text/plain": [
              "       model  f1_score\n",
              "2        GRU  0.746747\n",
              "0  SimpleRNN  0.743746\n",
              "1       LSTM  0.740004"
            ],
            "text/html": [
              "\n",
              "  <div id=\"df-361a9376-3bf0-43d9-ba1b-9fa1d7fcabeb\">\n",
              "    <div class=\"colab-df-container\">\n",
              "      <div>\n",
              "<style scoped>\n",
              "    .dataframe tbody tr th:only-of-type {\n",
              "        vertical-align: middle;\n",
              "    }\n",
              "\n",
              "    .dataframe tbody tr th {\n",
              "        vertical-align: top;\n",
              "    }\n",
              "\n",
              "    .dataframe thead th {\n",
              "        text-align: right;\n",
              "    }\n",
              "</style>\n",
              "<table border=\"1\" class=\"dataframe\">\n",
              "  <thead>\n",
              "    <tr style=\"text-align: right;\">\n",
              "      <th></th>\n",
              "      <th>model</th>\n",
              "      <th>f1_score</th>\n",
              "    </tr>\n",
              "  </thead>\n",
              "  <tbody>\n",
              "    <tr>\n",
              "      <th>2</th>\n",
              "      <td>GRU</td>\n",
              "      <td>0.746747</td>\n",
              "    </tr>\n",
              "    <tr>\n",
              "      <th>0</th>\n",
              "      <td>SimpleRNN</td>\n",
              "      <td>0.743746</td>\n",
              "    </tr>\n",
              "    <tr>\n",
              "      <th>1</th>\n",
              "      <td>LSTM</td>\n",
              "      <td>0.740004</td>\n",
              "    </tr>\n",
              "  </tbody>\n",
              "</table>\n",
              "</div>\n",
              "      <button class=\"colab-df-convert\" onclick=\"convertToInteractive('df-361a9376-3bf0-43d9-ba1b-9fa1d7fcabeb')\"\n",
              "              title=\"Convert this dataframe to an interactive table.\"\n",
              "              style=\"display:none;\">\n",
              "        \n",
              "  <svg xmlns=\"http://www.w3.org/2000/svg\" height=\"24px\"viewBox=\"0 0 24 24\"\n",
              "       width=\"24px\">\n",
              "    <path d=\"M0 0h24v24H0V0z\" fill=\"none\"/>\n",
              "    <path d=\"M18.56 5.44l.94 2.06.94-2.06 2.06-.94-2.06-.94-.94-2.06-.94 2.06-2.06.94zm-11 1L8.5 8.5l.94-2.06 2.06-.94-2.06-.94L8.5 2.5l-.94 2.06-2.06.94zm10 10l.94 2.06.94-2.06 2.06-.94-2.06-.94-.94-2.06-.94 2.06-2.06.94z\"/><path d=\"M17.41 7.96l-1.37-1.37c-.4-.4-.92-.59-1.43-.59-.52 0-1.04.2-1.43.59L10.3 9.45l-7.72 7.72c-.78.78-.78 2.05 0 2.83L4 21.41c.39.39.9.59 1.41.59.51 0 1.02-.2 1.41-.59l7.78-7.78 2.81-2.81c.8-.78.8-2.07 0-2.86zM5.41 20L4 18.59l7.72-7.72 1.47 1.35L5.41 20z\"/>\n",
              "  </svg>\n",
              "      </button>\n",
              "      \n",
              "  <style>\n",
              "    .colab-df-container {\n",
              "      display:flex;\n",
              "      flex-wrap:wrap;\n",
              "      gap: 12px;\n",
              "    }\n",
              "\n",
              "    .colab-df-convert {\n",
              "      background-color: #E8F0FE;\n",
              "      border: none;\n",
              "      border-radius: 50%;\n",
              "      cursor: pointer;\n",
              "      display: none;\n",
              "      fill: #1967D2;\n",
              "      height: 32px;\n",
              "      padding: 0 0 0 0;\n",
              "      width: 32px;\n",
              "    }\n",
              "\n",
              "    .colab-df-convert:hover {\n",
              "      background-color: #E2EBFA;\n",
              "      box-shadow: 0px 1px 2px rgba(60, 64, 67, 0.3), 0px 1px 3px 1px rgba(60, 64, 67, 0.15);\n",
              "      fill: #174EA6;\n",
              "    }\n",
              "\n",
              "    [theme=dark] .colab-df-convert {\n",
              "      background-color: #3B4455;\n",
              "      fill: #D2E3FC;\n",
              "    }\n",
              "\n",
              "    [theme=dark] .colab-df-convert:hover {\n",
              "      background-color: #434B5C;\n",
              "      box-shadow: 0px 1px 3px 1px rgba(0, 0, 0, 0.15);\n",
              "      filter: drop-shadow(0px 1px 2px rgba(0, 0, 0, 0.3));\n",
              "      fill: #FFFFFF;\n",
              "    }\n",
              "  </style>\n",
              "\n",
              "      <script>\n",
              "        const buttonEl =\n",
              "          document.querySelector('#df-361a9376-3bf0-43d9-ba1b-9fa1d7fcabeb button.colab-df-convert');\n",
              "        buttonEl.style.display =\n",
              "          google.colab.kernel.accessAllowed ? 'block' : 'none';\n",
              "\n",
              "        async function convertToInteractive(key) {\n",
              "          const element = document.querySelector('#df-361a9376-3bf0-43d9-ba1b-9fa1d7fcabeb');\n",
              "          const dataTable =\n",
              "            await google.colab.kernel.invokeFunction('convertToInteractive',\n",
              "                                                     [key], {});\n",
              "          if (!dataTable) return;\n",
              "\n",
              "          const docLinkHtml = 'Like what you see? Visit the ' +\n",
              "            '<a target=\"_blank\" href=https://colab.research.google.com/notebooks/data_table.ipynb>data table notebook</a>'\n",
              "            + ' to learn more about interactive tables.';\n",
              "          element.innerHTML = '';\n",
              "          dataTable['output_type'] = 'display_data';\n",
              "          await google.colab.output.renderOutput(dataTable, element);\n",
              "          const docLink = document.createElement('div');\n",
              "          docLink.innerHTML = docLinkHtml;\n",
              "          element.appendChild(docLink);\n",
              "        }\n",
              "      </script>\n",
              "    </div>\n",
              "  </div>\n",
              "  "
            ]
          },
          "metadata": {},
          "execution_count": 38
        }
      ]
    },
    {
      "cell_type": "markdown",
      "source": [
        "CNN --> RNN"
      ],
      "metadata": {
        "id": "mTe1cdZ_Q7K9"
      }
    },
    {
      "cell_type": "code",
      "source": [
        "model = Sequential()\n",
        "\n",
        "model.add(Embedding(input_dim=word_count,\n",
        "              input_length=training_length,\n",
        "              output_dim=30,\n",
        "              trainable=True,\n",
        "              mask_zero=True))\n",
        "model.add(Masking(mask_value=0.0))\n",
        "\n",
        "model.add(Conv1D(128, 3))\n",
        "model.add(Activation(\"relu\"))\n",
        "model.add(LSTM(64,recurrent_dropout=0.2)) \n",
        "model.add(Dense(32, activation='relu'))\n",
        "model.add(Dropout(0.5))\n",
        "model.add(Dense(5, activation='softmax'))"
      ],
      "metadata": {
        "id": "f2eMvZjnQ7wq"
      },
      "execution_count": 39,
      "outputs": []
    },
    {
      "cell_type": "code",
      "source": [
        "model.compile(loss='categorical_crossentropy', \n",
        "              optimizer='adam',\n",
        "              metrics=[get_f1])"
      ],
      "metadata": {
        "id": "_I1v0ECmQ_RQ"
      },
      "execution_count": 40,
      "outputs": []
    },
    {
      "cell_type": "code",
      "source": [
        "%%time\n",
        "\n",
        "history = model.fit(X_train, y_train,\n",
        "                    batch_size=batch_size,\n",
        "                    epochs=epochs,\n",
        "                    verbose=1,\n",
        "                    validation_split=0.1,\n",
        "                    callbacks=[tensorboard, early_stopping])"
      ],
      "metadata": {
        "colab": {
          "base_uri": "https://localhost:8080/"
        },
        "id": "4URT4xHcRBrR",
        "outputId": "a5effc4a-cc7b-411f-9390-3ffdcd7e9bb3"
      },
      "execution_count": 41,
      "outputs": [
        {
          "output_type": "stream",
          "name": "stdout",
          "text": [
            "Epoch 1/20\n",
            "25/25 [==============================] - 32s 1s/step - loss: 1.2980 - get_f1: 0.3195 - val_loss: 0.9288 - val_get_f1: 0.7113\n",
            "Epoch 2/20\n",
            "25/25 [==============================] - 30s 1s/step - loss: 0.9543 - get_f1: 0.6645 - val_loss: 0.7836 - val_get_f1: 0.7331\n",
            "CPU times: user 1min 39s, sys: 6.74 s, total: 1min 45s\n",
            "Wall time: 1min 2s\n"
          ]
        }
      ]
    },
    {
      "cell_type": "code",
      "source": [
        "score_cnnrnn= model.evaluate(X_test, y_test, batch_size=batch_size, verbose=1)\n",
        "print('\\n')\n",
        "print('Test loss:', score_cnnrnn[0])\n",
        "print('Test f1_score:', score_cnnrnn[1])"
      ],
      "metadata": {
        "colab": {
          "base_uri": "https://localhost:8080/"
        },
        "id": "hOZspoeKRD0C",
        "outputId": "3c16cf37-6ecc-48a6-d3da-266ae3214eea"
      },
      "execution_count": 42,
      "outputs": [
        {
          "output_type": "stream",
          "name": "stdout",
          "text": [
            "14/14 [==============================] - 4s 296ms/step - loss: 0.7704 - get_f1: 0.7401\n",
            "\n",
            "\n",
            "Test loss: 0.7703760862350464\n",
            "Test f1_score: 0.7401372194290161\n"
          ]
        }
      ]
    },
    {
      "cell_type": "markdown",
      "source": [
        "RNN --> CNN"
      ],
      "metadata": {
        "id": "cYf7BPSLRXUg"
      }
    },
    {
      "cell_type": "code",
      "source": [
        "model = Sequential()\n",
        "\n",
        "model.add(Embedding(input_dim=word_count,\n",
        "              input_length=training_length,\n",
        "              output_dim=30,\n",
        "              trainable=True,\n",
        "              mask_zero=True))\n",
        "model.add(Masking(mask_value=0.0))\n",
        "\n",
        "model.add(LSTM(64,recurrent_dropout=0.2, return_sequences=True))\n",
        "model.add(Conv1D(64, 3))\n",
        "model.add(GlobalMaxPool1D())\n",
        "model.add(Dense(32, activation='relu'))\n",
        "model.add(Dropout(0.5))\n",
        "model.add(Dense(5, activation='softmax'))"
      ],
      "metadata": {
        "id": "hzCSB8saRX4Q"
      },
      "execution_count": 43,
      "outputs": []
    },
    {
      "cell_type": "code",
      "source": [
        "model.compile(loss='categorical_crossentropy', \n",
        "              optimizer='adam',\n",
        "              metrics=[get_f1])"
      ],
      "metadata": {
        "id": "81EA25SERb7D"
      },
      "execution_count": 44,
      "outputs": []
    },
    {
      "cell_type": "code",
      "source": [
        "%%time\n",
        "\n",
        "history = model.fit(X_train, y_train,\n",
        "                    batch_size=batch_size,\n",
        "                    epochs=epochs,\n",
        "                    verbose=1,\n",
        "                    validation_split=0.1,\n",
        "                    callbacks=[tensorboard, early_stopping])"
      ],
      "metadata": {
        "colab": {
          "base_uri": "https://localhost:8080/"
        },
        "id": "PsYpGSycReGA",
        "outputId": "d216f237-ea5b-4bc4-e5ae-70af6a17489d"
      },
      "execution_count": 45,
      "outputs": [
        {
          "output_type": "stream",
          "name": "stdout",
          "text": [
            "Epoch 1/20\n",
            "25/25 [==============================] - 28s 974ms/step - loss: 1.2992 - get_f1: 0.3141 - val_loss: 1.0615 - val_get_f1: 0.7005\n",
            "Epoch 2/20\n",
            "25/25 [==============================] - 24s 951ms/step - loss: 1.0560 - get_f1: 0.6303 - val_loss: 0.9457 - val_get_f1: 0.7005\n",
            "CPU times: user 1min 25s, sys: 4.38 s, total: 1min 30s\n",
            "Wall time: 51.8 s\n"
          ]
        }
      ]
    },
    {
      "cell_type": "code",
      "source": [
        "score_rnncnn= model.evaluate(X_test, y_test, batch_size=batch_size, verbose=1)\n",
        "print('\\n')\n",
        "print('Test loss:', score_rnncnn[0])\n",
        "print('Test f1_score:', score_rnncnn[1])"
      ],
      "metadata": {
        "colab": {
          "base_uri": "https://localhost:8080/"
        },
        "id": "wbwfOMJlRgoZ",
        "outputId": "bab717a7-b15c-434f-fc7a-595c5a152404"
      },
      "execution_count": 46,
      "outputs": [
        {
          "output_type": "stream",
          "name": "stdout",
          "text": [
            "14/14 [==============================] - 3s 191ms/step - loss: 0.9179 - get_f1: 0.7151\n",
            "\n",
            "\n",
            "Test loss: 0.9179053902626038\n",
            "Test f1_score: 0.7151089310646057\n"
          ]
        }
      ]
    },
    {
      "cell_type": "code",
      "source": [
        "result_CNN_RNN = pd.DataFrame({'model': ['CNN_RNN', 'RNN_CNN'], 'f1_score': [score_cnnrnn[1], score_rnncnn[1]]})\n",
        "result_CNN_RNN.sort_values(by='f1_score', ascending=False)"
      ],
      "metadata": {
        "colab": {
          "base_uri": "https://localhost:8080/",
          "height": 112
        },
        "id": "14OKzckzRw5v",
        "outputId": "334f1464-cfec-44f1-b217-b9ff189602ec"
      },
      "execution_count": 47,
      "outputs": [
        {
          "output_type": "execute_result",
          "data": {
            "text/plain": [
              "     model  f1_score\n",
              "0  CNN_RNN  0.740137\n",
              "1  RNN_CNN  0.715109"
            ],
            "text/html": [
              "\n",
              "  <div id=\"df-9f04abdb-d50b-4e86-a322-edf7ee1c58d6\">\n",
              "    <div class=\"colab-df-container\">\n",
              "      <div>\n",
              "<style scoped>\n",
              "    .dataframe tbody tr th:only-of-type {\n",
              "        vertical-align: middle;\n",
              "    }\n",
              "\n",
              "    .dataframe tbody tr th {\n",
              "        vertical-align: top;\n",
              "    }\n",
              "\n",
              "    .dataframe thead th {\n",
              "        text-align: right;\n",
              "    }\n",
              "</style>\n",
              "<table border=\"1\" class=\"dataframe\">\n",
              "  <thead>\n",
              "    <tr style=\"text-align: right;\">\n",
              "      <th></th>\n",
              "      <th>model</th>\n",
              "      <th>f1_score</th>\n",
              "    </tr>\n",
              "  </thead>\n",
              "  <tbody>\n",
              "    <tr>\n",
              "      <th>0</th>\n",
              "      <td>CNN_RNN</td>\n",
              "      <td>0.740137</td>\n",
              "    </tr>\n",
              "    <tr>\n",
              "      <th>1</th>\n",
              "      <td>RNN_CNN</td>\n",
              "      <td>0.715109</td>\n",
              "    </tr>\n",
              "  </tbody>\n",
              "</table>\n",
              "</div>\n",
              "      <button class=\"colab-df-convert\" onclick=\"convertToInteractive('df-9f04abdb-d50b-4e86-a322-edf7ee1c58d6')\"\n",
              "              title=\"Convert this dataframe to an interactive table.\"\n",
              "              style=\"display:none;\">\n",
              "        \n",
              "  <svg xmlns=\"http://www.w3.org/2000/svg\" height=\"24px\"viewBox=\"0 0 24 24\"\n",
              "       width=\"24px\">\n",
              "    <path d=\"M0 0h24v24H0V0z\" fill=\"none\"/>\n",
              "    <path d=\"M18.56 5.44l.94 2.06.94-2.06 2.06-.94-2.06-.94-.94-2.06-.94 2.06-2.06.94zm-11 1L8.5 8.5l.94-2.06 2.06-.94-2.06-.94L8.5 2.5l-.94 2.06-2.06.94zm10 10l.94 2.06.94-2.06 2.06-.94-2.06-.94-.94-2.06-.94 2.06-2.06.94z\"/><path d=\"M17.41 7.96l-1.37-1.37c-.4-.4-.92-.59-1.43-.59-.52 0-1.04.2-1.43.59L10.3 9.45l-7.72 7.72c-.78.78-.78 2.05 0 2.83L4 21.41c.39.39.9.59 1.41.59.51 0 1.02-.2 1.41-.59l7.78-7.78 2.81-2.81c.8-.78.8-2.07 0-2.86zM5.41 20L4 18.59l7.72-7.72 1.47 1.35L5.41 20z\"/>\n",
              "  </svg>\n",
              "      </button>\n",
              "      \n",
              "  <style>\n",
              "    .colab-df-container {\n",
              "      display:flex;\n",
              "      flex-wrap:wrap;\n",
              "      gap: 12px;\n",
              "    }\n",
              "\n",
              "    .colab-df-convert {\n",
              "      background-color: #E8F0FE;\n",
              "      border: none;\n",
              "      border-radius: 50%;\n",
              "      cursor: pointer;\n",
              "      display: none;\n",
              "      fill: #1967D2;\n",
              "      height: 32px;\n",
              "      padding: 0 0 0 0;\n",
              "      width: 32px;\n",
              "    }\n",
              "\n",
              "    .colab-df-convert:hover {\n",
              "      background-color: #E2EBFA;\n",
              "      box-shadow: 0px 1px 2px rgba(60, 64, 67, 0.3), 0px 1px 3px 1px rgba(60, 64, 67, 0.15);\n",
              "      fill: #174EA6;\n",
              "    }\n",
              "\n",
              "    [theme=dark] .colab-df-convert {\n",
              "      background-color: #3B4455;\n",
              "      fill: #D2E3FC;\n",
              "    }\n",
              "\n",
              "    [theme=dark] .colab-df-convert:hover {\n",
              "      background-color: #434B5C;\n",
              "      box-shadow: 0px 1px 3px 1px rgba(0, 0, 0, 0.15);\n",
              "      filter: drop-shadow(0px 1px 2px rgba(0, 0, 0, 0.3));\n",
              "      fill: #FFFFFF;\n",
              "    }\n",
              "  </style>\n",
              "\n",
              "      <script>\n",
              "        const buttonEl =\n",
              "          document.querySelector('#df-9f04abdb-d50b-4e86-a322-edf7ee1c58d6 button.colab-df-convert');\n",
              "        buttonEl.style.display =\n",
              "          google.colab.kernel.accessAllowed ? 'block' : 'none';\n",
              "\n",
              "        async function convertToInteractive(key) {\n",
              "          const element = document.querySelector('#df-9f04abdb-d50b-4e86-a322-edf7ee1c58d6');\n",
              "          const dataTable =\n",
              "            await google.colab.kernel.invokeFunction('convertToInteractive',\n",
              "                                                     [key], {});\n",
              "          if (!dataTable) return;\n",
              "\n",
              "          const docLinkHtml = 'Like what you see? Visit the ' +\n",
              "            '<a target=\"_blank\" href=https://colab.research.google.com/notebooks/data_table.ipynb>data table notebook</a>'\n",
              "            + ' to learn more about interactive tables.';\n",
              "          element.innerHTML = '';\n",
              "          dataTable['output_type'] = 'display_data';\n",
              "          await google.colab.output.renderOutput(dataTable, element);\n",
              "          const docLink = document.createElement('div');\n",
              "          docLink.innerHTML = docLinkHtml;\n",
              "          element.appendChild(docLink);\n",
              "        }\n",
              "      </script>\n",
              "    </div>\n",
              "  </div>\n",
              "  "
            ]
          },
          "metadata": {},
          "execution_count": 47
        }
      ]
    }
  ]
}