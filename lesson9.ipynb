{
  "nbformat": 4,
  "nbformat_minor": 0,
  "metadata": {
    "colab": {
      "name": "lesson9.ipynb",
      "provenance": [],
      "authorship_tag": "ABX9TyOrkJK1Fn4p8/kQRLJmtcct",
      "include_colab_link": true
    },
    "kernelspec": {
      "name": "python3",
      "display_name": "Python 3"
    },
    "language_info": {
      "name": "python"
    },
    "accelerator": "GPU",
    "gpuClass": "standard"
  },
  "cells": [
    {
      "cell_type": "markdown",
      "metadata": {
        "id": "view-in-github",
        "colab_type": "text"
      },
      "source": [
        "<a href=\"https://colab.research.google.com/github/bkvkrll/-Introduction-to-Natural-Language-Processing/blob/main/lesson9.ipynb\" target=\"_parent\"><img src=\"https://colab.research.google.com/assets/colab-badge.svg\" alt=\"Open In Colab\"/></a>"
      ]
    },
    {
      "cell_type": "markdown",
      "source": [
        "Урок 9. Языковое моделирование\n",
        "\n",
        "Задание\n",
        "\n",
        "Разобраться с моделькой генерации текста, собрать самим или взять датасет с вебинара и обучить генератор текстов"
      ],
      "metadata": {
        "id": "SumYH3m1OxDp"
      }
    },
    {
      "cell_type": "code",
      "execution_count": 1,
      "metadata": {
        "id": "ZwHNFZ8sOJLV"
      },
      "outputs": [],
      "source": [
        "import tensorflow as tf\n",
        "\n",
        "import numpy as np\n",
        "import os\n",
        "import time"
      ]
    },
    {
      "cell_type": "code",
      "source": [
        "tf.test.gpu_device_name()"
      ],
      "metadata": {
        "colab": {
          "base_uri": "https://localhost:8080/",
          "height": 35
        },
        "id": "0zAz7HczPflg",
        "outputId": "742b99c7-c751-4fab-8f69-b5da5e01468e"
      },
      "execution_count": 2,
      "outputs": [
        {
          "output_type": "execute_result",
          "data": {
            "text/plain": [
              "'/device:GPU:0'"
            ],
            "application/vnd.google.colaboratory.intrinsic+json": {
              "type": "string"
            }
          },
          "metadata": {},
          "execution_count": 2
        }
      ]
    },
    {
      "cell_type": "code",
      "source": [
        "path_to_file = '/content/evgenyi_onegin.txt'"
      ],
      "metadata": {
        "id": "LygKVVn6Pl3s"
      },
      "execution_count": 3,
      "outputs": []
    },
    {
      "cell_type": "code",
      "source": [
        "text = open(path_to_file, 'rb').read().decode(encoding='utf-8')\n",
        "# length of text is the number of characters in it\n",
        "print('Length of text: {} characters'.format(len(text)))"
      ],
      "metadata": {
        "colab": {
          "base_uri": "https://localhost:8080/"
        },
        "id": "aG80GkQAPrMr",
        "outputId": "7a0875d9-f7d3-4e9c-d3c6-c7fb8ff41781"
      },
      "execution_count": 4,
      "outputs": [
        {
          "output_type": "stream",
          "name": "stdout",
          "text": [
            "Length of text: 286984 characters\n"
          ]
        }
      ]
    },
    {
      "cell_type": "code",
      "source": [
        "print(text[:500])"
      ],
      "metadata": {
        "colab": {
          "base_uri": "https://localhost:8080/"
        },
        "id": "rE9KmBg2PsZE",
        "outputId": "1168c646-43a5-40c6-f391-e79959121e15"
      },
      "execution_count": 5,
      "outputs": [
        {
          "output_type": "stream",
          "name": "stdout",
          "text": [
            "Александр Сергеевич Пушкин\n",
            "\n",
            "                                Евгений Онегин\n",
            "                                Роман в стихах\n",
            "\n",
            "                        Не мысля гордый свет забавить,\n",
            "                        Вниманье дружбы возлюбя,\n",
            "                        Хотел бы я тебе представить\n",
            "                        Залог достойнее тебя,\n",
            "                        Достойнее души прекрасной,\n",
            "                        Святой исполненной мечты,\n",
            "                        Поэзии живой и ясной,\n",
            "                        Высо\n"
          ]
        }
      ]
    },
    {
      "cell_type": "code",
      "source": [
        "# The unique characters in the file\n",
        "vocab = sorted(set(text))\n",
        "print('{} unique characters'.format(len(vocab)))"
      ],
      "metadata": {
        "colab": {
          "base_uri": "https://localhost:8080/"
        },
        "id": "lQHY8AVBPuzS",
        "outputId": "b8b9327e-6c80-4013-c5e6-2293df6b0fcd"
      },
      "execution_count": 6,
      "outputs": [
        {
          "output_type": "stream",
          "name": "stdout",
          "text": [
            "131 unique characters\n"
          ]
        }
      ]
    },
    {
      "cell_type": "code",
      "source": [
        "# Creating a mapping from unique characters to indices\n",
        "char2idx = {u:i for i, u in enumerate(vocab)}\n",
        "idx2char = np.array(vocab)\n",
        "\n",
        "text_as_int = np.array([char2idx[c] for c in text])"
      ],
      "metadata": {
        "id": "IhhiPnEcPxsF"
      },
      "execution_count": 7,
      "outputs": []
    },
    {
      "cell_type": "code",
      "source": [
        "text_as_int, text[:100], len(text_as_int), len(text)"
      ],
      "metadata": {
        "colab": {
          "base_uri": "https://localhost:8080/"
        },
        "id": "mjk8t3X3P0LE",
        "outputId": "91412682-703a-4919-a4e9-4e88bb1a2d8d"
      },
      "execution_count": 8,
      "outputs": [
        {
          "output_type": "execute_result",
          "data": {
            "text/plain": [
              "(array([ 71, 110, 104, ..., 104, 121,   0]),\n",
              " 'Александр Сергеевич Пушкин\\n\\n                                Евгений Онегин\\n                         ',\n",
              " 286984,\n",
              " 286984)"
            ]
          },
          "metadata": {},
          "execution_count": 8
        }
      ]
    },
    {
      "cell_type": "code",
      "source": [
        "# The maximum length sentence you want for a single input in characters\n",
        "seq_length = 100\n",
        "examples_per_epoch = len(text)//(seq_length+1)\n",
        "\n",
        "# Create training examples / targets\n",
        "char_dataset = tf.data.Dataset.from_tensor_slices(text_as_int)\n",
        "\n",
        "for i in char_dataset.take(5):\n",
        "    print(idx2char[i.numpy()])"
      ],
      "metadata": {
        "colab": {
          "base_uri": "https://localhost:8080/"
        },
        "id": "bolpGrzHP2ly",
        "outputId": "4b9234a0-e4e0-4746-ce0d-fabaca433c64"
      },
      "execution_count": 9,
      "outputs": [
        {
          "output_type": "stream",
          "name": "stdout",
          "text": [
            "А\n",
            "л\n",
            "е\n",
            "к\n",
            "с\n"
          ]
        }
      ]
    },
    {
      "cell_type": "code",
      "source": [
        "sequences = char_dataset.batch(seq_length+1, drop_remainder=True)\n",
        "\n",
        "for item in sequences.take(5):\n",
        "    print(repr(''.join(idx2char[item.numpy()])))"
      ],
      "metadata": {
        "colab": {
          "base_uri": "https://localhost:8080/"
        },
        "id": "Xtdx_2_gP5NL",
        "outputId": "ea9e4ba0-a47f-4a9b-e2ed-902e84cb4eeb"
      },
      "execution_count": 10,
      "outputs": [
        {
          "output_type": "stream",
          "name": "stdout",
          "text": [
            "'Александр Сергеевич Пушкин\\n\\n                                Евгений Онегин\\n                          '\n",
            "'      Роман в стихах\\n\\n                        Не мысля гордый свет забавить,\\n                        '\n",
            "'Вниманье дружбы возлюбя,\\n                        Хотел бы я тебе представить\\n                        '\n",
            "'Залог достойнее тебя,\\n                        Достойнее души прекрасной,\\n                        Свят'\n",
            "'ой исполненной мечты,\\n                        Поэзии живой и ясной,\\n                        Высоких д'\n"
          ]
        }
      ]
    },
    {
      "cell_type": "code",
      "source": [
        "def split_input_target(chunk):\n",
        "    input_text = chunk[:-1]\n",
        "    target_text = chunk[1:]\n",
        "    return input_text, target_text\n",
        "\n",
        "dataset = sequences.map(split_input_target)"
      ],
      "metadata": {
        "id": "P8_oTWk4P77T"
      },
      "execution_count": 11,
      "outputs": []
    },
    {
      "cell_type": "code",
      "source": [
        "for input_example, target_example in  dataset.take(1):\n",
        "    print('Input data: ', repr(''.join(idx2char[input_example.numpy()])))\n",
        "    print('Target data:', repr(''.join(idx2char[target_example.numpy()])))"
      ],
      "metadata": {
        "colab": {
          "base_uri": "https://localhost:8080/"
        },
        "id": "hJ1AshUfP_v5",
        "outputId": "405d88ac-81b4-4c78-e807-bde4c1b830ae"
      },
      "execution_count": 12,
      "outputs": [
        {
          "output_type": "stream",
          "name": "stdout",
          "text": [
            "Input data:  'Александр Сергеевич Пушкин\\n\\n                                Евгений Онегин\\n                         '\n",
            "Target data: 'лександр Сергеевич Пушкин\\n\\n                                Евгений Онегин\\n                          '\n"
          ]
        }
      ]
    },
    {
      "cell_type": "code",
      "source": [
        "# Batch size\n",
        "BATCH_SIZE = 50\n",
        "\n",
        "BUFFER_SIZE = 10000\n",
        "\n",
        "dataset = dataset.shuffle(BUFFER_SIZE).batch(BATCH_SIZE, drop_remainder=True)\n",
        "\n",
        "dataset"
      ],
      "metadata": {
        "colab": {
          "base_uri": "https://localhost:8080/"
        },
        "id": "P6B1d1RKQC_h",
        "outputId": "0fc88898-def8-48c0-a5fa-bf26d23a770d"
      },
      "execution_count": 13,
      "outputs": [
        {
          "output_type": "execute_result",
          "data": {
            "text/plain": [
              "<BatchDataset element_spec=(TensorSpec(shape=(50, 100), dtype=tf.int64, name=None), TensorSpec(shape=(50, 100), dtype=tf.int64, name=None))>"
            ]
          },
          "metadata": {},
          "execution_count": 13
        }
      ]
    },
    {
      "cell_type": "code",
      "source": [
        "# Length of the vocabulary in chars\n",
        "vocab_size = len(vocab)\n",
        "\n",
        "# The embedding dimension\n",
        "embedding_dim = 256\n",
        "\n",
        "# Number of RNN units\n",
        "rnn_units = 1024"
      ],
      "metadata": {
        "id": "Tt3omo0_QGoi"
      },
      "execution_count": 14,
      "outputs": []
    },
    {
      "cell_type": "code",
      "source": [
        "def build_model(vocab_size, embedding_dim, rnn_units, batch_size):\n",
        "    model = tf.keras.Sequential([\n",
        "        tf.keras.layers.Embedding(vocab_size, embedding_dim,\n",
        "                                  batch_input_shape=[batch_size, None]),\n",
        "                                 \n",
        "        tf.keras.layers.LSTM(rnn_units,\n",
        "                            return_sequences=True,\n",
        "                            stateful=True,\n",
        "                            recurrent_initializer='glorot_uniform'),\n",
        "\n",
        "        tf.keras.layers.LSTM(rnn_units,\n",
        "                            return_sequences=True,\n",
        "                            stateful=True,\n",
        "                            recurrent_initializer='glorot_uniform'),\n",
        "\n",
        "         tf.keras.layers.LSTM(rnn_units,\n",
        "                            return_sequences=True,\n",
        "                            stateful=True,\n",
        "                            recurrent_initializer='glorot_uniform'),\n",
        "        \n",
        "        tf.keras.layers.LSTM(rnn_units,\n",
        "                            return_sequences=True,\n",
        "                            stateful=True,\n",
        "                            recurrent_initializer='glorot_uniform'),\n",
        "                                   \n",
        "        tf.keras.layers.Dense(vocab_size)\n",
        "    ])\n",
        "    return model"
      ],
      "metadata": {
        "id": "KL2aNDZrQJdF"
      },
      "execution_count": 15,
      "outputs": []
    },
    {
      "cell_type": "code",
      "source": [
        "model = build_model(\n",
        "    vocab_size=len(vocab),\n",
        "    embedding_dim=embedding_dim,\n",
        "    rnn_units=rnn_units,\n",
        "    batch_size=BATCH_SIZE)"
      ],
      "metadata": {
        "id": "cHgmOJ6lQLsS"
      },
      "execution_count": 16,
      "outputs": []
    },
    {
      "cell_type": "code",
      "source": [
        "model.summary()"
      ],
      "metadata": {
        "colab": {
          "base_uri": "https://localhost:8080/"
        },
        "id": "dWRS3s0VQOGt",
        "outputId": "e28afd50-ed46-4ca7-f250-e174c26f4b53"
      },
      "execution_count": 17,
      "outputs": [
        {
          "output_type": "stream",
          "name": "stdout",
          "text": [
            "Model: \"sequential\"\n",
            "_________________________________________________________________\n",
            " Layer (type)                Output Shape              Param #   \n",
            "=================================================================\n",
            " embedding (Embedding)       (50, None, 256)           33536     \n",
            "                                                                 \n",
            " lstm (LSTM)                 (50, None, 1024)          5246976   \n",
            "                                                                 \n",
            " lstm_1 (LSTM)               (50, None, 1024)          8392704   \n",
            "                                                                 \n",
            " lstm_2 (LSTM)               (50, None, 1024)          8392704   \n",
            "                                                                 \n",
            " lstm_3 (LSTM)               (50, None, 1024)          8392704   \n",
            "                                                                 \n",
            " dense (Dense)               (50, None, 131)           134275    \n",
            "                                                                 \n",
            "=================================================================\n",
            "Total params: 30,592,899\n",
            "Trainable params: 30,592,899\n",
            "Non-trainable params: 0\n",
            "_________________________________________________________________\n"
          ]
        }
      ]
    },
    {
      "cell_type": "code",
      "source": [
        "def loss(labels, logits):\n",
        "    return tf.keras.losses.sparse_categorical_crossentropy(labels, logits, from_logits=True)"
      ],
      "metadata": {
        "id": "OQ4J40d1QRAt"
      },
      "execution_count": 18,
      "outputs": []
    },
    {
      "cell_type": "code",
      "source": [
        "model.compile(optimizer='adam', loss=loss)"
      ],
      "metadata": {
        "id": "AI83EJHHQS_q"
      },
      "execution_count": 19,
      "outputs": []
    },
    {
      "cell_type": "code",
      "source": [
        "!rm -rf ./training_checkpoints"
      ],
      "metadata": {
        "id": "8YblCjTuQVeT"
      },
      "execution_count": 20,
      "outputs": []
    },
    {
      "cell_type": "code",
      "source": [
        "# Directory where the checkpoints will be saved\n",
        "checkpoint_dir = './training_checkpoints'\n",
        "# Name of the checkpoint files\n",
        "checkpoint_prefix = os.path.join(checkpoint_dir, \"ckpt_{epoch}\")\n",
        "\n",
        "checkpoint_callback = tf.keras.callbacks.ModelCheckpoint(\n",
        "    filepath=checkpoint_prefix,\n",
        "    save_freq=88*5,\n",
        "    save_weights_only=True)"
      ],
      "metadata": {
        "id": "4pys0Ek4QX6a"
      },
      "execution_count": 21,
      "outputs": []
    },
    {
      "cell_type": "markdown",
      "source": [
        "Начнем с 50 эпох"
      ],
      "metadata": {
        "id": "eyK-CgB8QaiH"
      }
    },
    {
      "cell_type": "code",
      "source": [
        "EPOCHS = 50"
      ],
      "metadata": {
        "id": "39D7-oSYQdcT"
      },
      "execution_count": 22,
      "outputs": []
    },
    {
      "cell_type": "code",
      "source": [
        "history = model.fit(dataset, epochs=EPOCHS, callbacks=[checkpoint_callback])"
      ],
      "metadata": {
        "colab": {
          "base_uri": "https://localhost:8080/"
        },
        "id": "EzbiT809QgQy",
        "outputId": "a00b6a17-f98f-41c1-f82d-4a97fa51510d"
      },
      "execution_count": 23,
      "outputs": [
        {
          "output_type": "stream",
          "name": "stdout",
          "text": [
            "Epoch 1/50\n",
            "56/56 [==============================] - 27s 310ms/step - loss: 2.4408\n",
            "Epoch 2/50\n",
            "56/56 [==============================] - 18s 322ms/step - loss: 2.2410\n",
            "Epoch 3/50\n",
            "56/56 [==============================] - 20s 339ms/step - loss: 2.2396\n",
            "Epoch 4/50\n",
            "56/56 [==============================] - 19s 337ms/step - loss: 2.2061\n",
            "Epoch 5/50\n",
            "56/56 [==============================] - 19s 325ms/step - loss: 2.0377\n",
            "Epoch 6/50\n",
            "56/56 [==============================] - 19s 325ms/step - loss: 1.7392\n",
            "Epoch 7/50\n",
            "56/56 [==============================] - 19s 332ms/step - loss: 1.6495\n",
            "Epoch 8/50\n",
            "56/56 [==============================] - 20s 356ms/step - loss: 1.5564\n",
            "Epoch 9/50\n",
            "56/56 [==============================] - 19s 331ms/step - loss: 1.4960\n",
            "Epoch 10/50\n",
            "56/56 [==============================] - 19s 328ms/step - loss: 1.4428\n",
            "Epoch 11/50\n",
            "56/56 [==============================] - 19s 331ms/step - loss: 1.4157\n",
            "Epoch 12/50\n",
            "56/56 [==============================] - 19s 335ms/step - loss: 1.3959\n",
            "Epoch 13/50\n",
            "56/56 [==============================] - 19s 334ms/step - loss: 1.3742\n",
            "Epoch 14/50\n",
            "56/56 [==============================] - 19s 331ms/step - loss: 1.3590\n",
            "Epoch 15/50\n",
            "56/56 [==============================] - 19s 331ms/step - loss: 1.3572\n",
            "Epoch 16/50\n",
            "56/56 [==============================] - 20s 349ms/step - loss: 1.3430\n",
            "Epoch 17/50\n",
            "56/56 [==============================] - 19s 334ms/step - loss: 1.3310\n",
            "Epoch 18/50\n",
            "56/56 [==============================] - 19s 334ms/step - loss: 1.3208\n",
            "Epoch 19/50\n",
            "56/56 [==============================] - 19s 331ms/step - loss: 1.3120\n",
            "Epoch 20/50\n",
            "56/56 [==============================] - 19s 330ms/step - loss: 1.3034\n",
            "Epoch 21/50\n",
            "56/56 [==============================] - 19s 331ms/step - loss: 1.2912\n",
            "Epoch 22/50\n",
            "56/56 [==============================] - 19s 331ms/step - loss: 1.2885\n",
            "Epoch 23/50\n",
            "56/56 [==============================] - 19s 333ms/step - loss: 1.2727\n",
            "Epoch 24/50\n",
            "56/56 [==============================] - 20s 351ms/step - loss: 1.2700\n",
            "Epoch 25/50\n",
            "56/56 [==============================] - 19s 333ms/step - loss: 1.2619\n",
            "Epoch 26/50\n",
            "56/56 [==============================] - 19s 333ms/step - loss: 1.2500\n",
            "Epoch 27/50\n",
            "56/56 [==============================] - 19s 333ms/step - loss: 1.2443\n",
            "Epoch 28/50\n",
            "56/56 [==============================] - 19s 333ms/step - loss: 1.2360\n",
            "Epoch 29/50\n",
            "56/56 [==============================] - 19s 334ms/step - loss: 1.2284\n",
            "Epoch 30/50\n",
            "56/56 [==============================] - 19s 334ms/step - loss: 1.2213\n",
            "Epoch 31/50\n",
            "56/56 [==============================] - 19s 334ms/step - loss: 1.2176\n",
            "Epoch 32/50\n",
            "56/56 [==============================] - 20s 350ms/step - loss: 1.2044\n",
            "Epoch 33/50\n",
            "56/56 [==============================] - 19s 333ms/step - loss: 1.1985\n",
            "Epoch 34/50\n",
            "56/56 [==============================] - 19s 333ms/step - loss: 1.2086\n",
            "Epoch 35/50\n",
            "56/56 [==============================] - 19s 333ms/step - loss: 1.2026\n",
            "Epoch 36/50\n",
            "56/56 [==============================] - 19s 334ms/step - loss: 1.1898\n",
            "Epoch 37/50\n",
            "56/56 [==============================] - 19s 335ms/step - loss: 1.1806\n",
            "Epoch 38/50\n",
            "56/56 [==============================] - 19s 333ms/step - loss: 1.1743\n",
            "Epoch 39/50\n",
            "56/56 [==============================] - 19s 332ms/step - loss: 1.1610\n",
            "Epoch 40/50\n",
            "56/56 [==============================] - 20s 350ms/step - loss: 1.1609\n",
            "Epoch 41/50\n",
            "56/56 [==============================] - 19s 335ms/step - loss: 1.1529\n",
            "Epoch 42/50\n",
            "56/56 [==============================] - 19s 334ms/step - loss: 1.1441\n",
            "Epoch 43/50\n",
            "56/56 [==============================] - 19s 333ms/step - loss: 1.1291\n",
            "Epoch 44/50\n",
            "56/56 [==============================] - 19s 332ms/step - loss: 1.1247\n",
            "Epoch 45/50\n",
            "56/56 [==============================] - 19s 334ms/step - loss: 1.1156\n",
            "Epoch 46/50\n",
            "56/56 [==============================] - 19s 334ms/step - loss: 1.1086\n",
            "Epoch 47/50\n",
            "56/56 [==============================] - 19s 333ms/step - loss: 1.1234\n",
            "Epoch 48/50\n",
            "56/56 [==============================] - 20s 348ms/step - loss: 1.0926\n",
            "Epoch 49/50\n",
            "56/56 [==============================] - 19s 334ms/step - loss: 1.0894\n",
            "Epoch 50/50\n",
            "56/56 [==============================] - 19s 334ms/step - loss: 1.0729\n"
          ]
        }
      ]
    },
    {
      "cell_type": "code",
      "source": [
        "tf.train.latest_checkpoint(checkpoint_dir)"
      ],
      "metadata": {
        "colab": {
          "base_uri": "https://localhost:8080/",
          "height": 35
        },
        "id": "bSgb7VKBVRcW",
        "outputId": "d1a7f52d-fe8c-49ad-cbb8-b302d764e539"
      },
      "execution_count": 24,
      "outputs": [
        {
          "output_type": "execute_result",
          "data": {
            "text/plain": [
              "'./training_checkpoints/ckpt_48'"
            ],
            "application/vnd.google.colaboratory.intrinsic+json": {
              "type": "string"
            }
          },
          "metadata": {},
          "execution_count": 24
        }
      ]
    },
    {
      "cell_type": "code",
      "source": [
        "model = build_model(vocab_size, embedding_dim, rnn_units, batch_size=1)\n",
        "model.load_weights(tf.train.latest_checkpoint(checkpoint_dir))\n",
        "model.build(tf.TensorShape([1, None]))"
      ],
      "metadata": {
        "id": "TMKR-BRWVW9M"
      },
      "execution_count": 25,
      "outputs": []
    },
    {
      "cell_type": "markdown",
      "source": [
        "Температура 1"
      ],
      "metadata": {
        "id": "25z1siEbVdrt"
      }
    },
    {
      "cell_type": "code",
      "source": [
        "def generate_text(model, start_string):\n",
        "    # Evaluation step (generating text using the learned model)\n",
        "\n",
        "    # Number of characters to generate\n",
        "    num_generate = 500\n",
        "\n",
        "    # Converting our start string to numbers (vectorizing)\n",
        "    input_eval = [char2idx[s] for s in start_string]\n",
        "    input_eval = tf.expand_dims(input_eval, 0)\n",
        "\n",
        "    # Empty string to store our results\n",
        "    text_generated = []\n",
        "\n",
        "    # Low temperature results in more predictable text.\n",
        "    # Higher temperature results in more surprising text.\n",
        "    # Experiment to find the best setting.\n",
        "    temperature = 0.0001\n",
        "\n",
        "    # Here batch size == 1\n",
        "    model.reset_states()\n",
        "    for i in range(num_generate):\n",
        "        predictions = model(input_eval)\n",
        "        predictions = tf.squeeze(predictions, 0)\n",
        "        # using a categorical distribution to predict the character returned by the model\n",
        "        predictions = predictions / temperature\n",
        "        predicted_id = tf.random.categorical(predictions, num_samples=1)[-1, 0].numpy()\n",
        "\n",
        "        # Pass the predicted character as the next input to the model\n",
        "        # along with the previous hidden state\n",
        "        input_eval = tf.expand_dims([predicted_id], 0)\n",
        "\n",
        "        text_generated.append(idx2char[predicted_id])\n",
        "\n",
        "    return (start_string + ''.join(text_generated))"
      ],
      "metadata": {
        "id": "MUhfXa4TVcy0"
      },
      "execution_count": 39,
      "outputs": []
    },
    {
      "cell_type": "markdown",
      "source": [
        "Температура 1"
      ],
      "metadata": {
        "id": "ZdE3vKJ_WaB3"
      }
    },
    {
      "cell_type": "code",
      "source": [
        "text_ = generate_text(model, start_string=u\"И вот идет уже \")\n",
        "print(text_)"
      ],
      "metadata": {
        "colab": {
          "base_uri": "https://localhost:8080/"
        },
        "id": "7VgDJ3EnVjpF",
        "outputId": "c5a16926-8517-4d28-8cd4-f55ed270d5c8"
      },
      "execution_count": 34,
      "outputs": [
        {
          "output_type": "stream",
          "name": "stdout",
          "text": [
            "И вот идет уже ,  ее,м н у\n",
            "в  н  . .я  ..   л н ,ен\n",
            "..ш , ,\n",
            "\n",
            "н  в ую, д )!  е  .в о \n",
            "п н : л \n",
            "н  н  .\n",
            " л  у.  ейл с н      я\n",
            "    ж \n",
            ". ясг. е. р ,  л ;;\n",
            "к  ян  ю  йо. ) н . ер .ян .  м ин у .ч \n",
            "; я щ  , . и    е л \n",
            "е и.м ео   о, л  м сеьед   л .л н \n",
            "\n",
            ",г   н  у н н   е н           .ш , ;.иам   \n",
            "  н  е  юд яо .\n",
            "  в н \n",
            "\n",
            "  м н р .я;л \n",
            ".м \n",
            ". л\n",
            "р     н.  .:ее г\n",
            "и.р н   \n",
            "  к \n",
            "л. л н  в \n",
            "м \n",
            "н   ин\n",
            " яр ,л л   я .я \n",
            "яе  ;  \n",
            " ?яе,и яя,н н.  к     к и.е  е      н\n",
            " еяд, \n",
            "   н  и. ив  ек    . а!     . !   . :н   р яя н н ,\n",
            "!\n"
          ]
        }
      ]
    },
    {
      "cell_type": "markdown",
      "source": [
        "Температура 0.1"
      ],
      "metadata": {
        "id": "LI08Kc1QWb6j"
      }
    },
    {
      "cell_type": "code",
      "source": [
        "text_ = generate_text(model, start_string=u\"И вот идет уже \")\n",
        "print(text_)"
      ],
      "metadata": {
        "colab": {
          "base_uri": "https://localhost:8080/"
        },
        "id": "r25DqXWmWOyr",
        "outputId": "44267b6f-598d-4173-e8f3-bbc30808be75"
      },
      "execution_count": 38,
      "outputs": [
        {
          "output_type": "stream",
          "name": "stdout",
          "text": [
            "И вот идет уже                 н        н   н      н                  н        н н        н         м          н       н            ен  е       н           н         н        н       н          н н                н      н            н            р н            н н         н           н н          н        н          н            н н        н          н             н н                    н     н        м           н        н      н          н           н  м             н н           н         н        н        \n"
          ]
        }
      ]
    },
    {
      "cell_type": "markdown",
      "source": [
        "Температура 0.0001"
      ],
      "metadata": {
        "id": "wtZ22oDpWeHd"
      }
    },
    {
      "cell_type": "code",
      "source": [
        "text_ = generate_text(model, start_string=u\"И вот идет уже \")\n",
        "print(text_)"
      ],
      "metadata": {
        "colab": {
          "base_uri": "https://localhost:8080/"
        },
        "id": "BSOxQla0Wjdb",
        "outputId": "ee4a8f8d-f346-4538-bed2-7d8a31bdacba"
      },
      "execution_count": 40,
      "outputs": [
        {
          "output_type": "stream",
          "name": "stdout",
          "text": [
            "И вот идет уже                     н             н             н             н             н             н             н             н             н             н             н             н             н             н             н             н             н             н             н             н             н             н             н             н             н             н             н             н             н             н             н             н             н             н             н   \n"
          ]
        }
      ]
    },
    {
      "cell_type": "markdown",
      "source": [
        "Результат не впечатляет, попробуем обучить на 150 эпохах"
      ],
      "metadata": {
        "id": "XHZ0j0ovWqTe"
      }
    },
    {
      "cell_type": "code",
      "source": [
        "model = build_model(\n",
        "    vocab_size=len(vocab),\n",
        "    embedding_dim=embedding_dim,\n",
        "    rnn_units=rnn_units,\n",
        "    batch_size=BATCH_SIZE)"
      ],
      "metadata": {
        "id": "XD9dT4m-Wys4"
      },
      "execution_count": 41,
      "outputs": []
    },
    {
      "cell_type": "code",
      "source": [
        "model.compile(optimizer='adam', loss=loss)"
      ],
      "metadata": {
        "id": "KlBmCsTIW2nr"
      },
      "execution_count": 42,
      "outputs": []
    },
    {
      "cell_type": "code",
      "source": [
        "# Directory where the checkpoints will be saved\n",
        "checkpoint_dir = './training_checkpoints'\n",
        "# Name of the checkpoint files\n",
        "checkpoint_prefix = os.path.join(checkpoint_dir, \"ckpt_{epoch}\")\n",
        "\n",
        "checkpoint_callback = tf.keras.callbacks.ModelCheckpoint(\n",
        "    filepath=checkpoint_prefix,\n",
        "    save_freq=88*5,\n",
        "    save_weights_only=True)"
      ],
      "metadata": {
        "id": "IO60CDnLW5GD"
      },
      "execution_count": 43,
      "outputs": []
    },
    {
      "cell_type": "code",
      "source": [
        "EPOCHS=150"
      ],
      "metadata": {
        "id": "PGxzxlb4W8gK"
      },
      "execution_count": 44,
      "outputs": []
    },
    {
      "cell_type": "code",
      "source": [
        "history = model.fit(dataset, epochs=EPOCHS, callbacks=[checkpoint_callback])"
      ],
      "metadata": {
        "colab": {
          "base_uri": "https://localhost:8080/"
        },
        "id": "E1NNS33oXAAL",
        "outputId": "f086873f-73e2-46f3-a2a5-47287474cde3"
      },
      "execution_count": 45,
      "outputs": [
        {
          "output_type": "stream",
          "name": "stdout",
          "text": [
            "Epoch 1/150\n",
            "56/56 [==============================] - 24s 350ms/step - loss: 2.4987\n",
            "Epoch 2/150\n",
            "56/56 [==============================] - 19s 337ms/step - loss: 2.2296\n",
            "Epoch 3/150\n",
            "56/56 [==============================] - 18s 323ms/step - loss: 1.9056\n",
            "Epoch 4/150\n",
            "56/56 [==============================] - 19s 326ms/step - loss: 1.7205\n",
            "Epoch 5/150\n",
            "56/56 [==============================] - 19s 336ms/step - loss: 1.5822\n",
            "Epoch 6/150\n",
            "56/56 [==============================] - 19s 338ms/step - loss: 1.4991\n",
            "Epoch 7/150\n",
            "56/56 [==============================] - 19s 333ms/step - loss: 1.4430\n",
            "Epoch 8/150\n",
            "56/56 [==============================] - 20s 348ms/step - loss: 1.4051\n",
            "Epoch 9/150\n",
            "56/56 [==============================] - 19s 332ms/step - loss: 1.3948\n",
            "Epoch 10/150\n",
            "56/56 [==============================] - 19s 334ms/step - loss: 1.3718\n",
            "Epoch 11/150\n",
            "56/56 [==============================] - 19s 335ms/step - loss: 1.3528\n",
            "Epoch 12/150\n",
            "56/56 [==============================] - 19s 334ms/step - loss: 1.3573\n",
            "Epoch 13/150\n",
            "56/56 [==============================] - 19s 333ms/step - loss: 1.3403\n",
            "Epoch 14/150\n",
            "56/56 [==============================] - 19s 333ms/step - loss: 1.3241\n",
            "Epoch 15/150\n",
            "56/56 [==============================] - 19s 334ms/step - loss: 1.3160\n",
            "Epoch 16/150\n",
            "56/56 [==============================] - 20s 352ms/step - loss: 1.3137\n",
            "Epoch 17/150\n",
            "56/56 [==============================] - 19s 335ms/step - loss: 1.2923\n",
            "Epoch 18/150\n",
            "56/56 [==============================] - 19s 335ms/step - loss: 1.3133\n",
            "Epoch 19/150\n",
            "56/56 [==============================] - 19s 335ms/step - loss: 1.2948\n",
            "Epoch 20/150\n",
            "56/56 [==============================] - 19s 334ms/step - loss: 1.2804\n",
            "Epoch 21/150\n",
            "56/56 [==============================] - 19s 334ms/step - loss: 1.2625\n",
            "Epoch 22/150\n",
            "56/56 [==============================] - 19s 334ms/step - loss: 1.2446\n",
            "Epoch 23/150\n",
            "56/56 [==============================] - 19s 336ms/step - loss: 1.2396\n",
            "Epoch 24/150\n",
            "56/56 [==============================] - 20s 352ms/step - loss: 1.2268\n",
            "Epoch 25/150\n",
            "56/56 [==============================] - 19s 333ms/step - loss: 1.2071\n",
            "Epoch 26/150\n",
            "56/56 [==============================] - 19s 333ms/step - loss: 1.1917\n",
            "Epoch 27/150\n",
            "56/56 [==============================] - 19s 334ms/step - loss: 1.1706\n",
            "Epoch 28/150\n",
            "56/56 [==============================] - 19s 336ms/step - loss: 1.1840\n",
            "Epoch 29/150\n",
            "56/56 [==============================] - 19s 334ms/step - loss: 1.1519\n",
            "Epoch 30/150\n",
            "56/56 [==============================] - 19s 335ms/step - loss: 1.1311\n",
            "Epoch 31/150\n",
            "56/56 [==============================] - 19s 335ms/step - loss: 1.1135\n",
            "Epoch 32/150\n",
            "56/56 [==============================] - 20s 352ms/step - loss: 1.0953\n",
            "Epoch 33/150\n",
            "56/56 [==============================] - 19s 334ms/step - loss: 1.0653\n",
            "Epoch 34/150\n",
            "56/56 [==============================] - 19s 335ms/step - loss: 1.0405\n",
            "Epoch 35/150\n",
            "56/56 [==============================] - 19s 336ms/step - loss: 1.0113\n",
            "Epoch 36/150\n",
            "56/56 [==============================] - 19s 335ms/step - loss: 1.0056\n",
            "Epoch 37/150\n",
            "56/56 [==============================] - 19s 334ms/step - loss: 0.9823\n",
            "Epoch 38/150\n",
            "56/56 [==============================] - 19s 333ms/step - loss: 0.9495\n",
            "Epoch 39/150\n",
            "56/56 [==============================] - 19s 333ms/step - loss: 0.9527\n",
            "Epoch 40/150\n",
            "56/56 [==============================] - 20s 352ms/step - loss: 0.9361\n",
            "Epoch 41/150\n",
            "56/56 [==============================] - 19s 334ms/step - loss: 0.9034\n",
            "Epoch 42/150\n",
            "56/56 [==============================] - 19s 335ms/step - loss: 0.8797\n",
            "Epoch 43/150\n",
            "56/56 [==============================] - 19s 335ms/step - loss: 0.8448\n",
            "Epoch 44/150\n",
            "56/56 [==============================] - 19s 336ms/step - loss: 0.8198\n",
            "Epoch 45/150\n",
            "56/56 [==============================] - 19s 335ms/step - loss: 0.7898\n",
            "Epoch 46/150\n",
            "56/56 [==============================] - 19s 334ms/step - loss: 0.7669\n",
            "Epoch 47/150\n",
            "56/56 [==============================] - 19s 334ms/step - loss: 0.7291\n",
            "Epoch 48/150\n",
            "56/56 [==============================] - 20s 352ms/step - loss: 0.6823\n",
            "Epoch 49/150\n",
            "56/56 [==============================] - 19s 337ms/step - loss: 0.6871\n",
            "Epoch 50/150\n",
            "56/56 [==============================] - 19s 334ms/step - loss: 0.6487\n",
            "Epoch 51/150\n",
            "56/56 [==============================] - 19s 333ms/step - loss: 0.6103\n",
            "Epoch 52/150\n",
            "56/56 [==============================] - 19s 334ms/step - loss: 0.5907\n",
            "Epoch 53/150\n",
            "56/56 [==============================] - 19s 335ms/step - loss: 0.5406\n",
            "Epoch 54/150\n",
            "56/56 [==============================] - 19s 336ms/step - loss: 0.5400\n",
            "Epoch 55/150\n",
            "56/56 [==============================] - 20s 350ms/step - loss: 0.5148\n",
            "Epoch 56/150\n",
            "56/56 [==============================] - 19s 334ms/step - loss: 0.4754\n",
            "Epoch 57/150\n",
            "56/56 [==============================] - 19s 335ms/step - loss: 0.4516\n",
            "Epoch 58/150\n",
            "56/56 [==============================] - 19s 335ms/step - loss: 0.4281\n",
            "Epoch 59/150\n",
            "56/56 [==============================] - 19s 336ms/step - loss: 0.4021\n",
            "Epoch 60/150\n",
            "56/56 [==============================] - 19s 335ms/step - loss: 0.3851\n",
            "Epoch 61/150\n",
            "56/56 [==============================] - 19s 335ms/step - loss: 0.4095\n",
            "Epoch 62/150\n",
            "56/56 [==============================] - 19s 336ms/step - loss: 0.3954\n",
            "Epoch 63/150\n",
            "56/56 [==============================] - 20s 354ms/step - loss: 0.3719\n",
            "Epoch 64/150\n",
            "56/56 [==============================] - 19s 336ms/step - loss: 0.3546\n",
            "Epoch 65/150\n",
            "56/56 [==============================] - 19s 335ms/step - loss: 0.3403\n",
            "Epoch 66/150\n",
            "56/56 [==============================] - 19s 335ms/step - loss: 0.3540\n",
            "Epoch 67/150\n",
            "56/56 [==============================] - 19s 336ms/step - loss: 0.3600\n",
            "Epoch 68/150\n",
            "56/56 [==============================] - 19s 335ms/step - loss: 0.3360\n",
            "Epoch 69/150\n",
            "56/56 [==============================] - 19s 335ms/step - loss: 0.3278\n",
            "Epoch 70/150\n",
            "56/56 [==============================] - 19s 335ms/step - loss: 0.3145\n",
            "Epoch 71/150\n",
            "56/56 [==============================] - 20s 352ms/step - loss: 0.3194\n",
            "Epoch 72/150\n",
            "56/56 [==============================] - 19s 336ms/step - loss: 0.3378\n",
            "Epoch 73/150\n",
            "56/56 [==============================] - 19s 336ms/step - loss: 0.3213\n",
            "Epoch 74/150\n",
            "56/56 [==============================] - 19s 335ms/step - loss: 0.3011\n",
            "Epoch 75/150\n",
            "56/56 [==============================] - 19s 334ms/step - loss: 0.3096\n",
            "Epoch 76/150\n",
            "56/56 [==============================] - 19s 335ms/step - loss: 0.2937\n",
            "Epoch 77/150\n",
            "56/56 [==============================] - 19s 336ms/step - loss: 0.2908\n",
            "Epoch 78/150\n",
            "56/56 [==============================] - 19s 336ms/step - loss: 0.2863\n",
            "Epoch 79/150\n",
            "56/56 [==============================] - 20s 353ms/step - loss: 0.3230\n",
            "Epoch 80/150\n",
            "56/56 [==============================] - 19s 336ms/step - loss: 0.3071\n",
            "Epoch 81/150\n",
            "56/56 [==============================] - 19s 335ms/step - loss: 0.2856\n",
            "Epoch 82/150\n",
            "56/56 [==============================] - 19s 335ms/step - loss: 0.3056\n",
            "Epoch 83/150\n",
            "56/56 [==============================] - 19s 334ms/step - loss: 0.3143\n",
            "Epoch 84/150\n",
            "56/56 [==============================] - 19s 333ms/step - loss: 0.3034\n",
            "Epoch 85/150\n",
            "56/56 [==============================] - 19s 336ms/step - loss: 0.2804\n",
            "Epoch 86/150\n",
            "56/56 [==============================] - 19s 336ms/step - loss: 0.2897\n",
            "Epoch 87/150\n",
            "56/56 [==============================] - 20s 354ms/step - loss: 0.2909\n",
            "Epoch 88/150\n",
            "56/56 [==============================] - 19s 337ms/step - loss: 0.2670\n",
            "Epoch 89/150\n",
            "56/56 [==============================] - 19s 336ms/step - loss: 0.2617\n",
            "Epoch 90/150\n",
            "56/56 [==============================] - 19s 334ms/step - loss: 0.2724\n",
            "Epoch 91/150\n",
            "56/56 [==============================] - 19s 334ms/step - loss: 0.2757\n",
            "Epoch 92/150\n",
            "56/56 [==============================] - 19s 335ms/step - loss: 0.2931\n",
            "Epoch 93/150\n",
            "56/56 [==============================] - 19s 334ms/step - loss: 0.2682\n",
            "Epoch 94/150\n",
            "56/56 [==============================] - 19s 335ms/step - loss: 0.2542\n",
            "Epoch 95/150\n",
            "56/56 [==============================] - 21s 354ms/step - loss: 0.2493\n",
            "Epoch 96/150\n",
            "56/56 [==============================] - 19s 337ms/step - loss: 0.2501\n",
            "Epoch 97/150\n",
            "56/56 [==============================] - 19s 335ms/step - loss: 0.2871\n",
            "Epoch 98/150\n",
            "56/56 [==============================] - 19s 333ms/step - loss: 0.2659\n",
            "Epoch 99/150\n",
            "56/56 [==============================] - 19s 333ms/step - loss: 0.2543\n",
            "Epoch 100/150\n",
            "56/56 [==============================] - 19s 336ms/step - loss: 0.2458\n",
            "Epoch 101/150\n",
            "56/56 [==============================] - 19s 336ms/step - loss: 0.2367\n",
            "Epoch 102/150\n",
            "56/56 [==============================] - 19s 336ms/step - loss: 0.2336\n",
            "Epoch 103/150\n",
            "56/56 [==============================] - 20s 349ms/step - loss: 0.2530\n",
            "Epoch 104/150\n",
            "56/56 [==============================] - 19s 335ms/step - loss: 0.2611\n",
            "Epoch 105/150\n",
            "56/56 [==============================] - 19s 334ms/step - loss: 0.2342\n",
            "Epoch 106/150\n",
            "56/56 [==============================] - 19s 335ms/step - loss: 0.2565\n",
            "Epoch 107/150\n",
            "56/56 [==============================] - 19s 337ms/step - loss: 0.2486\n",
            "Epoch 108/150\n",
            "56/56 [==============================] - 19s 335ms/step - loss: 0.2237\n",
            "Epoch 109/150\n",
            "56/56 [==============================] - 19s 334ms/step - loss: 0.2182\n",
            "Epoch 110/150\n",
            "56/56 [==============================] - 20s 354ms/step - loss: 0.2139\n",
            "Epoch 111/150\n",
            "56/56 [==============================] - 19s 336ms/step - loss: 0.2141\n",
            "Epoch 112/150\n",
            "56/56 [==============================] - 19s 336ms/step - loss: 0.2098\n",
            "Epoch 113/150\n",
            "56/56 [==============================] - 19s 336ms/step - loss: 0.2142\n",
            "Epoch 114/150\n",
            "56/56 [==============================] - 19s 336ms/step - loss: 0.2180\n",
            "Epoch 115/150\n",
            "56/56 [==============================] - 19s 337ms/step - loss: 0.2042\n",
            "Epoch 116/150\n",
            "56/56 [==============================] - 19s 336ms/step - loss: 0.2000\n",
            "Epoch 117/150\n",
            "56/56 [==============================] - 19s 336ms/step - loss: 0.1995\n",
            "Epoch 118/150\n",
            "56/56 [==============================] - 20s 351ms/step - loss: 0.1940\n",
            "Epoch 119/150\n",
            "56/56 [==============================] - 19s 337ms/step - loss: 0.2278\n",
            "Epoch 120/150\n",
            "56/56 [==============================] - 19s 336ms/step - loss: 0.2182\n",
            "Epoch 121/150\n",
            "56/56 [==============================] - 19s 335ms/step - loss: 0.1974\n",
            "Epoch 122/150\n",
            "56/56 [==============================] - 19s 336ms/step - loss: 0.1915\n",
            "Epoch 123/150\n",
            "56/56 [==============================] - 19s 336ms/step - loss: 0.1859\n",
            "Epoch 124/150\n",
            "56/56 [==============================] - 19s 336ms/step - loss: 0.1836\n",
            "Epoch 125/150\n",
            "56/56 [==============================] - 19s 337ms/step - loss: 0.1790\n",
            "Epoch 126/150\n",
            "56/56 [==============================] - 20s 352ms/step - loss: 0.2084\n",
            "Epoch 127/150\n",
            "56/56 [==============================] - 19s 336ms/step - loss: 0.1784\n",
            "Epoch 128/150\n",
            "56/56 [==============================] - 19s 337ms/step - loss: 0.1753\n",
            "Epoch 129/150\n",
            "56/56 [==============================] - 19s 337ms/step - loss: 0.1704\n",
            "Epoch 130/150\n",
            "56/56 [==============================] - 19s 337ms/step - loss: 0.1766\n",
            "Epoch 131/150\n",
            "56/56 [==============================] - 19s 338ms/step - loss: 0.1648\n",
            "Epoch 132/150\n",
            "56/56 [==============================] - 19s 337ms/step - loss: 0.1667\n",
            "Epoch 133/150\n",
            "56/56 [==============================] - 19s 336ms/step - loss: 0.1632\n",
            "Epoch 134/150\n",
            "56/56 [==============================] - 20s 356ms/step - loss: 0.1667\n",
            "Epoch 135/150\n",
            "56/56 [==============================] - 19s 337ms/step - loss: 0.1955\n",
            "Epoch 136/150\n",
            "56/56 [==============================] - 19s 337ms/step - loss: 0.1644\n",
            "Epoch 137/150\n",
            "56/56 [==============================] - 19s 336ms/step - loss: 0.1569\n",
            "Epoch 138/150\n",
            "56/56 [==============================] - 19s 336ms/step - loss: 0.1563\n",
            "Epoch 139/150\n",
            "56/56 [==============================] - 19s 334ms/step - loss: 0.1528\n",
            "Epoch 140/150\n",
            "56/56 [==============================] - 19s 334ms/step - loss: 0.1758\n",
            "Epoch 141/150\n",
            "56/56 [==============================] - 19s 339ms/step - loss: 0.1520\n",
            "Epoch 142/150\n",
            "56/56 [==============================] - 20s 355ms/step - loss: 0.1502\n",
            "Epoch 143/150\n",
            "56/56 [==============================] - 19s 335ms/step - loss: 0.1479\n",
            "Epoch 144/150\n",
            "56/56 [==============================] - 19s 336ms/step - loss: 0.1722\n",
            "Epoch 145/150\n",
            "56/56 [==============================] - 19s 337ms/step - loss: 0.1723\n",
            "Epoch 146/150\n",
            "56/56 [==============================] - 19s 336ms/step - loss: 0.1480\n",
            "Epoch 147/150\n",
            "56/56 [==============================] - 19s 336ms/step - loss: 0.1441\n",
            "Epoch 148/150\n",
            "56/56 [==============================] - 19s 337ms/step - loss: 0.1446\n",
            "Epoch 149/150\n",
            "56/56 [==============================] - 19s 337ms/step - loss: 0.1418\n",
            "Epoch 150/150\n",
            "56/56 [==============================] - 20s 350ms/step - loss: 0.1398\n"
          ]
        }
      ]
    },
    {
      "cell_type": "code",
      "source": [
        "tf.train.latest_checkpoint(checkpoint_dir)"
      ],
      "metadata": {
        "colab": {
          "base_uri": "https://localhost:8080/",
          "height": 35
        },
        "id": "EPHwPukElIx2",
        "outputId": "300fa677-f8f5-4656-aac1-42712455fd69"
      },
      "execution_count": 46,
      "outputs": [
        {
          "output_type": "execute_result",
          "data": {
            "text/plain": [
              "'./training_checkpoints/ckpt_150'"
            ],
            "application/vnd.google.colaboratory.intrinsic+json": {
              "type": "string"
            }
          },
          "metadata": {},
          "execution_count": 46
        }
      ]
    },
    {
      "cell_type": "code",
      "source": [
        "model = build_model(vocab_size, embedding_dim, rnn_units, batch_size=1)\n",
        "model.load_weights(tf.train.latest_checkpoint(checkpoint_dir))\n",
        "model.build(tf.TensorShape([1, None]))"
      ],
      "metadata": {
        "id": "g44Vbdh0lTwP"
      },
      "execution_count": 47,
      "outputs": []
    },
    {
      "cell_type": "code",
      "source": [
        "def generate_text(model, start_string):\n",
        "    # Evaluation step (generating text using the learned model)\n",
        "\n",
        "    # Number of characters to generate\n",
        "    num_generate = 500\n",
        "\n",
        "    # Converting our start string to numbers (vectorizing)\n",
        "    input_eval = [char2idx[s] for s in start_string]\n",
        "    input_eval = tf.expand_dims(input_eval, 0)\n",
        "\n",
        "    # Empty string to store our results\n",
        "    text_generated = []\n",
        "\n",
        "    # Low temperature results in more predictable text.\n",
        "    # Higher temperature results in more surprising text.\n",
        "    # Experiment to find the best setting.\n",
        "    temperature = 0.0001\n",
        "\n",
        "    # Here batch size == 1\n",
        "    model.reset_states()\n",
        "    for i in range(num_generate):\n",
        "        predictions = model(input_eval)\n",
        "        predictions = tf.squeeze(predictions, 0)\n",
        "        # using a categorical distribution to predict the character returned by the model\n",
        "        predictions = predictions / temperature\n",
        "        predicted_id = tf.random.categorical(predictions, num_samples=1)[-1, 0].numpy()\n",
        "\n",
        "        # Pass the predicted character as the next input to the model\n",
        "        # along with the previous hidden state\n",
        "        input_eval = tf.expand_dims([predicted_id], 0)\n",
        "\n",
        "        text_generated.append(idx2char[predicted_id])\n",
        "\n",
        "    return (start_string + ''.join(text_generated))"
      ],
      "metadata": {
        "id": "YDIszp8wlhKq"
      },
      "execution_count": 52,
      "outputs": []
    },
    {
      "cell_type": "markdown",
      "source": [
        "Температура 1"
      ],
      "metadata": {
        "id": "uuailp9Wloqh"
      }
    },
    {
      "cell_type": "code",
      "source": [
        "text_ = generate_text(model, start_string=u\"И вот идет уже \")\n",
        "print(text_)"
      ],
      "metadata": {
        "colab": {
          "base_uri": "https://localhost:8080/"
        },
        "id": "-tMDKCW3lkL7",
        "outputId": "2bcd96d7-b684-454b-8db0-80179597a52e"
      },
      "execution_count": 49,
      "outputs": [
        {
          "output_type": "stream",
          "name": "stdout",
          "text": [
            "И вот идет уже для света,\n",
            "                        Забвенье жизни в бурях света,\n",
            "                        Беседу слышит за собой,\n",
            "                      И она в сенях;\n",
            "                        За ней ленивей волочусь.\n",
            "                                    Все думать, думать об одном\n",
            "                        И день и ночь проводит\n",
            "                                 Он занят Ольгою своей.\n",
            "                        Летучие листки альбома\n",
            "                       За ним сначала и не мог\n",
            "                        Кто прежней Тани\n"
          ]
        }
      ]
    },
    {
      "cell_type": "markdown",
      "source": [
        "Температура 0.1"
      ],
      "metadata": {
        "id": "NdV-FDXLlrqK"
      }
    },
    {
      "cell_type": "code",
      "source": [
        "text_ = generate_text(model, start_string=u\"И вот идет уже \")\n",
        "print(text_)"
      ],
      "metadata": {
        "colab": {
          "base_uri": "https://localhost:8080/"
        },
        "id": "5tS4t-ZGlwXx",
        "outputId": "149b04fb-4ced-4339-e6c5-4431243c7eb8"
      },
      "execution_count": 51,
      "outputs": [
        {
          "output_type": "stream",
          "name": "stdout",
          "text": [
            "И вот идет уже для света,\n",
            "                        Гут\n",
            "                        И для Татьяны наконец\n",
            "                        Его с разрозненной \"Мальвиной вешно развалась,\n",
            "                                                                                                                                                                                                                                                                                                                                                        \n"
          ]
        }
      ]
    },
    {
      "cell_type": "markdown",
      "source": [
        "Температура 0.0001"
      ],
      "metadata": {
        "id": "hVNvYalYl08J"
      }
    },
    {
      "cell_type": "code",
      "source": [
        "text_ = generate_text(model, start_string=u\"И вот идет уже \")\n",
        "print(text_)"
      ],
      "metadata": {
        "colab": {
          "base_uri": "https://localhost:8080/"
        },
        "id": "DaGwzHwXl6pR",
        "outputId": "fa02e8da-389d-4987-a586-120cac330f8e"
      },
      "execution_count": 53,
      "outputs": [
        {
          "output_type": "stream",
          "name": "stdout",
          "text": [
            "И вот идет уже для света,\n",
            "                        Хоть иногда и самом\n",
            "                        И в самом ужасе она:\n",
            "                        Так нас природа сотворила,\n",
            "                                                                                                                                                                                                                                                                                                                                                             \n"
          ]
        }
      ]
    },
    {
      "cell_type": "markdown",
      "source": [
        "Увеличение количества батчей существенно повлияло на качество модели"
      ],
      "metadata": {
        "id": "3HakUX3smHbJ"
      }
    },
    {
      "cell_type": "code",
      "source": [],
      "metadata": {
        "id": "pWPGN28cmNBm"
      },
      "execution_count": null,
      "outputs": []
    }
  ]
}